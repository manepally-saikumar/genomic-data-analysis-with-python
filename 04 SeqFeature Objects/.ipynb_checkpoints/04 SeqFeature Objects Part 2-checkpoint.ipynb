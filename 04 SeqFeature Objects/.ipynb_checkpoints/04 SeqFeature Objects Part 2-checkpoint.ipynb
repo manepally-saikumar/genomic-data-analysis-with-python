{
 "cells": [
  {
   "cell_type": "markdown",
   "metadata": {},
   "source": [
    "![rmotr](https://user-images.githubusercontent.com/7065401/52071918-bda15380-2562-11e9-828c-7f95297e4a82.png)\n",
    "<hr style=\"margin-bottom: 40px;\">\n",
    "\n",
    "![filo_virion](https://user-images.githubusercontent.com/22747792/73687685-7111bc00-467f-11ea-906e-e16132529840.png)\n",
    "\n",
    "# Python for Genomics \n",
    "## Section 5: Extracting Sequences \n",
    "\n",
    "![purple-divider](https://user-images.githubusercontent.com/7065401/52071927-c1cd7100-2562-11e9-908a-dde91ba14e59.png)\n",
    "\n",
    "\n"
   ]
  },
  {
   "cell_type": "markdown",
   "metadata": {},
   "source": [
    "![green-divider](https://user-images.githubusercontent.com/7065401/52071924-c003ad80-2562-11e9-8297-1c6595f8a7ff.png)\n",
    "\n",
    "## Now let's start pulling in sequences using everything we know about Seq obj, SeqRecord Obj, and SeqFeatures!\n"
   ]
  },
  {
   "cell_type": "markdown",
   "metadata": {},
   "source": [
    "The Gire, et al. paper states:\n",
    "\n",
    "\"One notable intrahost variation is the RNA editing site of the glycoprotein (GP) gene ...\"\n",
    "\n",
    "So let's look into the glycoprotein (GP in yellow, below) gene. \n",
    "\n",
    "![filo_genome](https://user-images.githubusercontent.com/22747792/73678324-02c3fe00-466d-11ea-90f9-73ea6e741877.png)"
   ]
  },
  {
   "cell_type": "markdown",
   "metadata": {},
   "source": [
    "---\n",
    "\n",
    "Let's start with a single genbank file from KM034562.\n",
    "\n",
    "We are looking a feature that is a gene called GP.\n",
    "\n",
    "First we need to figure what we features we have in this record. I feel it is easiest to view the types of features and go from there.\n",
    "\n",
    "What kinds of feature 'types' are available for KM034562?"
   ]
  },
  {
   "cell_type": "code",
   "execution_count": 4,
   "metadata": {},
   "outputs": [
    {
     "data": {
      "text/plain": [
       "SeqRecord(seq=Seq('CGGACACACAAAAAGAAAGAAGAATTTTTAGGATCTTTTGTGTGCGAATAACTA...GTC', IUPACAmbiguousDNA()), id='KM034562.1', name='KM034562', description='Zaire ebolavirus isolate Ebola virus/H.sapiens-wt/SLE/2014/Makona-G3686.1, complete genome', dbxrefs=['BioProject:PRJNA257197', 'BioSample:SAMN02951978'])"
      ]
     },
     "execution_count": 4,
     "metadata": {},
     "output_type": "execute_result"
    }
   ],
   "source": [
    "from Bio import SeqIO\n",
    "\n",
    "ebola_gb = SeqIO.read('data/KM034562.gb', 'genbank')\n",
    "ebola_gb"
   ]
  },
  {
   "cell_type": "code",
   "execution_count": 5,
   "metadata": {},
   "outputs": [
    {
     "data": {
      "text/plain": [
       "['source',\n",
       " 'gene',\n",
       " 'mRNA',\n",
       " 'regulatory',\n",
       " 'CDS',\n",
       " 'regulatory',\n",
       " 'gene',\n",
       " 'mRNA',\n",
       " 'regulatory',\n",
       " 'CDS',\n",
       " 'gene',\n",
       " 'mRNA',\n",
       " 'regulatory',\n",
       " 'regulatory',\n",
       " 'CDS',\n",
       " 'regulatory',\n",
       " 'gene',\n",
       " 'regulatory',\n",
       " 'mRNA',\n",
       " 'CDS',\n",
       " 'mRNA',\n",
       " 'CDS',\n",
       " 'mRNA',\n",
       " 'CDS',\n",
       " 'misc_feature',\n",
       " 'misc_feature',\n",
       " 'gene',\n",
       " 'mRNA',\n",
       " 'regulatory',\n",
       " 'regulatory',\n",
       " 'CDS',\n",
       " 'regulatory',\n",
       " 'gene',\n",
       " 'mRNA',\n",
       " 'regulatory',\n",
       " 'CDS',\n",
       " 'regulatory',\n",
       " 'gene',\n",
       " 'mRNA',\n",
       " 'regulatory',\n",
       " 'regulatory',\n",
       " 'CDS',\n",
       " 'regulatory']"
      ]
     },
     "execution_count": 5,
     "metadata": {},
     "output_type": "execute_result"
    }
   ],
   "source": [
    "list(feature.type for feature in ebola_gb.features)"
   ]
  },
  {
   "cell_type": "markdown",
   "metadata": {},
   "source": [
    "Let's place all of our genes in a list so we can find our GP sequence. (remember, they will be in SeqFeature objs) \n",
    "\n",
    "## The process follows this logic:\n",
    "\n",
    "1. Read in file containing genbank record\n",
    "2. Within that record, loop through each feature\n",
    "3. Is the feature of type 'gene'?\n",
    "4. If so, please add to our list\n",
    "5. Next feature..."
   ]
  },
  {
   "cell_type": "code",
   "execution_count": 7,
   "metadata": {},
   "outputs": [
    {
     "name": "stdout",
     "output_type": "stream",
     "text": [
      "There are 7 genes in Zaire ebolavirus isolate Ebola virus/H.sapiens-wt/SLE/2014/Makona-G3686.1, complete genome\n"
     ]
    }
   ],
   "source": [
    "gene_list = []\n",
    "\n",
    "ebola_gb = SeqIO.read('data/KM034562.gb', 'genbank')\n",
    "\n",
    "for feature in ebola_gb.features:\n",
    "    if feature.type == 'gene':\n",
    "        gene_list.append(feature)\n",
    "    \n",
    "        \n",
    "print(\"There are %s genes in %s\" % (str(len(gene_list)), ebola_gb.description))"
   ]
  },
  {
   "cell_type": "markdown",
   "metadata": {},
   "source": [
    "Awesome, looks like we've found our genes, but can we get the names of the genes? "
   ]
  },
  {
   "cell_type": "code",
   "execution_count": 8,
   "metadata": {},
   "outputs": [
    {
     "data": {
      "text/plain": [
       "[SeqFeature(FeatureLocation(ExactPosition(55), ExactPosition(3026), strand=1), type='gene'),\n",
       " SeqFeature(FeatureLocation(ExactPosition(3031), ExactPosition(4407), strand=1), type='gene'),\n",
       " SeqFeature(FeatureLocation(ExactPosition(4389), ExactPosition(5894), strand=1), type='gene'),\n",
       " SeqFeature(FeatureLocation(ExactPosition(5899), ExactPosition(8305), strand=1), type='gene'),\n",
       " SeqFeature(FeatureLocation(ExactPosition(8287), ExactPosition(9740), strand=1), type='gene'),\n",
       " SeqFeature(FeatureLocation(ExactPosition(9884), ExactPosition(11518), strand=1), type='gene'),\n",
       " SeqFeature(FeatureLocation(ExactPosition(11500), ExactPosition(18282), strand=1), type='gene')]"
      ]
     },
     "execution_count": 8,
     "metadata": {},
     "output_type": "execute_result"
    }
   ],
   "source": [
    "gene_list"
   ]
  },
  {
   "cell_type": "markdown",
   "metadata": {},
   "source": [
    "🤔 Looks the names of each genes are hidden within the features.\n",
    "\n",
    "Let's open up one of the features and see if there are any attributes that will specify names of the coding sequences."
   ]
  },
  {
   "cell_type": "code",
   "execution_count": 9,
   "metadata": {},
   "outputs": [
    {
     "data": {
      "text/plain": [
       "['__bool__',\n",
       " '__class__',\n",
       " '__contains__',\n",
       " '__delattr__',\n",
       " '__dict__',\n",
       " '__dir__',\n",
       " '__doc__',\n",
       " '__eq__',\n",
       " '__format__',\n",
       " '__ge__',\n",
       " '__getattribute__',\n",
       " '__gt__',\n",
       " '__hash__',\n",
       " '__init__',\n",
       " '__init_subclass__',\n",
       " '__iter__',\n",
       " '__le__',\n",
       " '__len__',\n",
       " '__lt__',\n",
       " '__module__',\n",
       " '__ne__',\n",
       " '__new__',\n",
       " '__nonzero__',\n",
       " '__reduce__',\n",
       " '__reduce_ex__',\n",
       " '__repr__',\n",
       " '__setattr__',\n",
       " '__sizeof__',\n",
       " '__str__',\n",
       " '__subclasshook__',\n",
       " '__weakref__',\n",
       " '_flip',\n",
       " '_get_location_operator',\n",
       " '_get_ref',\n",
       " '_get_ref_db',\n",
       " '_get_strand',\n",
       " '_set_location_operator',\n",
       " '_set_ref',\n",
       " '_set_ref_db',\n",
       " '_set_strand',\n",
       " '_shift',\n",
       " 'extract',\n",
       " 'id',\n",
       " 'location',\n",
       " 'location_operator',\n",
       " 'qualifiers',\n",
       " 'ref',\n",
       " 'ref_db',\n",
       " 'strand',\n",
       " 'translate',\n",
       " 'type']"
      ]
     },
     "execution_count": 9,
     "metadata": {},
     "output_type": "execute_result"
    }
   ],
   "source": [
    "dir(gene_list[0])"
   ]
  },
  {
   "cell_type": "markdown",
   "metadata": {},
   "source": [
    "The qualifiers are where the gene names hang out. So if I look at the qualifier attribute for the first feature in my gene_list:"
   ]
  },
  {
   "cell_type": "code",
   "execution_count": 10,
   "metadata": {},
   "outputs": [
    {
     "data": {
      "text/plain": [
       "OrderedDict([('gene', ['NP'])])"
      ]
     },
     "execution_count": 10,
     "metadata": {},
     "output_type": "execute_result"
    }
   ],
   "source": [
    "# we see that the names are contained within a dictionary, and the gene name is contained in a list\n",
    "\n",
    "gene_list[0].qualifiers"
   ]
  },
  {
   "cell_type": "code",
   "execution_count": 11,
   "metadata": {},
   "outputs": [
    {
     "name": "stdout",
     "output_type": "stream",
     "text": [
      "['NP']\n",
      "['VP35']\n",
      "['VP40']\n",
      "['GP']\n",
      "['VP30']\n",
      "['VP24']\n",
      "['L']\n"
     ]
    }
   ],
   "source": [
    "# accessing the names can be done by using the keys, in this case 'gene'\n",
    "\n",
    "for gene in gene_list:\n",
    "    print(gene.qualifiers['gene'])"
   ]
  },
  {
   "cell_type": "markdown",
   "metadata": {},
   "source": [
    "Ok, we're getting deep into these SeqFeature objects but we're getting closer to obtaining our sequence.\n",
    "\n",
    "We have a list of features that are of the type 'gene', and of those, we are selecting the one is is named 'GP'.\n",
    "\n",
    "We do this by looking into the qualifiers for each SeqFeature object."
   ]
  },
  {
   "cell_type": "code",
   "execution_count": 13,
   "metadata": {},
   "outputs": [
    {
     "name": "stdout",
     "output_type": "stream",
     "text": [
      "type: gene\n",
      "location: [5899:8305](+)\n",
      "qualifiers:\n",
      "    Key: gene, Value: ['GP']\n",
      "\n"
     ]
    }
   ],
   "source": [
    "for gene in gene_list:\n",
    "    if gene.qualifiers['gene'] == ['GP']:\n",
    "        print(gene)"
   ]
  },
  {
   "cell_type": "code",
   "execution_count": 14,
   "metadata": {},
   "outputs": [
    {
     "data": {
      "text/plain": [
       "Seq('GATGAAGATTAAGCCGACAGTGAGCGTAATCTTCATCTCTCTTAGATTATTTGT...AAA', IUPACAmbiguousDNA())"
      ]
     },
     "execution_count": 14,
     "metadata": {},
     "output_type": "execute_result"
    }
   ],
   "source": [
    "# Remember to use the parent sequence for extract method. \n",
    "# Use the `.seq` attribute to retreive the Seq Object within the ebola_gb SeqRecord.\n",
    "\n",
    "for gene in gene_list:\n",
    "    if gene.qualifiers['gene'] == ['GP']:\n",
    "        GP_sequence = gene.extract(ebola_gb.seq)\n",
    "\n",
    "GP_sequence"
   ]
  },
  {
   "cell_type": "markdown",
   "metadata": {},
   "source": [
    "Et voila! We extacted the sequence of that feature by using the `.extract()` method - and passing the parent sequence as the argument."
   ]
  },
  {
   "cell_type": "markdown",
   "metadata": {},
   "source": [
    "![green-divider](https://user-images.githubusercontent.com/7065401/52071924-c003ad80-2562-11e9-8297-1c6595f8a7ff.png)\n",
    "\n",
    "## For multiple records we use the same methodology, just with a loop\n",
    "\n",
    "So we have our BioProject PRJNA2571:"
   ]
  },
  {
   "cell_type": "code",
   "execution_count": 16,
   "metadata": {},
   "outputs": [
    {
     "data": {
      "text/html": [
       "\n",
       "        <iframe\n",
       "            width=\"800\"\n",
       "            height=\"400\"\n",
       "            src=\"https://www.ncbi.nlm.nih.gov/bioproject/?term=PRJNA257197\"\n",
       "            frameborder=\"0\"\n",
       "            allowfullscreen\n",
       "        ></iframe>\n",
       "        "
      ],
      "text/plain": [
       "<IPython.lib.display.IFrame at 0x7ff9e8ec6b80>"
      ]
     },
     "execution_count": 16,
     "metadata": {},
     "output_type": "execute_result"
    }
   ],
   "source": [
    "from IPython.display import IFrame\n",
    "url = \"https://www.ncbi.nlm.nih.gov/bioproject/?term=PRJNA257197\"\n",
    "IFrame(url, 800, 400)"
   ]
  },
  {
   "cell_type": "markdown",
   "metadata": {},
   "source": [
    "## The process follows this logic:\n",
    "\n",
    "1. Read in large file containing multiple genbank records\n",
    "2. Loop through each record\n",
    "3. Within that record, loop through each feature\n",
    "4. Is the feature of type 'gene' and with a qualifier of name 'GP'?\n",
    "5. Extract that sequence, and place it in our list.\n",
    "6. Next record...and so on."
   ]
  },
  {
   "cell_type": "code",
   "execution_count": 17,
   "metadata": {},
   "outputs": [
    {
     "data": {
      "text/plain": [
       "[Seq('GATGAAGATTAAGCCGACAGTGAGCGTAATCTTCATCTCTCTTAGATTATTTGT...AAA', IUPACAmbiguousDNA()),\n",
       " Seq('GATGAAGATTAAGCCGACAGTGAGCGTAATCTTCATCTCTCTTAGATTATTTGT...AAA', IUPACAmbiguousDNA()),\n",
       " Seq('GATGAAGATTAAGCCGACAGTGAGCGTAATCTTCATCTCTCTTAGATTATTTGT...AAA', IUPACAmbiguousDNA()),\n",
       " Seq('GATGAAGATTAAGCCGACAGTGAGCGTAATCTTCATCTCTCTTAGATTATTTGT...AAA', IUPACAmbiguousDNA())]"
      ]
     },
     "execution_count": 17,
     "metadata": {},
     "output_type": "execute_result"
    }
   ],
   "source": [
    "bioproject = SeqIO.parse('data/PRJNA257197.gb', 'genbank')\n",
    "GP_list = []\n",
    "\n",
    "for record in bioproject:\n",
    "    for feature in record.features:\n",
    "        if feature.type == 'gene' and feature.qualifiers['gene'] == ['GP']:\n",
    "            GP_gene = feature.extract(record.seq)\n",
    "            GP_list.append(GP_gene)\n",
    "\n",
    "GP_list[0:4]"
   ]
  },
  {
   "cell_type": "markdown",
   "metadata": {},
   "source": [
    "We now have a list of all our GP genes as Seq objects. \n",
    "\n",
    "Let's do a lazy validation and compare counts between our list and our initial file."
   ]
  },
  {
   "cell_type": "code",
   "execution_count": 18,
   "metadata": {},
   "outputs": [
    {
     "name": "stdout",
     "output_type": "stream",
     "text": [
      "There are 249 records in the PRJNA2357197.gb file\n",
      "Our script created 249 Seq Objects in GP_list\n"
     ]
    }
   ],
   "source": [
    "count = 0\n",
    "\n",
    "bioproject = SeqIO.parse('data/PRJNA257197.gb', 'genbank')\n",
    "for rec in bioproject:\n",
    "    count += 1\n",
    "\n",
    "print(\"There are %i records in the PRJNA2357197.gb file\" % count)\n",
    "print(\"Our script created %i Seq Objects in GP_list\" % len(GP_list))"
   ]
  }
 ],
 "metadata": {
  "kernelspec": {
   "display_name": "Python 3",
   "language": "python",
   "name": "python3"
  },
  "language_info": {
   "codemirror_mode": {
    "name": "ipython",
    "version": 3
   },
   "file_extension": ".py",
   "mimetype": "text/x-python",
   "name": "python",
   "nbconvert_exporter": "python",
   "pygments_lexer": "ipython3",
   "version": "3.8.1"
  }
 },
 "nbformat": 4,
 "nbformat_minor": 4
}
