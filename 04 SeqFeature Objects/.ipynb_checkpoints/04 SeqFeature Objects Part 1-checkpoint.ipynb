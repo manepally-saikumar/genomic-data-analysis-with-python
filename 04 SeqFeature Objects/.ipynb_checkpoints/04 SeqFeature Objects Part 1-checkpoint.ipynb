{
 "cells": [
  {
   "cell_type": "markdown",
   "metadata": {},
   "source": [
    "![rmotr](https://user-images.githubusercontent.com/7065401/52071918-bda15380-2562-11e9-828c-7f95297e4a82.png)\n",
    "<hr style=\"margin-bottom: 40px;\">\n",
    "\n",
    "![filo_virion](https://user-images.githubusercontent.com/22747792/73687685-7111bc00-467f-11ea-906e-e16132529840.png)\n",
    "\n",
    "# Python for Genomics \n",
    "## Section 4: SeqFeatures \n",
    "\n",
    "![purple-divider](https://user-images.githubusercontent.com/7065401/52071927-c1cd7100-2562-11e9-908a-dde91ba14e59.png)\n",
    "\n",
    "### To recap, within the SeqRecord, we have:\n",
    "\n",
    "* Seq objects\n",
    "* various metadata, such as the record's: \n",
    "    * name,\n",
    "    * description,\n",
    "    * ID, etc\n",
    "\n",
    "but we also an attribute called 'features'.\n",
    "\n",
    "![green-divider](https://user-images.githubusercontent.com/7065401/52071924-c003ad80-2562-11e9-8297-1c6595f8a7ff.png)\n",
    "\n",
    "\n",
    "\n",
    "\n",
    "Let's investigate:\n"
   ]
  },
  {
   "cell_type": "code",
   "execution_count": 3,
   "metadata": {},
   "outputs": [
    {
     "data": {
      "text/plain": [
       "SeqRecord(seq=Seq('CGGACACACAAAAAGAAAGAAGAATTTTTAGGATCTTTTGTGTGCGAATAACTA...GTC', IUPACAmbiguousDNA()), id='KM034562.1', name='KM034562', description='Zaire ebolavirus isolate Ebola virus/H.sapiens-wt/SLE/2014/Makona-G3686.1, complete genome', dbxrefs=['BioProject:PRJNA257197', 'BioSample:SAMN02951978'])"
      ]
     },
     "execution_count": 3,
     "metadata": {},
     "output_type": "execute_result"
    }
   ],
   "source": [
    "from Bio import SeqIO\n",
    "\n",
    "ebola_gb = SeqIO.read('data/KM034562.gb', 'genbank')\n",
    "ebola_gb"
   ]
  },
  {
   "cell_type": "code",
   "execution_count": 3,
   "metadata": {},
   "outputs": [
    {
     "data": {
      "text/plain": [
       "[SeqFeature(FeatureLocation(ExactPosition(0), ExactPosition(18957), strand=1), type='source'),\n",
       " SeqFeature(FeatureLocation(ExactPosition(55), ExactPosition(3026), strand=1), type='gene'),\n",
       " SeqFeature(FeatureLocation(ExactPosition(55), ExactPosition(3026), strand=1), type='mRNA'),\n",
       " SeqFeature(FeatureLocation(ExactPosition(55), ExactPosition(67), strand=1), type='regulatory'),\n",
       " SeqFeature(FeatureLocation(ExactPosition(469), ExactPosition(2689), strand=1), type='CDS'),\n",
       " SeqFeature(FeatureLocation(ExactPosition(3014), ExactPosition(3026), strand=1), type='regulatory'),\n",
       " SeqFeature(FeatureLocation(ExactPosition(3031), ExactPosition(4407), strand=1), type='gene'),\n",
       " SeqFeature(FeatureLocation(ExactPosition(3031), ExactPosition(4407), strand=1), type='mRNA'),\n",
       " SeqFeature(FeatureLocation(ExactPosition(3031), ExactPosition(3043), strand=1), type='regulatory'),\n",
       " SeqFeature(FeatureLocation(ExactPosition(3128), ExactPosition(4151), strand=1), type='CDS'),\n",
       " SeqFeature(FeatureLocation(ExactPosition(4389), ExactPosition(5894), strand=1), type='gene'),\n",
       " SeqFeature(FeatureLocation(ExactPosition(4389), ExactPosition(5894), strand=1), type='mRNA'),\n",
       " SeqFeature(FeatureLocation(ExactPosition(4389), ExactPosition(4401), strand=1), type='regulatory'),\n",
       " SeqFeature(FeatureLocation(ExactPosition(4396), ExactPosition(4407), strand=1), type='regulatory'),\n",
       " SeqFeature(FeatureLocation(ExactPosition(4478), ExactPosition(5459), strand=1), type='CDS'),\n",
       " SeqFeature(FeatureLocation(ExactPosition(5882), ExactPosition(5894), strand=1), type='regulatory'),\n",
       " SeqFeature(FeatureLocation(ExactPosition(5899), ExactPosition(8305), strand=1), type='gene'),\n",
       " SeqFeature(FeatureLocation(ExactPosition(5899), ExactPosition(5911), strand=1), type='regulatory'),\n",
       " SeqFeature(CompoundLocation([FeatureLocation(BeforePosition(6038), ExactPosition(6923), strand=1), FeatureLocation(ExactPosition(6922), AfterPosition(8068), strand=1)], 'join'), type='mRNA', location_operator='join'),\n",
       " SeqFeature(CompoundLocation([FeatureLocation(ExactPosition(6038), ExactPosition(6923), strand=1), FeatureLocation(ExactPosition(6922), ExactPosition(8068), strand=1)], 'join'), type='CDS', location_operator='join'),\n",
       " SeqFeature(FeatureLocation(BeforePosition(6038), AfterPosition(7133), strand=1), type='mRNA'),\n",
       " SeqFeature(FeatureLocation(ExactPosition(6038), ExactPosition(7133), strand=1), type='CDS'),\n",
       " SeqFeature(CompoundLocation([FeatureLocation(BeforePosition(6038), ExactPosition(6922), strand=1), FeatureLocation(ExactPosition(6923), AfterPosition(6933), strand=1)], 'join'), type='mRNA', location_operator='join'),\n",
       " SeqFeature(CompoundLocation([FeatureLocation(ExactPosition(6038), ExactPosition(6922), strand=1), FeatureLocation(ExactPosition(6923), ExactPosition(6933), strand=1)], 'join'), type='CDS', location_operator='join'),\n",
       " SeqFeature(FeatureLocation(ExactPosition(7525), ExactPosition(7540), strand=1), type='misc_feature'),\n",
       " SeqFeature(FeatureLocation(ExactPosition(7789), ExactPosition(7870), strand=1), type='misc_feature'),\n",
       " SeqFeature(FeatureLocation(ExactPosition(8287), ExactPosition(9740), strand=1), type='gene'),\n",
       " SeqFeature(FeatureLocation(ExactPosition(8287), ExactPosition(9740), strand=1), type='mRNA'),\n",
       " SeqFeature(FeatureLocation(ExactPosition(8287), ExactPosition(8299), strand=1), type='regulatory'),\n",
       " SeqFeature(FeatureLocation(ExactPosition(8294), ExactPosition(8305), strand=1), type='regulatory'),\n",
       " SeqFeature(FeatureLocation(ExactPosition(8508), ExactPosition(9375), strand=1), type='CDS'),\n",
       " SeqFeature(FeatureLocation(ExactPosition(9729), ExactPosition(9740), strand=1), type='regulatory'),\n",
       " SeqFeature(FeatureLocation(ExactPosition(9884), ExactPosition(11518), strand=1), type='gene'),\n",
       " SeqFeature(FeatureLocation(ExactPosition(9884), ExactPosition(11518), strand=1), type='mRNA'),\n",
       " SeqFeature(FeatureLocation(ExactPosition(9884), ExactPosition(9896), strand=1), type='regulatory'),\n",
       " SeqFeature(FeatureLocation(ExactPosition(10344), ExactPosition(11100), strand=1), type='CDS'),\n",
       " SeqFeature(FeatureLocation(ExactPosition(11484), ExactPosition(11496), strand=1), type='regulatory'),\n",
       " SeqFeature(FeatureLocation(ExactPosition(11500), ExactPosition(18282), strand=1), type='gene'),\n",
       " SeqFeature(FeatureLocation(ExactPosition(11500), ExactPosition(18282), strand=1), type='mRNA'),\n",
       " SeqFeature(FeatureLocation(ExactPosition(11500), ExactPosition(11512), strand=1), type='regulatory'),\n",
       " SeqFeature(FeatureLocation(ExactPosition(11507), ExactPosition(11518), strand=1), type='regulatory'),\n",
       " SeqFeature(FeatureLocation(ExactPosition(11580), ExactPosition(18219), strand=1), type='CDS'),\n",
       " SeqFeature(FeatureLocation(ExactPosition(18271), ExactPosition(18282), strand=1), type='regulatory')]"
      ]
     },
     "execution_count": 3,
     "metadata": {},
     "output_type": "execute_result"
    }
   ],
   "source": [
    "ebola_gb.features"
   ]
  },
  {
   "cell_type": "markdown",
   "metadata": {},
   "source": [
    "### The `.features` attribute holds a list of SeqFeature objects.\n",
    "\n",
    "## What is a SeqFeature Object?\n",
    "\n",
    "👉 SeqFeatures objects contain information we know about a sequence, such as genes, and these objects store gene positions, coding seqeuences, etc. \n"
   ]
  },
  {
   "cell_type": "markdown",
   "metadata": {},
   "source": [
    "Here is what it looks like if you were to see it in Genbank:\n",
    "(this is the an Ebola Zaire ref seq)"
   ]
  },
  {
   "cell_type": "code",
   "execution_count": 1,
   "metadata": {},
   "outputs": [
    {
     "data": {
      "text/html": [
       "\n",
       "        <iframe\n",
       "            width=\"800\"\n",
       "            height=\"400\"\n",
       "            src=\"https://www.ncbi.nlm.nih.gov/nuccore/KM034562\"\n",
       "            frameborder=\"0\"\n",
       "            allowfullscreen\n",
       "        ></iframe>\n",
       "        "
      ],
      "text/plain": [
       "<IPython.lib.display.IFrame at 0x7f78c41c83d0>"
      ]
     },
     "execution_count": 1,
     "metadata": {},
     "output_type": "execute_result"
    }
   ],
   "source": [
    "from IPython.display import IFrame\n",
    "url = \"https://www.ncbi.nlm.nih.gov/nuccore/KM034562\"\n",
    "IFrame(url, 800, 400)"
   ]
  },
  {
   "cell_type": "markdown",
   "metadata": {},
   "source": [
    "Knowing that, I could call an object based on its numerical position:"
   ]
  },
  {
   "cell_type": "code",
   "execution_count": 6,
   "metadata": {},
   "outputs": [
    {
     "data": {
      "text/plain": [
       "SeqFeature(FeatureLocation(ExactPosition(55), ExactPosition(67), strand=1), type='regulatory')"
      ]
     },
     "execution_count": 6,
     "metadata": {},
     "output_type": "execute_result"
    }
   ],
   "source": [
    "ebola_gb.features[3]"
   ]
  },
  {
   "cell_type": "markdown",
   "metadata": {},
   "source": [
    "But that's not very helpful, because I'm not sure who would know the order of features within a genome.\n",
    "\n",
    "So we'll use the `dir()` again to explore a single SeqFeature object:"
   ]
  },
  {
   "cell_type": "code",
   "execution_count": 52,
   "metadata": {},
   "outputs": [
    {
     "data": {
      "text/plain": [
       "['__bool__',\n",
       " '__class__',\n",
       " '__contains__',\n",
       " '__delattr__',\n",
       " '__dict__',\n",
       " '__dir__',\n",
       " '__doc__',\n",
       " '__eq__',\n",
       " '__format__',\n",
       " '__ge__',\n",
       " '__getattribute__',\n",
       " '__gt__',\n",
       " '__hash__',\n",
       " '__init__',\n",
       " '__init_subclass__',\n",
       " '__iter__',\n",
       " '__le__',\n",
       " '__len__',\n",
       " '__lt__',\n",
       " '__module__',\n",
       " '__ne__',\n",
       " '__new__',\n",
       " '__nonzero__',\n",
       " '__reduce__',\n",
       " '__reduce_ex__',\n",
       " '__repr__',\n",
       " '__setattr__',\n",
       " '__sizeof__',\n",
       " '__str__',\n",
       " '__subclasshook__',\n",
       " '__weakref__',\n",
       " '_flip',\n",
       " '_get_location_operator',\n",
       " '_get_ref',\n",
       " '_get_ref_db',\n",
       " '_get_strand',\n",
       " '_set_location_operator',\n",
       " '_set_ref',\n",
       " '_set_ref_db',\n",
       " '_set_strand',\n",
       " '_shift',\n",
       " 'extract',\n",
       " 'id',\n",
       " 'location',\n",
       " 'location_operator',\n",
       " 'qualifiers',\n",
       " 'ref',\n",
       " 'ref_db',\n",
       " 'strand',\n",
       " 'translate',\n",
       " 'type']"
      ]
     },
     "execution_count": 52,
     "metadata": {},
     "output_type": "execute_result"
    }
   ],
   "source": [
    "dir(ebola_gb.features[3])"
   ]
  },
  {
   "cell_type": "markdown",
   "metadata": {},
   "source": [
    "![green-divider](https://user-images.githubusercontent.com/7065401/52071924-c003ad80-2562-11e9-8297-1c6595f8a7ff.png)\n",
    "\n",
    "## How do get the sequence contained in a SeqFeature object?\n",
    "\n",
    "There is a handy `.extract()` method that extracts sequence from a specified feature. All we need is to specify the parent sequence (a seq obj) as the argument.\n",
    "\n",
    "Say we've identified some feature, `my_feat` (number 3 from the list), and we need to grab the sequence associated with it.\n"
   ]
  },
  {
   "cell_type": "code",
   "execution_count": 5,
   "metadata": {},
   "outputs": [
    {
     "data": {
      "text/plain": [
       "SeqFeature(FeatureLocation(ExactPosition(55), ExactPosition(67), strand=1), type='regulatory')"
      ]
     },
     "execution_count": 5,
     "metadata": {},
     "output_type": "execute_result"
    }
   ],
   "source": [
    "my_feat = ebola_gb.features[3]\n",
    "my_feat"
   ]
  },
  {
   "cell_type": "code",
   "execution_count": 6,
   "metadata": {},
   "outputs": [
    {
     "data": {
      "text/plain": [
       "Seq('GAGGAAGATTAA', IUPACAmbiguousDNA())"
      ]
     },
     "execution_count": 6,
     "metadata": {},
     "output_type": "execute_result"
    }
   ],
   "source": [
    "my_feat.extract(ebola_gb.seq)"
   ]
  },
  {
   "cell_type": "markdown",
   "metadata": {},
   "source": [
    "![green-divider](https://user-images.githubusercontent.com/7065401/52071924-c003ad80-2562-11e9-8297-1c6595f8a7ff.png)\n",
    "\n",
    "## Now let's start pulling in sequences using everything we know about Seq obj, SeqRecord Obj, and SeqFeatures!\n"
   ]
  },
  {
   "cell_type": "markdown",
   "metadata": {},
   "source": [
    "The Gire, et al. paper states:\n",
    "\n",
    "\"One notable intrahost variation is the RNA editing site of the glycoprotein (GP) gene, which we characterized in patients.\"\n",
    "\n",
    "So let's look into the glycoprotein (GP in yellow, below) gene. \n",
    "\n",
    "![filo_genome](https://user-images.githubusercontent.com/22747792/73678324-02c3fe00-466d-11ea-90f9-73ea6e741877.png)\n",
    "\n",
    "Let's start with a single genbank file from KM034562.\n",
    "\n",
    "We are looking a seqfeature that is a gene called GP.\n",
    "\n",
    "First we need to figure what we features we have in this record. I feel it is easiest to view the types and go from there.\n",
    "\n",
    "What kinds of feature 'types' are available for KM034562?"
   ]
  },
  {
   "cell_type": "code",
   "execution_count": 12,
   "metadata": {},
   "outputs": [
    {
     "data": {
      "text/plain": [
       "['source',\n",
       " 'gene',\n",
       " 'mRNA',\n",
       " 'regulatory',\n",
       " 'CDS',\n",
       " 'regulatory',\n",
       " 'gene',\n",
       " 'mRNA',\n",
       " 'regulatory',\n",
       " 'CDS',\n",
       " 'gene',\n",
       " 'mRNA',\n",
       " 'regulatory',\n",
       " 'regulatory',\n",
       " 'CDS',\n",
       " 'regulatory',\n",
       " 'gene',\n",
       " 'regulatory',\n",
       " 'mRNA',\n",
       " 'CDS',\n",
       " 'mRNA',\n",
       " 'CDS',\n",
       " 'mRNA',\n",
       " 'CDS',\n",
       " 'misc_feature',\n",
       " 'misc_feature',\n",
       " 'gene',\n",
       " 'mRNA',\n",
       " 'regulatory',\n",
       " 'regulatory',\n",
       " 'CDS',\n",
       " 'regulatory',\n",
       " 'gene',\n",
       " 'mRNA',\n",
       " 'regulatory',\n",
       " 'CDS',\n",
       " 'regulatory',\n",
       " 'gene',\n",
       " 'mRNA',\n",
       " 'regulatory',\n",
       " 'regulatory',\n",
       " 'CDS',\n",
       " 'regulatory']"
      ]
     },
     "execution_count": 12,
     "metadata": {},
     "output_type": "execute_result"
    }
   ],
   "source": [
    "list(feature.type for feature in ebola_gb.features)\n"
   ]
  },
  {
   "cell_type": "markdown",
   "metadata": {},
   "source": [
    "We are looking for the GP 'gene', as this will contain the sequences we will need.\n",
    "\n",
    "![178-Ebola_Virus_Proteins-EbolaProteins2018](https://user-images.githubusercontent.com/22747792/73787722-b5b95800-4750-11ea-85cf-d94489fa5ce9.jpg)\n",
    "\n",
    "\"... GP sequences ... {encodes for proteins that} interact directly with the host immune system and therefore are expected to evolve by positive selection.\"\n",
    "https://www.ncbi.nlm.nih.gov/pmc/articles/PMC4968807/#pone.0160410.s001\n",
    "\n",
    "Variation within Ebola genomes is most common .. within specific areas of the genes encoding the glycoprotein (GP), nucleoprotein (NP) and polymerase (L); genomic conservation and epitope prediction, combined with glycosylation sites and experimentally determined epitopes, can identify the most promising regions for the development of therapeutic strategies.\"\n",
    "https://www.ncbi.nlm.nih.gov/pmc/articles/PMC4551310/\n",
    "\n",
    "\n",
    "Let's place all of our genes (remember, they will be in SeqFeature objs) in a list so we can investigate further."
   ]
  },
  {
   "cell_type": "code",
   "execution_count": 16,
   "metadata": {},
   "outputs": [
    {
     "name": "stdout",
     "output_type": "stream",
     "text": [
      "There are 7 genes in Zaire ebolavirus isolate Ebola virus/H.sapiens-wt/SLE/2014/Makona-G3686.1, complete genome\n"
     ]
    }
   ],
   "source": [
    "gene_list = []\n",
    "\n",
    "ebola_gb = SeqIO.read('data/KM034562.gb', 'genbank')\n",
    "\n",
    "for feature in ebola_gb.features:\n",
    "    if feature.type == 'gene':\n",
    "        gene_list.append(feature)\n",
    "    \n",
    "        \n",
    "print(\"There are %s genes in %s\" % (str(len(gene_list)), ebola_gb.description))"
   ]
  },
  {
   "cell_type": "markdown",
   "metadata": {},
   "source": [
    "Awesome, looking at the map above it looks like we've found our genes, but can we get the names of the genes? "
   ]
  },
  {
   "cell_type": "code",
   "execution_count": 63,
   "metadata": {},
   "outputs": [
    {
     "data": {
      "text/plain": [
       "[SeqFeature(FeatureLocation(ExactPosition(55), ExactPosition(3026), strand=1), type='gene'),\n",
       " SeqFeature(FeatureLocation(ExactPosition(3031), ExactPosition(4407), strand=1), type='gene'),\n",
       " SeqFeature(FeatureLocation(ExactPosition(4389), ExactPosition(5894), strand=1), type='gene'),\n",
       " SeqFeature(FeatureLocation(ExactPosition(5899), ExactPosition(8305), strand=1), type='gene'),\n",
       " SeqFeature(FeatureLocation(ExactPosition(8287), ExactPosition(9740), strand=1), type='gene'),\n",
       " SeqFeature(FeatureLocation(ExactPosition(9884), ExactPosition(11518), strand=1), type='gene'),\n",
       " SeqFeature(FeatureLocation(ExactPosition(11500), ExactPosition(18282), strand=1), type='gene')]"
      ]
     },
     "execution_count": 63,
     "metadata": {},
     "output_type": "execute_result"
    }
   ],
   "source": [
    "gene_list"
   ]
  },
  {
   "cell_type": "markdown",
   "metadata": {},
   "source": [
    "🤔 Looks the names of each genes are hidden within the features.\n",
    "\n",
    "Let's open up one of the features and see if there are any attributes that will specify names of the coding sequences."
   ]
  },
  {
   "cell_type": "code",
   "execution_count": 64,
   "metadata": {},
   "outputs": [
    {
     "data": {
      "text/plain": [
       "['__bool__',\n",
       " '__class__',\n",
       " '__contains__',\n",
       " '__delattr__',\n",
       " '__dict__',\n",
       " '__dir__',\n",
       " '__doc__',\n",
       " '__eq__',\n",
       " '__format__',\n",
       " '__ge__',\n",
       " '__getattribute__',\n",
       " '__gt__',\n",
       " '__hash__',\n",
       " '__init__',\n",
       " '__init_subclass__',\n",
       " '__iter__',\n",
       " '__le__',\n",
       " '__len__',\n",
       " '__lt__',\n",
       " '__module__',\n",
       " '__ne__',\n",
       " '__new__',\n",
       " '__nonzero__',\n",
       " '__reduce__',\n",
       " '__reduce_ex__',\n",
       " '__repr__',\n",
       " '__setattr__',\n",
       " '__sizeof__',\n",
       " '__str__',\n",
       " '__subclasshook__',\n",
       " '__weakref__',\n",
       " '_flip',\n",
       " '_get_location_operator',\n",
       " '_get_ref',\n",
       " '_get_ref_db',\n",
       " '_get_strand',\n",
       " '_set_location_operator',\n",
       " '_set_ref',\n",
       " '_set_ref_db',\n",
       " '_set_strand',\n",
       " '_shift',\n",
       " 'extract',\n",
       " 'id',\n",
       " 'location',\n",
       " 'location_operator',\n",
       " 'qualifiers',\n",
       " 'ref',\n",
       " 'ref_db',\n",
       " 'strand',\n",
       " 'translate',\n",
       " 'type']"
      ]
     },
     "execution_count": 64,
     "metadata": {},
     "output_type": "execute_result"
    }
   ],
   "source": [
    "dir(gene_list[0])"
   ]
  },
  {
   "cell_type": "markdown",
   "metadata": {},
   "source": [
    "The qualifiers are where the gene names hang out. So if I look at the qualifier attribute for the first feature in my gene_list:"
   ]
  },
  {
   "cell_type": "code",
   "execution_count": 75,
   "metadata": {},
   "outputs": [
    {
     "data": {
      "text/plain": [
       "OrderedDict([('gene', ['NP'])])"
      ]
     },
     "execution_count": 75,
     "metadata": {},
     "output_type": "execute_result"
    }
   ],
   "source": [
    "# we see that the names are contained within a dictionary, and the gene name is contained in a list\n",
    "\n",
    "gene_list[0].qualifiers"
   ]
  },
  {
   "cell_type": "code",
   "execution_count": 77,
   "metadata": {},
   "outputs": [
    {
     "name": "stdout",
     "output_type": "stream",
     "text": [
      "['NP']\n",
      "['VP35']\n",
      "['VP40']\n",
      "['GP']\n",
      "['VP30']\n",
      "['VP24']\n",
      "['L']\n"
     ]
    }
   ],
   "source": [
    "# accessing the names can be done by using the keys, in this case 'gene'\n",
    "\n",
    "for gene in gene_list:\n",
    "    print(gene.qualifiers['gene'])"
   ]
  },
  {
   "cell_type": "markdown",
   "metadata": {},
   "source": [
    "Ok, we're getting deep into these SeqfFeature objects but bear with me: we have a list of features that are of the type 'gene', and of those, we are selecting the one is is named 'GP'.\n",
    "We do this by looking into the qualifiers for each SeqFeature object."
   ]
  },
  {
   "cell_type": "code",
   "execution_count": 78,
   "metadata": {},
   "outputs": [
    {
     "name": "stdout",
     "output_type": "stream",
     "text": [
      "type: gene\n",
      "location: [5899:8305](+)\n",
      "qualifiers:\n",
      "    Key: gene, Value: ['GP']\n",
      "\n"
     ]
    }
   ],
   "source": [
    "for gene in gene_list:\n",
    "    if gene.qualifiers['gene'] == ['GP']:\n",
    "        print(gene)"
   ]
  },
  {
   "cell_type": "code",
   "execution_count": 17,
   "metadata": {},
   "outputs": [
    {
     "data": {
      "text/plain": [
       "SeqRecord(seq=Seq('CGGACACACAAAAAGAAAGAAGAATTTTTAGGATCTTTTGTGTGCGAATAACTA...GTC', IUPACAmbiguousDNA()), id='KM034562.1', name='KM034562', description='Zaire ebolavirus isolate Ebola virus/H.sapiens-wt/SLE/2014/Makona-G3686.1, complete genome', dbxrefs=['BioProject:PRJNA257197', 'BioSample:SAMN02951978'])"
      ]
     },
     "execution_count": 17,
     "metadata": {},
     "output_type": "execute_result"
    }
   ],
   "source": [
    "# remember, this variable stored our orginal SeqRecord from reading the KM034562.gb file\n",
    "\n",
    "ebola_gb"
   ]
  },
  {
   "cell_type": "code",
   "execution_count": 18,
   "metadata": {},
   "outputs": [
    {
     "data": {
      "text/plain": [
       "Seq('GATGAAGATTAAGCCGACAGTGAGCGTAATCTTCATCTCTCTTAGATTATTTGT...AAA', IUPACAmbiguousDNA())"
      ]
     },
     "execution_count": 18,
     "metadata": {},
     "output_type": "execute_result"
    }
   ],
   "source": [
    "# use the `.seq` attribute to retreive the Seq Object within the ebola_gb SeqRecord.\n",
    "\n",
    "for gene in gene_list:\n",
    "    if gene.qualifiers['gene'] == ['GP']:\n",
    "        GP = gene.extract(ebola_gb.seq)\n",
    "\n",
    "GP"
   ]
  },
  {
   "cell_type": "markdown",
   "metadata": {},
   "source": [
    "Et voila! We extacted the sequence of that feature by using the `.extract()` method - and passing the parent sequence as the argument."
   ]
  },
  {
   "cell_type": "markdown",
   "metadata": {},
   "source": [
    "![green-divider](https://user-images.githubusercontent.com/7065401/52071924-c003ad80-2562-11e9-8297-1c6595f8a7ff.png)\n",
    "\n",
    "## For multiple records we use the same methodology, just with a loop\n",
    "\n",
    "So we have our BioProject PRJNA2571, which I've downloaded into a singular file in genbank format."
   ]
  },
  {
   "cell_type": "code",
   "execution_count": 19,
   "metadata": {},
   "outputs": [
    {
     "data": {
      "text/html": [
       "\n",
       "        <iframe\n",
       "            width=\"800\"\n",
       "            height=\"400\"\n",
       "            src=\"https://www.ncbi.nlm.nih.gov/bioproject/?term=PRJNA257197\"\n",
       "            frameborder=\"0\"\n",
       "            allowfullscreen\n",
       "        ></iframe>\n",
       "        "
      ],
      "text/plain": [
       "<IPython.lib.display.IFrame at 0x7f77970a1190>"
      ]
     },
     "execution_count": 19,
     "metadata": {},
     "output_type": "execute_result"
    }
   ],
   "source": [
    "from IPython.display import IFrame\n",
    "url = \"https://www.ncbi.nlm.nih.gov/bioproject/?term=PRJNA257197\"\n",
    "IFrame(url, 800, 400)"
   ]
  },
  {
   "cell_type": "markdown",
   "metadata": {},
   "source": [
    "## The process would follow this logic:\n",
    "\n",
    "1. Read in large file using SeqIO parser\n",
    "2. Loop through each record\n",
    "3. Within that record, loop through each feature\n",
    "4. Is the feature of type 'gene' and with a qualifier of name 'GP'?\n",
    "5. Extract that sequence, and place it in our list.\n",
    "6. Next record...and so on."
   ]
  },
  {
   "cell_type": "code",
   "execution_count": 23,
   "metadata": {},
   "outputs": [
    {
     "data": {
      "text/plain": [
       "[Seq('GATGAAGATTAAGCCGACAGTGAGCGTAATCTTCATCTCTCTTAGATTATTTGT...AAA', IUPACAmbiguousDNA()),\n",
       " Seq('GATGAAGATTAAGCCGACAGTGAGCGTAATCTTCATCTCTCTTAGATTATTTGT...AAA', IUPACAmbiguousDNA()),\n",
       " Seq('GATGAAGATTAAGCCGACAGTGAGCGTAATCTTCATCTCTCTTAGATTATTTGT...AAA', IUPACAmbiguousDNA()),\n",
       " Seq('GATGAAGATTAAGCCGACAGTGAGCGTAATCTTCATCTCTCTTAGATTATTTGT...AAA', IUPACAmbiguousDNA())]"
      ]
     },
     "execution_count": 23,
     "metadata": {},
     "output_type": "execute_result"
    }
   ],
   "source": [
    "bioproject = SeqIO.parse('data/PRJNA257197.gb', 'genbank')\n",
    "GP_list = []\n",
    "\n",
    "for record in bioproject:\n",
    "    for feature in record.features:\n",
    "        if feature.type == 'gene' and feature.qualifiers['gene'] == ['GP']:\n",
    "            GP_gene = feature.extract(record.seq)\n",
    "            GP_list.append(GP_gene)\n",
    "\n",
    "GP_list[1:5]"
   ]
  },
  {
   "cell_type": "markdown",
   "metadata": {},
   "source": [
    "We now have a list of genes. To validate, we will count them, which is a lazy way to see that one GP gene was extracted from every record."
   ]
  },
  {
   "cell_type": "code",
   "execution_count": 25,
   "metadata": {},
   "outputs": [
    {
     "name": "stdout",
     "output_type": "stream",
     "text": [
      "There are 249 records in PRJNA2357197\n",
      "There are 249 genes in GP_list\n"
     ]
    }
   ],
   "source": [
    "#validation\n",
    "\n",
    "count = 0\n",
    "\n",
    "bioproject = SeqIO.parse('data/PRJNA257197.gb', 'genbank')\n",
    "for rec in bioproject:\n",
    "    count += 1\n",
    "\n",
    "print(\"There are %i records in PRJNA2357197\" % count)\n",
    "print(\"There are %i genes in GP_list\" % len(GP_list))"
   ]
  }
 ],
 "metadata": {
  "kernelspec": {
   "display_name": "Python 3",
   "language": "python",
   "name": "python3"
  },
  "language_info": {
   "codemirror_mode": {
    "name": "ipython",
    "version": 3
   },
   "file_extension": ".py",
   "mimetype": "text/x-python",
   "name": "python",
   "nbconvert_exporter": "python",
   "pygments_lexer": "ipython3",
   "version": "3.8.1"
  }
 },
 "nbformat": 4,
 "nbformat_minor": 4
}
