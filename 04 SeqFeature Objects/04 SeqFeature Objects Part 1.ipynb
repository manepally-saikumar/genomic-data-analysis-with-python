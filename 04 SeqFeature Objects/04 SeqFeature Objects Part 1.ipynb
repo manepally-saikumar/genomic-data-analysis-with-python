{
 "cells": [
  {
   "cell_type": "markdown",
   "metadata": {},
   "source": [
    "![rmotr](https://user-images.githubusercontent.com/7065401/52071918-bda15380-2562-11e9-828c-7f95297e4a82.png)\n",
    "<hr style=\"margin-bottom: 40px;\">\n",
    "\n",
    "![filo_virion](https://user-images.githubusercontent.com/22747792/73687685-7111bc00-467f-11ea-906e-e16132529840.png)\n",
    "\n",
    "# Python for Genomics \n",
    "## Section 4.1: SeqFeature Objects, Part 1 \n",
    "\n",
    "![purple-divider](https://user-images.githubusercontent.com/7065401/52071927-c1cd7100-2562-11e9-908a-dde91ba14e59.png)\n",
    "\n",
    "### To recap we've learned about:\n",
    "\n",
    "* Seq objects\n",
    "* SeqRecord objects, which hold:\n",
    "    * Seq Objects, \n",
    "    * sequence name,\n",
    "    * sequence description,\n",
    "    * ID, etc.\n",
    "\n",
    "We also an attribute called 'features'.\n",
    "\n",
    "In this first part on SeqFeatures, we'll cover the basics.\n",
    "\n",
    "![green-divider](https://user-images.githubusercontent.com/7065401/52071924-c003ad80-2562-11e9-8297-1c6595f8a7ff.png)\n",
    "\n",
    "\n",
    "\n",
    "\n",
    "Let's investigate:\n"
   ]
  },
  {
   "cell_type": "code",
   "execution_count": 8,
   "metadata": {},
   "outputs": [
    {
     "data": {
      "text/plain": [
       "SeqRecord(seq=Seq('CGGACACACAAAAAGAAAGAAGAATTTTTAGGATCTTTTGTGTGCGAATAACTA...GTC', IUPACAmbiguousDNA()), id='KM034562.1', name='KM034562', description='Zaire ebolavirus isolate Ebola virus/H.sapiens-wt/SLE/2014/Makona-G3686.1, complete genome', dbxrefs=['BioProject:PRJNA257197', 'BioSample:SAMN02951978'])"
      ]
     },
     "execution_count": 8,
     "metadata": {},
     "output_type": "execute_result"
    }
   ],
   "source": [
    "from Bio import SeqIO\n",
    "\n",
    "ebola_gb = SeqIO.read('data/KM034562.gb', 'genbank')\n",
    "ebola_gb"
   ]
  },
  {
   "cell_type": "code",
   "execution_count": 9,
   "metadata": {},
   "outputs": [
    {
     "data": {
      "text/plain": [
       "[SeqFeature(FeatureLocation(ExactPosition(0), ExactPosition(18957), strand=1), type='source'),\n",
       " SeqFeature(FeatureLocation(ExactPosition(55), ExactPosition(3026), strand=1), type='gene'),\n",
       " SeqFeature(FeatureLocation(ExactPosition(55), ExactPosition(3026), strand=1), type='mRNA'),\n",
       " SeqFeature(FeatureLocation(ExactPosition(55), ExactPosition(67), strand=1), type='regulatory'),\n",
       " SeqFeature(FeatureLocation(ExactPosition(469), ExactPosition(2689), strand=1), type='CDS'),\n",
       " SeqFeature(FeatureLocation(ExactPosition(3014), ExactPosition(3026), strand=1), type='regulatory'),\n",
       " SeqFeature(FeatureLocation(ExactPosition(3031), ExactPosition(4407), strand=1), type='gene'),\n",
       " SeqFeature(FeatureLocation(ExactPosition(3031), ExactPosition(4407), strand=1), type='mRNA'),\n",
       " SeqFeature(FeatureLocation(ExactPosition(3031), ExactPosition(3043), strand=1), type='regulatory'),\n",
       " SeqFeature(FeatureLocation(ExactPosition(3128), ExactPosition(4151), strand=1), type='CDS'),\n",
       " SeqFeature(FeatureLocation(ExactPosition(4389), ExactPosition(5894), strand=1), type='gene'),\n",
       " SeqFeature(FeatureLocation(ExactPosition(4389), ExactPosition(5894), strand=1), type='mRNA'),\n",
       " SeqFeature(FeatureLocation(ExactPosition(4389), ExactPosition(4401), strand=1), type='regulatory'),\n",
       " SeqFeature(FeatureLocation(ExactPosition(4396), ExactPosition(4407), strand=1), type='regulatory'),\n",
       " SeqFeature(FeatureLocation(ExactPosition(4478), ExactPosition(5459), strand=1), type='CDS'),\n",
       " SeqFeature(FeatureLocation(ExactPosition(5882), ExactPosition(5894), strand=1), type='regulatory'),\n",
       " SeqFeature(FeatureLocation(ExactPosition(5899), ExactPosition(8305), strand=1), type='gene'),\n",
       " SeqFeature(FeatureLocation(ExactPosition(5899), ExactPosition(5911), strand=1), type='regulatory'),\n",
       " SeqFeature(CompoundLocation([FeatureLocation(BeforePosition(6038), ExactPosition(6923), strand=1), FeatureLocation(ExactPosition(6922), AfterPosition(8068), strand=1)], 'join'), type='mRNA', location_operator='join'),\n",
       " SeqFeature(CompoundLocation([FeatureLocation(ExactPosition(6038), ExactPosition(6923), strand=1), FeatureLocation(ExactPosition(6922), ExactPosition(8068), strand=1)], 'join'), type='CDS', location_operator='join'),\n",
       " SeqFeature(FeatureLocation(BeforePosition(6038), AfterPosition(7133), strand=1), type='mRNA'),\n",
       " SeqFeature(FeatureLocation(ExactPosition(6038), ExactPosition(7133), strand=1), type='CDS'),\n",
       " SeqFeature(CompoundLocation([FeatureLocation(BeforePosition(6038), ExactPosition(6922), strand=1), FeatureLocation(ExactPosition(6923), AfterPosition(6933), strand=1)], 'join'), type='mRNA', location_operator='join'),\n",
       " SeqFeature(CompoundLocation([FeatureLocation(ExactPosition(6038), ExactPosition(6922), strand=1), FeatureLocation(ExactPosition(6923), ExactPosition(6933), strand=1)], 'join'), type='CDS', location_operator='join'),\n",
       " SeqFeature(FeatureLocation(ExactPosition(7525), ExactPosition(7540), strand=1), type='misc_feature'),\n",
       " SeqFeature(FeatureLocation(ExactPosition(7789), ExactPosition(7870), strand=1), type='misc_feature'),\n",
       " SeqFeature(FeatureLocation(ExactPosition(8287), ExactPosition(9740), strand=1), type='gene'),\n",
       " SeqFeature(FeatureLocation(ExactPosition(8287), ExactPosition(9740), strand=1), type='mRNA'),\n",
       " SeqFeature(FeatureLocation(ExactPosition(8287), ExactPosition(8299), strand=1), type='regulatory'),\n",
       " SeqFeature(FeatureLocation(ExactPosition(8294), ExactPosition(8305), strand=1), type='regulatory'),\n",
       " SeqFeature(FeatureLocation(ExactPosition(8508), ExactPosition(9375), strand=1), type='CDS'),\n",
       " SeqFeature(FeatureLocation(ExactPosition(9729), ExactPosition(9740), strand=1), type='regulatory'),\n",
       " SeqFeature(FeatureLocation(ExactPosition(9884), ExactPosition(11518), strand=1), type='gene'),\n",
       " SeqFeature(FeatureLocation(ExactPosition(9884), ExactPosition(11518), strand=1), type='mRNA'),\n",
       " SeqFeature(FeatureLocation(ExactPosition(9884), ExactPosition(9896), strand=1), type='regulatory'),\n",
       " SeqFeature(FeatureLocation(ExactPosition(10344), ExactPosition(11100), strand=1), type='CDS'),\n",
       " SeqFeature(FeatureLocation(ExactPosition(11484), ExactPosition(11496), strand=1), type='regulatory'),\n",
       " SeqFeature(FeatureLocation(ExactPosition(11500), ExactPosition(18282), strand=1), type='gene'),\n",
       " SeqFeature(FeatureLocation(ExactPosition(11500), ExactPosition(18282), strand=1), type='mRNA'),\n",
       " SeqFeature(FeatureLocation(ExactPosition(11500), ExactPosition(11512), strand=1), type='regulatory'),\n",
       " SeqFeature(FeatureLocation(ExactPosition(11507), ExactPosition(11518), strand=1), type='regulatory'),\n",
       " SeqFeature(FeatureLocation(ExactPosition(11580), ExactPosition(18219), strand=1), type='CDS'),\n",
       " SeqFeature(FeatureLocation(ExactPosition(18271), ExactPosition(18282), strand=1), type='regulatory')]"
      ]
     },
     "execution_count": 9,
     "metadata": {},
     "output_type": "execute_result"
    }
   ],
   "source": [
    "ebola_gb.features"
   ]
  },
  {
   "cell_type": "markdown",
   "metadata": {},
   "source": [
    "### The `.features` attribute holds a list of SeqFeature objects.\n"
   ]
  },
  {
   "cell_type": "markdown",
   "metadata": {},
   "source": [
    "Here is what the features looks like if you were to see it in Genbank:\n",
    "(this is the an Ebola Zaire ref seq)"
   ]
  },
  {
   "cell_type": "code",
   "execution_count": 1,
   "metadata": {},
   "outputs": [
    {
     "data": {
      "text/html": [
       "\n",
       "        <iframe\n",
       "            width=\"800\"\n",
       "            height=\"400\"\n",
       "            src=\"https://www.ncbi.nlm.nih.gov/nuccore/KM034562\"\n",
       "            frameborder=\"0\"\n",
       "            allowfullscreen\n",
       "        ></iframe>\n",
       "        "
      ],
      "text/plain": [
       "<IPython.lib.display.IFrame at 0x7f92a1cf32e0>"
      ]
     },
     "execution_count": 1,
     "metadata": {},
     "output_type": "execute_result"
    }
   ],
   "source": [
    "from IPython.display import IFrame\n",
    "url = \"https://www.ncbi.nlm.nih.gov/nuccore/KM034562\"\n",
    "IFrame(url, 800, 400)"
   ]
  },
  {
   "cell_type": "markdown",
   "metadata": {},
   "source": [
    "\n",
    "## What is a SeqFeature Object?\n",
    "\n",
    "👉 SeqFeatures are objects that contain information we know about a sequence (e.g., a gene, it relative position in the sequence, and name) "
   ]
  },
  {
   "cell_type": "markdown",
   "metadata": {},
   "source": [
    "Since the features attribute is a list, we could access a certain feature based on its numerical position:"
   ]
  },
  {
   "cell_type": "code",
   "execution_count": 10,
   "metadata": {},
   "outputs": [
    {
     "data": {
      "text/plain": [
       "SeqFeature(FeatureLocation(ExactPosition(3128), ExactPosition(4151), strand=1), type='CDS')"
      ]
     },
     "execution_count": 10,
     "metadata": {},
     "output_type": "execute_result"
    }
   ],
   "source": [
    "my_feat = ebola_gb.features[9]\n",
    "my_feat"
   ]
  },
  {
   "cell_type": "markdown",
   "metadata": {},
   "source": [
    "But that's not very helpful, because feature contents can be arbitrary.\n",
    "\n",
    "So we'll use the `dir()` again to explore a single SeqFeature object:"
   ]
  },
  {
   "cell_type": "code",
   "execution_count": 11,
   "metadata": {},
   "outputs": [
    {
     "data": {
      "text/plain": [
       "['__bool__',\n",
       " '__class__',\n",
       " '__contains__',\n",
       " '__delattr__',\n",
       " '__dict__',\n",
       " '__dir__',\n",
       " '__doc__',\n",
       " '__eq__',\n",
       " '__format__',\n",
       " '__ge__',\n",
       " '__getattribute__',\n",
       " '__gt__',\n",
       " '__hash__',\n",
       " '__init__',\n",
       " '__init_subclass__',\n",
       " '__iter__',\n",
       " '__le__',\n",
       " '__len__',\n",
       " '__lt__',\n",
       " '__module__',\n",
       " '__ne__',\n",
       " '__new__',\n",
       " '__nonzero__',\n",
       " '__reduce__',\n",
       " '__reduce_ex__',\n",
       " '__repr__',\n",
       " '__setattr__',\n",
       " '__sizeof__',\n",
       " '__str__',\n",
       " '__subclasshook__',\n",
       " '__weakref__',\n",
       " '_flip',\n",
       " '_get_location_operator',\n",
       " '_get_ref',\n",
       " '_get_ref_db',\n",
       " '_get_strand',\n",
       " '_set_location_operator',\n",
       " '_set_ref',\n",
       " '_set_ref_db',\n",
       " '_set_strand',\n",
       " '_shift',\n",
       " 'extract',\n",
       " 'id',\n",
       " 'location',\n",
       " 'location_operator',\n",
       " 'qualifiers',\n",
       " 'ref',\n",
       " 'ref_db',\n",
       " 'strand',\n",
       " 'translate',\n",
       " 'type']"
      ]
     },
     "execution_count": 11,
     "metadata": {},
     "output_type": "execute_result"
    }
   ],
   "source": [
    "dir(my_feat)"
   ]
  },
  {
   "cell_type": "code",
   "execution_count": 12,
   "metadata": {},
   "outputs": [
    {
     "data": {
      "text/plain": [
       "FeatureLocation(ExactPosition(3128), ExactPosition(4151), strand=1)"
      ]
     },
     "execution_count": 12,
     "metadata": {},
     "output_type": "execute_result"
    }
   ],
   "source": [
    "my_feat.location"
   ]
  },
  {
   "cell_type": "code",
   "execution_count": 13,
   "metadata": {},
   "outputs": [
    {
     "data": {
      "text/plain": [
       "'CDS'"
      ]
     },
     "execution_count": 13,
     "metadata": {},
     "output_type": "execute_result"
    }
   ],
   "source": [
    "my_feat.type"
   ]
  },
  {
   "cell_type": "code",
   "execution_count": 14,
   "metadata": {},
   "outputs": [
    {
     "data": {
      "text/plain": [
       "'<unknown id>'"
      ]
     },
     "execution_count": 14,
     "metadata": {},
     "output_type": "execute_result"
    }
   ],
   "source": [
    "my_feat.id"
   ]
  },
  {
   "cell_type": "markdown",
   "metadata": {},
   "source": [
    "![green-divider](https://user-images.githubusercontent.com/7065401/52071924-c003ad80-2562-11e9-8297-1c6595f8a7ff.png)\n",
    "\n",
    "## How do get the sequence contained in a SeqFeature object?\n",
    "\n",
    "There is a handy `.extract()` method that extracts sequence from a specified feature. \n",
    "\n",
    "All we need is to specify the parent sequence (a seq obj) as the argument.\n",
    "\n",
    "Say we've identified some feature and we need to grab the sequence associated with it.\n"
   ]
  },
  {
   "cell_type": "code",
   "execution_count": 16,
   "metadata": {},
   "outputs": [
    {
     "data": {
      "text/plain": [
       "Seq('CGGACACACAAAAAGAAAGAAGAATTTTTAGGATCTTTTGTGTGCGAATAACTA...GTC', IUPACAmbiguousDNA())"
      ]
     },
     "execution_count": 16,
     "metadata": {},
     "output_type": "execute_result"
    }
   ],
   "source": [
    "#parent sequence\n",
    "\n",
    "ebola_gb.seq"
   ]
  },
  {
   "cell_type": "code",
   "execution_count": 17,
   "metadata": {},
   "outputs": [
    {
     "data": {
      "text/plain": [
       "Seq('ATGACAACTAGAACAAAGGGCAGGGGCCATACTGTGGCCACGACTCAAAACGAC...TGA', IUPACAmbiguousDNA())"
      ]
     },
     "execution_count": 17,
     "metadata": {},
     "output_type": "execute_result"
    }
   ],
   "source": [
    "my_feat.extract(ebola_gb.seq)"
   ]
  },
  {
   "cell_type": "code",
   "execution_count": 18,
   "metadata": {},
   "outputs": [
    {
     "data": {
      "text/plain": [
       "Seq('MTTRTKGRGHTVATTQNDRMPGPELSGWISEQLMTGRIPVNDIFCDIENNPGLC...LKI', ExtendedIUPACProtein())"
      ]
     },
     "execution_count": 18,
     "metadata": {},
     "output_type": "execute_result"
    }
   ],
   "source": [
    "my_feat.translate(ebola_gb.seq)"
   ]
  },
  {
   "cell_type": "code",
   "execution_count": null,
   "metadata": {},
   "outputs": [],
   "source": []
  }
 ],
 "metadata": {
  "kernelspec": {
   "display_name": "Python 3",
   "language": "python",
   "name": "python3"
  },
  "language_info": {
   "codemirror_mode": {
    "name": "ipython",
    "version": 3
   },
   "file_extension": ".py",
   "mimetype": "text/x-python",
   "name": "python",
   "nbconvert_exporter": "python",
   "pygments_lexer": "ipython3",
   "version": "3.8.1"
  }
 },
 "nbformat": 4,
 "nbformat_minor": 4
}
