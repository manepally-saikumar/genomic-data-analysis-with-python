{
 "cells": [
  {
   "cell_type": "markdown",
   "metadata": {},
   "source": [
    "![rmotr](https://user-images.githubusercontent.com/7065401/52071918-bda15380-2562-11e9-828c-7f95297e4a82.png)\n",
    "<hr style=\"margin-bottom: 40px;\">\n",
    "\n",
    "# Python for Genomics \n",
    "## Section 4: SeqFeatures Exercises\n",
    "\n",
    "![purple-divider](https://user-images.githubusercontent.com/7065401/52071927-c1cd7100-2562-11e9-908a-dde91ba14e59.png)"
   ]
  },
  {
   "cell_type": "markdown",
   "metadata": {},
   "source": [
    "## 1 - Look into a file and observe the SeqFeatures\n",
    "\n",
    "Ebola outbreaks periodically emerge in The Democratic Republic of Congo and we'll take a look at sequences from a recent outbreak starting in 2018 in North Kivu and Ituri. \n",
    "\n",
    "Again, we will be trying to extract the nucleoprotein (NP) gene.\n",
    "\n",
    "Here is the genbank record of one of those sequences:\n"
   ]
  },
  {
   "cell_type": "code",
   "execution_count": 1,
   "metadata": {
    "jupyter": {
     "source_hidden": true
    }
   },
   "outputs": [
    {
     "data": {
      "text/html": [
       "\n",
       "        <iframe\n",
       "            width=\"800\"\n",
       "            height=\"400\"\n",
       "            src=\"https://www.ncbi.nlm.nih.gov/nucleotide/MK007329\"\n",
       "            frameborder=\"0\"\n",
       "            allowfullscreen\n",
       "        ></iframe>\n",
       "        "
      ],
      "text/plain": [
       "<IPython.lib.display.IFrame at 0x7fe4dc153550>"
      ]
     },
     "execution_count": 1,
     "metadata": {},
     "output_type": "execute_result"
    }
   ],
   "source": [
    "from IPython.display import IFrame\n",
    "url = \"https://www.ncbi.nlm.nih.gov/nucleotide/MK007329\"\n",
    "IFrame(url, 800, 400)"
   ]
  },
  {
   "cell_type": "markdown",
   "metadata": {},
   "source": [
    "I have downloaded this file into: data/MK007329.1.gb\n",
    "\n",
    "### Read that file in and create a `set` of the types of features that are annotated in record MK007329.1."
   ]
  },
  {
   "cell_type": "code",
   "execution_count": 2,
   "metadata": {},
   "outputs": [],
   "source": [
    "# your code goes here..."
   ]
  },
  {
   "cell_type": "code",
   "execution_count": 7,
   "metadata": {
    "cell_type": "solution",
    "collapsed": true,
    "jupyter": {
     "outputs_hidden": true,
     "source_hidden": true
    }
   },
   "outputs": [
    {
     "data": {
      "text/plain": [
       "{'CDS', 'gene', 'mRNA', 'misc_feature', 'regulatory', 'source'}"
      ]
     },
     "execution_count": 7,
     "metadata": {},
     "output_type": "execute_result"
    }
   ],
   "source": [
    "# Solution\n",
    "\n",
    "from Bio import SeqIO\n",
    "\n",
    "DRC_Ebola = SeqIO.read('data/MK007329.1.gb', 'genbank')\n",
    "set(feature.type for feature in DRC_Ebola.features)"
   ]
  },
  {
   "cell_type": "markdown",
   "metadata": {},
   "source": [
    "## 2 - What is the type and name of the 6th feature in MK007329.1? "
   ]
  },
  {
   "cell_type": "code",
   "execution_count": null,
   "metadata": {},
   "outputs": [],
   "source": [
    "# your code goes here..."
   ]
  },
  {
   "cell_type": "code",
   "execution_count": 8,
   "metadata": {
    "cell_type": "solution",
    "collapsed": true,
    "jupyter": {
     "outputs_hidden": true,
     "source_hidden": true
    }
   },
   "outputs": [
    {
     "data": {
      "text/plain": [
       "OrderedDict([('gene', ['VP35'])])"
      ]
     },
     "execution_count": 8,
     "metadata": {},
     "output_type": "execute_result"
    }
   ],
   "source": [
    "# Solution\n",
    "\n",
    "feature = DRC_Ebola.features[6]\n",
    "feature.qualifiers"
   ]
  },
  {
   "cell_type": "markdown",
   "metadata": {},
   "source": [
    "## 3 - Extract the sequence for this 6th feature in MK007329.1. "
   ]
  },
  {
   "cell_type": "code",
   "execution_count": null,
   "metadata": {},
   "outputs": [],
   "source": [
    "# your code goes here..."
   ]
  },
  {
   "cell_type": "code",
   "execution_count": 9,
   "metadata": {
    "cell_type": "solution",
    "collapsed": true,
    "jupyter": {
     "outputs_hidden": true,
     "source_hidden": true
    }
   },
   "outputs": [
    {
     "data": {
      "text/plain": [
       "Seq('GATGAAGATTAAAACCTTCATCATCCTTACGTCAATTGAATTCTCTAGCACTCG...AAA', IUPACAmbiguousDNA())"
      ]
     },
     "execution_count": 9,
     "metadata": {},
     "output_type": "execute_result"
    }
   ],
   "source": [
    "feature.extract(DRC_Ebola.seq)"
   ]
  },
  {
   "cell_type": "markdown",
   "metadata": {},
   "source": [
    "## 4 - Can you make a list of all the gene names contained in MK007329.1? "
   ]
  },
  {
   "cell_type": "code",
   "execution_count": 1,
   "metadata": {},
   "outputs": [],
   "source": [
    "# your code goes here..."
   ]
  },
  {
   "cell_type": "code",
   "execution_count": 10,
   "metadata": {
    "cell_type": "solution",
    "collapsed": true,
    "jupyter": {
     "outputs_hidden": true,
     "source_hidden": true
    }
   },
   "outputs": [
    {
     "data": {
      "text/plain": [
       "[['NP'], ['VP35'], ['VP40'], ['GP'], ['VP30'], ['VP24'], ['L']]"
      ]
     },
     "execution_count": 10,
     "metadata": {},
     "output_type": "execute_result"
    }
   ],
   "source": [
    "gene_list = []\n",
    "\n",
    "for feature in DRC_Ebola.features:\n",
    "    if feature.type == 'gene':\n",
    "        gene_list.append(feature.qualifiers['gene'])\n",
    "\n",
    "gene_list"
   ]
  },
  {
   "cell_type": "markdown",
   "metadata": {},
   "source": [
    "## 5 - Extract the sequence for the nucleoprotein (NP) and save as a Seq Object."
   ]
  },
  {
   "cell_type": "code",
   "execution_count": null,
   "metadata": {},
   "outputs": [],
   "source": [
    "# your code goes here..."
   ]
  },
  {
   "cell_type": "code",
   "execution_count": 11,
   "metadata": {
    "cell_type": "solution",
    "collapsed": true,
    "jupyter": {
     "outputs_hidden": true,
     "source_hidden": true
    }
   },
   "outputs": [
    {
     "data": {
      "text/plain": [
       "Seq('GAGGAAGATTAATAATTTTCCTCTCATTGAAATTTATATCGGAATTTAAATTGA...AAA', IUPACAmbiguousDNA())"
      ]
     },
     "execution_count": 11,
     "metadata": {},
     "output_type": "execute_result"
    }
   ],
   "source": [
    "for feature in DRC_Ebola.features:\n",
    "    if feature.type == 'gene':\n",
    "        if feature.qualifiers['gene'] ==['NP']:\n",
    "            NP_seq = feature.extract(DRC_Ebola.seq)\n",
    "\n",
    "NP_seq"
   ]
  },
  {
   "cell_type": "markdown",
   "metadata": {},
   "source": [
    "## 6 - Can you loop through a genbank file (\"Ituri_sequences.gb) containing 61 records and create a list that with all the NP sequences? You can return the entire list since it's not too big.\n",
    "\n",
    "I have saved a file named \"Ituri_sequences.gb\", which is a list of genbank records from the Ituri/North Kivu outbreak. (They are not associated with a bioproject, but rather a set of sequences from studies done by the United States Army Medical Research Institute of Infectious Diseases (USAMRIID))"
   ]
  },
  {
   "cell_type": "code",
   "execution_count": 13,
   "metadata": {},
   "outputs": [],
   "source": [
    "# your code goes here..."
   ]
  },
  {
   "cell_type": "markdown",
   "metadata": {
    "cell_type": "solution",
    "jupyter": {
     "outputs_hidden": true
    }
   },
   "source": [
    "ituri_seqs = SeqIO.parse('data/Ituri_sequences.gb', 'genbank')\n",
    "\n",
    "NP_list = []\n",
    "\n",
    "for record in ituri_seqs:\n",
    "    for feature in record.features:\n",
    "        if feature.type == 'gene' and feature.qualifiers['gene'] == ['NP']:\n",
    "            NP_gene = feature.extract(record.seq)\n",
    "            NP_list.append(NP_gene)\n",
    "\n",
    "NP_list"
   ]
  },
  {
   "cell_type": "markdown",
   "metadata": {},
   "source": [
    "## 7 - Can you count the number of records in the file and compare it to the number of NP seq objects in your list?"
   ]
  },
  {
   "cell_type": "code",
   "execution_count": 22,
   "metadata": {},
   "outputs": [],
   "source": [
    "# your code goes here..."
   ]
  },
  {
   "cell_type": "markdown",
   "metadata": {
    "cell_type": "hint"
   },
   "source": [
    "The numbers don't have to match 😉"
   ]
  },
  {
   "cell_type": "code",
   "execution_count": 21,
   "metadata": {
    "cell_type": "solution",
    "collapsed": true,
    "jupyter": {
     "outputs_hidden": true,
     "source_hidden": true
    }
   },
   "outputs": [
    {
     "name": "stdout",
     "output_type": "stream",
     "text": [
      "There are 61 records in the Ituri_sequences.gb file\n",
      "Our script created 59 Seq Objects in NP_list\n"
     ]
    }
   ],
   "source": [
    "count = 0\n",
    "\n",
    "ituri = SeqIO.parse('data/Ituri_sequences.gb', 'genbank')\n",
    "for rec in ituri:\n",
    "    count += 1\n",
    "\n",
    "print(\"There are %i records in the Ituri_sequences.gb file\" % count)\n",
    "print(\"Our script created %i Seq Objects in NP_list\" % len(NP_list))"
   ]
  },
  {
   "cell_type": "markdown",
   "metadata": {
    "cell_type": "solution",
    "jupyter": {
     "source_hidden": true
    }
   },
   "source": [
    "Uh oh! You didn't do anything wrong. This could mean a few things... \n",
    "\n",
    "Perhaps a few records were not annotated and contained a NP gene.\n",
    "Perhaps there was a sequencing error.\n",
    "Maybe they were partially sequenced.\n",
    "\n",
    "It's just good to know moving forward that you don't have all 61 sequences. \n",
    "\n",
    "Of course, now that you know the basics of objects, you could loop through the entire file and return those sequences that do not contain the NP gene.\n",
    "\n",
    "Would you like to try? Give it a go below 👇🏼 "
   ]
  },
  {
   "cell_type": "code",
   "execution_count": null,
   "metadata": {},
   "outputs": [],
   "source": [
    "# Extra credit code goes here"
   ]
  },
  {
   "cell_type": "code",
   "execution_count": 30,
   "metadata": {
    "cell_type": "solution",
    "collapsed": true,
    "jupyter": {
     "outputs_hidden": true,
     "source_hidden": true
    }
   },
   "outputs": [
    {
     "name": "stdout",
     "output_type": "stream",
     "text": [
      "['MK731991.1', 'MK731984.1']\n"
     ]
    }
   ],
   "source": [
    "# There are plenty of ways to do this, but in my mind it was easiest to think of two lists,\n",
    "# one that contained all the records, and one that contained the NP gene.\n",
    "# Then use a list comprehension to compare the lists and return the differences.\n",
    "\n",
    "all_NP_list = []\n",
    "yes_NP_list = []\n",
    "\n",
    "ituri_seqs = SeqIO.parse('data/Ituri_sequences.gb', 'genbank')\n",
    "\n",
    "for record in ituri_seqs:\n",
    "    all_NP_list.append(record.id)\n",
    "    for feature in record.features:\n",
    "        if feature.type == 'gene' and feature.qualifiers['gene'] == ['NP']:\n",
    "            yes_NP_list.append(record.id)\n",
    "\n",
    "no_NP_list = [record for record in all_NP_list if record not in yes_NP_list]\n",
    "print(no_NP_list)            "
   ]
  },
  {
   "cell_type": "markdown",
   "metadata": {
    "cell_type": "solution",
    "jupyter": {
     "source_hidden": true
    }
   },
   "source": [
    "If you would like to see the genbank file and why it didn't contain the NP gene, the link is below.\n",
    "Notice how it's a partial genome. It snuck through the cracks because it was within the range I specified for a full genome, yet is classified as \"partial\". "
   ]
  },
  {
   "cell_type": "code",
   "execution_count": 31,
   "metadata": {
    "cell_type": "solution",
    "collapsed": true,
    "jupyter": {
     "outputs_hidden": true,
     "source_hidden": true
    }
   },
   "outputs": [
    {
     "data": {
      "text/html": [
       "\n",
       "        <iframe\n",
       "            width=\"800\"\n",
       "            height=\"400\"\n",
       "            src=\"https://www.ncbi.nlm.nih.gov/nuccore/MK731991.1\"\n",
       "            frameborder=\"0\"\n",
       "            allowfullscreen\n",
       "        ></iframe>\n",
       "        "
      ],
      "text/plain": [
       "<IPython.lib.display.IFrame at 0x7fe4d40a5430>"
      ]
     },
     "execution_count": 31,
     "metadata": {},
     "output_type": "execute_result"
    }
   ],
   "source": [
    "from IPython.display import IFrame\n",
    "url = \"https://www.ncbi.nlm.nih.gov/nuccore/MK731991.1\"\n",
    "IFrame(url, 800, 400)"
   ]
  },
  {
   "cell_type": "code",
   "execution_count": null,
   "metadata": {},
   "outputs": [],
   "source": []
  }
 ],
 "metadata": {
  "kernelspec": {
   "display_name": "Python 3",
   "language": "python",
   "name": "python3"
  },
  "language_info": {
   "codemirror_mode": {
    "name": "ipython",
    "version": 3
   },
   "file_extension": ".py",
   "mimetype": "text/x-python",
   "name": "python",
   "nbconvert_exporter": "python",
   "pygments_lexer": "ipython3",
   "version": "3.8.1"
  }
 },
 "nbformat": 4,
 "nbformat_minor": 4
}
