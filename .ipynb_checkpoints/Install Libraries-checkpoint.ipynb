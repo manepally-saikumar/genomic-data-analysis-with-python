{
 "cells": [
  {
   "cell_type": "markdown",
   "metadata": {},
   "source": [
    "### Initial Update"
   ]
  },
  {
   "cell_type": "code",
   "execution_count": 3,
   "metadata": {},
   "outputs": [
    {
     "name": "stdout",
     "output_type": "stream",
     "text": [
      "Ign:1 http://deb.debian.org/debian stretch InRelease\n",
      "Get:2 http://deb.debian.org/debian stretch-updates InRelease [91.0 kB]\n",
      "Get:3 http://security.debian.org/debian-security stretch/updates InRelease [94.3 kB]\n",
      "Ign:4 http://deb.debian.org/debian oldstable InRelease\n",
      "Get:5 http://deb.debian.org/debian-security oldstable/updates InRelease [94.3 kB]\n",
      "Get:6 http://deb.debian.org/debian stretch Release [118 kB]\n",
      "Get:7 http://security.debian.org/debian-security stretch/updates/main amd64 Packages [517 kB]\n",
      "Get:8 http://deb.debian.org/debian oldstable Release [118 kB]\n",
      "Get:9 http://deb.debian.org/debian stretch-updates/main amd64 Packages.diff/Index [12.5 kB]\n",
      "Get:10 http://deb.debian.org/debian stretch-updates/main amd64 Contents (deb).diff/Index [9100 B]\n",
      "Get:11 http://deb.debian.org/debian stretch Release.gpg [2410 B]\n",
      "Get:12 http://deb.debian.org/debian oldstable Release.gpg [2410 B]\n",
      "Get:13 http://deb.debian.org/debian stretch-updates/main amd64 Packages 2019-08-14-2019.27.pdiff [339 B]\n",
      "Get:14 http://deb.debian.org/debian stretch-updates/main amd64 Packages 2019-09-18-2012.01.pdiff [337 B]\n",
      "Get:15 http://deb.debian.org/debian stretch-updates/main amd64 Packages 2019-10-27-2015.53.pdiff [398 B]\n",
      "Get:16 http://deb.debian.org/debian stretch-updates/main amd64 Packages 2019-11-06-2017.59.pdiff [903 B]\n",
      "Get:16 http://deb.debian.org/debian stretch-updates/main amd64 Packages 2019-11-06-2017.59.pdiff [903 B]\n",
      "Get:17 http://deb.debian.org/debian stretch-updates/main amd64 Contents (deb) 2019-11-06-2017.59.pdiff [503 B]\n",
      "Get:17 http://deb.debian.org/debian stretch-updates/main amd64 Contents (deb) 2019-11-06-2017.59.pdiff [503 B]\n",
      "Get:18 http://deb.debian.org/debian-security oldstable/updates/main Sources [208 kB]\n",
      "Get:19 http://deb.debian.org/debian-security oldstable/updates/main amd64 Packages [517 kB]\n",
      "Get:20 http://deb.debian.org/debian stretch/main amd64 Packages [7083 kB]\n",
      "Get:21 http://deb.debian.org/debian stretch/main amd64 Contents (deb) [31.2 MB]\n",
      "Get:22 http://deb.debian.org/debian oldstable/non-free Sources [79.4 kB]\n",
      "Get:23 http://deb.debian.org/debian oldstable/contrib Sources [44.7 kB]\n",
      "Get:24 http://deb.debian.org/debian oldstable/main Sources [6753 kB]\n",
      "Get:25 http://deb.debian.org/debian oldstable/main amd64 Packages [7083 kB]\n",
      "Get:26 http://deb.debian.org/debian oldstable/main amd64 Contents (deb) [31.2 MB]\n",
      "Get:27 http://deb.debian.org/debian oldstable/contrib amd64 Packages [50.9 kB]\n",
      "Get:28 http://deb.debian.org/debian oldstable/non-free amd64 Packages [78.4 kB]\n",
      "Get:29 http://deb.debian.org/debian oldstable/non-free amd64 Contents (deb) [809 kB]\n",
      "Fetched 86.3 MB in 17s (4796 kB/s)\n",
      "Reading package lists... Done\n"
     ]
    }
   ],
   "source": [
    "!apt-get update -y"
   ]
  },
  {
   "cell_type": "markdown",
   "metadata": {},
   "source": [
    "### Biopython:"
   ]
  },
  {
   "cell_type": "code",
   "execution_count": 1,
   "metadata": {},
   "outputs": [
    {
     "name": "stdout",
     "output_type": "stream",
     "text": [
      "Collecting biopython\n",
      "\u001b[?25l  Downloading https://files.pythonhosted.org/packages/7d/2a/48ef94adf91c079bb7a97b38193a06735e1c41fbc19ee57edd8bebd6c6fa/biopython-1.76-cp37-cp37m-manylinux1_x86_64.whl (2.3MB)\n",
      "\u001b[K     |████████████████████████████████| 2.3MB 34.6MB/s \n",
      "\u001b[?25hRequirement already satisfied: numpy in /usr/local/lib/python3.7/site-packages (from biopython) (1.17.4)\n",
      "Installing collected packages: biopython\n",
      "Successfully installed biopython-1.76\n",
      "\u001b[33mWARNING: You are using pip version 19.2.1, however version 20.0.2 is available.\n",
      "You should consider upgrading via the 'pip install --upgrade pip' command.\u001b[0m\n"
     ]
    }
   ],
   "source": [
    "!pip install biopython"
   ]
  },
  {
   "cell_type": "markdown",
   "metadata": {},
   "source": [
    "### Mafft:"
   ]
  },
  {
   "cell_type": "code",
   "execution_count": 5,
   "metadata": {},
   "outputs": [
    {
     "name": "stdout",
     "output_type": "stream",
     "text": []
    },
    {
     "name": "stdout",
     "output_type": "stream",
     "text": []
    },
    {
     "name": "stdout",
     "output_type": "stream",
     "text": []
    },
    {
     "name": "stdout",
     "output_type": "stream",
     "text": []
    },
    {
     "name": "stdout",
     "output_type": "stream",
     "text": []
    },
    {
     "name": "stdout",
     "output_type": "stream",
     "text": []
    },
    {
     "name": "stdout",
     "output_type": "stream",
     "text": []
    },
    {
     "name": "stdout",
     "output_type": "stream",
     "text": [
      "Reading package lists... Done\n",
      "Building dependency tree       \n",
      "Reading state information... Done\n",
      "The following additional packages will be installed:\n",
      "  blast2 lynx lynx-common ncbi-blast+ ncbi-blast+-legacy ncbi-data\n",
      "The following NEW packages will be installed:\n",
      "  blast2 lynx lynx-common mafft ncbi-blast+ ncbi-blast+-legacy ncbi-data\n",
      "0 upgraded, 7 newly installed, 0 to remove and 69 not upgraded.\n",
      "Need to get 15.8 MB of archives.\n",
      "After this operation, 81.8 MB of additional disk space will be used.\n",
      "Get:1 http://deb.debian.org/debian stretch/main amd64 ncbi-data all 6.1.20170106+dfsg1-0+deb9u1 [3555 kB]\n",
      "Get:2 http://deb.debian.org/debian stretch/main amd64 ncbi-blast+ amd64 2.6.0-1 [9591 kB]\n",
      "Get:3 http://deb.debian.org/debian stretch/main amd64 ncbi-blast+-legacy all 2.6.0-1 [9604 B]\n",
      "Get:4 http://deb.debian.org/debian stretch/main amd64 blast2 all 1:2.6.0-1 [9084 B]\n",
      "Get:5 http://deb.debian.org/debian stretch/main amd64 lynx-common all 2.8.9dev11-1 [1098 kB]\n",
      "Get:6 http://deb.debian.org/debian stretch/main amd64 mafft amd64 7.307-1 [889 kB]\n",
      "Get:7 http://deb.debian.org/debian stretch/main amd64 lynx amd64 2.8.9dev11-1 [632 kB]\n",
      "Fetched 15.8 MB in 0s (17.4 MB/s)\n",
      "debconf: unable to initialize frontend: Dialog\n",
      "debconf: (No usable dialog-like program is installed, so the dialog based frontend cannot be used. at /usr/share/perl5/Debconf/FrontEnd/Dialog.pm line 76, <> line 7.)\n",
      "debconf: falling back to frontend: Readline\n",
      "Selecting previously unselected package ncbi-data.\n",
      "(Reading database ... 72401 files and directories currently installed.)\n",
      "Preparing to unpack .../0-ncbi-data_6.1.20170106+dfsg1-0+deb9u1_all.deb ...\n",
      "Unpacking ncbi-data (6.1.20170106+dfsg1-0+deb9u1) ...\n",
      "Selecting previously unselected package ncbi-blast+.\n",
      "Preparing to unpack .../1-ncbi-blast+_2.6.0-1_amd64.deb ...\n",
      "Unpacking ncbi-blast+ (2.6.0-1) ...\n",
      "Selecting previously unselected package ncbi-blast+-legacy.\n",
      "Preparing to unpack .../2-ncbi-blast+-legacy_2.6.0-1_all.deb ...\n",
      "Unpacking ncbi-blast+-legacy (2.6.0-1) ...\n",
      "Selecting previously unselected package blast2.\n",
      "Preparing to unpack .../3-blast2_1%3a2.6.0-1_all.deb ...\n",
      "Unpacking blast2 (1:2.6.0-1) ...\n",
      "Selecting previously unselected package lynx-common.\n",
      "Preparing to unpack .../4-lynx-common_2.8.9dev11-1_all.deb ...\n",
      "Unpacking lynx-common (2.8.9dev11-1) ...\n",
      "Selecting previously unselected package mafft.\n",
      "Preparing to unpack .../5-mafft_7.307-1_amd64.deb ...\n",
      "Unpacking mafft (7.307-1) ...\n",
      "Selecting previously unselected package lynx.\n",
      "Preparing to unpack .../6-lynx_2.8.9dev11-1_amd64.deb ...\n",
      "Unpacking lynx (2.8.9dev11-1) ...\n",
      "Setting up mafft (7.307-1) ...\n",
      "Processing triggers for mime-support (3.60) ...\n",
      "Setting up ncbi-data (6.1.20170106+dfsg1-0+deb9u1) ...\n",
      "Processing triggers for man-db (2.7.6.1-2) ...\n",
      "Setting up lynx-common (2.8.9dev11-1) ...\n",
      "Processing triggers for hicolor-icon-theme (0.15-1) ...\n",
      "Setting up lynx (2.8.9dev11-1) ...\n",
      "update-alternatives: using /usr/bin/lynx to provide /usr/bin/www-browser (www-browser) in auto mode\n",
      "Setting up ncbi-blast+ (2.6.0-1) ...\n",
      "Setting up ncbi-blast+-legacy (2.6.0-1) ...\n",
      "Setting up blast2 (1:2.6.0-1) ...\n"
     ]
    }
   ],
   "source": [
    "!apt-get install -y mafft"
   ]
  },
  {
   "cell_type": "markdown",
   "metadata": {},
   "source": [
    "### Clustal Omega"
   ]
  },
  {
   "cell_type": "code",
   "execution_count": 6,
   "metadata": {},
   "outputs": [
    {
     "name": "stdout",
     "output_type": "stream",
     "text": []
    },
    {
     "name": "stdout",
     "output_type": "stream",
     "text": []
    },
    {
     "name": "stdout",
     "output_type": "stream",
     "text": []
    },
    {
     "name": "stdout",
     "output_type": "stream",
     "text": []
    },
    {
     "name": "stdout",
     "output_type": "stream",
     "text": []
    },
    {
     "name": "stdout",
     "output_type": "stream",
     "text": []
    },
    {
     "name": "stdout",
     "output_type": "stream",
     "text": []
    },
    {
     "name": "stdout",
     "output_type": "stream",
     "text": [
      "Reading package lists... Done\n",
      "Building dependency tree       \n",
      "Reading state information... Done\n",
      "The following additional packages will be installed:\n",
      "  libargtable2-0\n",
      "The following NEW packages will be installed:\n",
      "  clustalo libargtable2-0\n",
      "0 upgraded, 2 newly installed, 0 to remove and 69 not upgraded.\n",
      "Need to get 281 kB of archives.\n",
      "After this operation, 689 kB of additional disk space will be used.\n",
      "Get:1 http://deb.debian.org/debian stretch/main amd64 libargtable2-0 amd64 13-1 [17.4 kB]\n",
      "Get:2 http://deb.debian.org/debian stretch/main amd64 clustalo amd64 1.2.4-1 [263 kB]\n",
      "Fetched 281 kB in 0s (18.2 MB/s)\n",
      "debconf: unable to initialize frontend: Dialog\n",
      "debconf: (No usable dialog-like program is installed, so the dialog based frontend cannot be used. at /usr/share/perl5/Debconf/FrontEnd/Dialog.pm line 76, <> line 2.)\n",
      "debconf: falling back to frontend: Readline\n",
      "Selecting previously unselected package libargtable2-0.\n",
      "(Reading database ... 72830 files and directories currently installed.)\n",
      "Preparing to unpack .../libargtable2-0_13-1_amd64.deb ...\n",
      "Unpacking libargtable2-0 (13-1) ...\n",
      "Selecting previously unselected package clustalo.\n",
      "Preparing to unpack .../clustalo_1.2.4-1_amd64.deb ...\n",
      "Unpacking clustalo (1.2.4-1) ...\n",
      "Setting up libargtable2-0 (13-1) ...\n",
      "Setting up clustalo (1.2.4-1) ...\n",
      "Processing triggers for libc-bin (2.24-11+deb9u4) ...\n",
      "Processing triggers for man-db (2.7.6.1-2) ...\n"
     ]
    }
   ],
   "source": [
    "!apt-get install -y clustalo"
   ]
  }
 ],
 "metadata": {
  "kernelspec": {
   "display_name": "Python 3",
   "language": "python",
   "name": "python3"
  },
  "language_info": {
   "codemirror_mode": {
    "name": "ipython",
    "version": 3
   },
   "file_extension": ".py",
   "mimetype": "text/x-python",
   "name": "python",
   "nbconvert_exporter": "python",
   "pygments_lexer": "ipython3",
   "version": "3.7.4"
  }
 },
 "nbformat": 4,
 "nbformat_minor": 2
}
