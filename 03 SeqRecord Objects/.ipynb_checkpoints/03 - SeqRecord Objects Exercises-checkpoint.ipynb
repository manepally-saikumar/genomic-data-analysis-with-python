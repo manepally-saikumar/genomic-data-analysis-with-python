{
 "cells": [
  {
   "cell_type": "markdown",
   "metadata": {},
   "source": [
    "![rmotr](https://user-images.githubusercontent.com/7065401/52071918-bda15380-2562-11e9-828c-7f95297e4a82.png)\n",
    "<hr style=\"margin-bottom: 40px;\">\n",
    "\n",
    "# Seq Record exercises\n",
    "\n",
    "\n",
    "\n",
    "![purple-divider](https://user-images.githubusercontent.com/7065401/52071927-c1cd7100-2562-11e9-908a-dde91ba14e59.png)"
   ]
  },
  {
   "cell_type": "markdown",
   "metadata": {},
   "source": [
    "### 1 - Let's read in some sequences using SeqIO.\n",
    "\n",
    "We have a fasta file located in the Data/ folder named KR105316.1.fasta with only one sequence. Use SeqIO.read() it in. \n",
    "(Remember to import the SeqIO module from the Bio package.)"
   ]
  },
  {
   "cell_type": "code",
   "execution_count": null,
   "metadata": {},
   "outputs": [],
   "source": [
    "# your code goes here..."
   ]
  },
  {
   "cell_type": "code",
   "execution_count": 3,
   "metadata": {},
   "outputs": [
    {
     "data": {
      "text/plain": [
       "SeqRecord(seq=Seq('GTGTGTGAATAACTATGAGGAAGATTAATAATTTTCCTCTCATTGAAATTTATA...TGT', SingleLetterAlphabet()), id='KR105316.1', name='KR105316.1', description='KR105316.1 Zaire ebolavirus isolate Ebola virus/H.sapiens-wt/SLE/2014/Makona-G5684.1, partial genome', dbxrefs=[])"
      ]
     },
     "execution_count": 3,
     "metadata": {},
     "output_type": "execute_result"
    }
   ],
   "source": [
    "# Solution\n",
    "\n",
    "from Bio import SeqIO\n",
    "\n",
    "ebola_fasta_seq = SeqIO.read('Data/KR105316.1.fasta', 'fasta')\n",
    "ebola_fasta_seq"
   ]
  },
  {
   "cell_type": "markdown",
   "metadata": {},
   "source": [
    "We also have a genbank file of the same accession: KR105316.1.gb. Read that file in. Note any differences between the resulting SeqRecords objects when you read in a fasta file vs. a genbank file.\n"
   ]
  },
  {
   "cell_type": "code",
   "execution_count": 4,
   "metadata": {},
   "outputs": [],
   "source": [
    "# your code goes here..."
   ]
  },
  {
   "cell_type": "code",
   "execution_count": 7,
   "metadata": {},
   "outputs": [
    {
     "data": {
      "text/plain": [
       "SeqRecord(seq=Seq('GTGTGTGAATAACTATGAGGAAGATTAATAATTTTCCTCTCATTGAAATTTATA...TGT', IUPACAmbiguousDNA()), id='KR105316.1', name='KR105316', description='Zaire ebolavirus isolate Ebola virus/H.sapiens-wt/SLE/2014/Makona-G5684.1, partial genome', dbxrefs=['BioProject:PRJNA257197', 'BioSample:SAMN03254195'])"
      ]
     },
     "execution_count": 7,
     "metadata": {},
     "output_type": "execute_result"
    }
   ],
   "source": [
    "# Solution\n",
    "\n",
    "ebola_gb_seq = SeqIO.read('Data/KR105316.1.gb', 'genbank')\n",
    "ebola_gb_seq"
   ]
  },
  {
   "cell_type": "markdown",
   "metadata": {},
   "source": [
    "Now we have files that contain many sequences, and we'd like to investigate a bit. \n",
    "\n",
    "Read in a large file PRJNA278759.gb using `SeqIO.parse()` and save the returned iterator to a variable of your choice.\n",
    "\n",
    "Can you use the iterator to count how many records there are in this file?"
   ]
  },
  {
   "cell_type": "code",
   "execution_count": null,
   "metadata": {},
   "outputs": [],
   "source": [
    "# your code goes here..."
   ]
  },
  {
   "cell_type": "code",
   "execution_count": 14,
   "metadata": {},
   "outputs": [
    {
     "name": "stdout",
     "output_type": "stream",
     "text": [
      "There are 166 records in PRJNA278759.gb\n"
     ]
    }
   ],
   "source": [
    "# Solution\n",
    "\n",
    "ebola_seqs = SeqIO.parse('Data/PRJNA278759.gb', 'genbank')\n",
    "\n",
    "count = 0\n",
    "for record in ebola_seqs:\n",
    "    count +=1\n",
    "print('There are ' + str(count) + ' records in PRJNA278759.gb')"
   ]
  },
  {
   "cell_type": "markdown",
   "metadata": {},
   "source": [
    "With the same file, we'd like to be able to index its contents for easy retrival.\n",
    "\n",
    "Read in a large file PRJNA278759.gb using `SeqIO.index()` and retrieve the record with the accession number: KT725386.1"
   ]
  },
  {
   "cell_type": "code",
   "execution_count": null,
   "metadata": {},
   "outputs": [],
   "source": [
    "# your code goes here..."
   ]
  },
  {
   "cell_type": "code",
   "execution_count": 5,
   "metadata": {},
   "outputs": [
    {
     "data": {
      "text/plain": [
       "SeqRecord(seq=Seq('TAAATTGAAATTGTTACTGTAATCATACCTGGTTTGTTTCAGAGCCATATCACC...AGG', IUPACAmbiguousDNA()), id='KT725386.1', name='KT725386', description='Zaire ebolavirus isolate Ebola virus/H.sapiens-wt/LBR/2014/Makona-LIBR10033, partial genome', dbxrefs=['BioProject:PRJNA278759', 'BioSample:SAMN04040242'])"
      ]
     },
     "execution_count": 5,
     "metadata": {},
     "output_type": "execute_result"
    }
   ],
   "source": [
    "# Solution\n",
    "\n",
    "ebola_index = SeqIO.index('Data/PRJNA278759.gb', 'genbank')\n",
    "ebola_index['KT725386.1']"
   ]
  },
  {
   "cell_type": "markdown",
   "metadata": {},
   "source": [
    "![green-divider](https://user-images.githubusercontent.com/7065401/52071924-c003ad80-2562-11e9-8297-1c6595f8a7ff.png)\n",
    "\n",
    "### 2 - Let's investigate some SeqRecord attributes\n",
    "\n",
    "\n",
    "You now have an index of our BioProject PRJNA278759. Find the record with accession number KR013754.3 and assign the SeqRecord to a new variable.\n"
   ]
  },
  {
   "cell_type": "code",
   "execution_count": null,
   "metadata": {},
   "outputs": [],
   "source": [
    "# your code goes here..."
   ]
  },
  {
   "cell_type": "code",
   "execution_count": 12,
   "metadata": {},
   "outputs": [
    {
     "data": {
      "text/plain": [
       "SeqRecord(seq=Seq('TTTAGGATCTTTTGTGTGCGAATAACTATGAGGAAGATTAATAATTTTCCTCTC...ATA', IUPACAmbiguousDNA()), id='KR013754.3', name='KR013754', description='Zaire ebolavirus isolate Ebola virus/H.sapiens-wt/SLE/2014/Makona-G3864.1, partial genome', dbxrefs=['BioProject:PRJNA278759', 'BioSample:SAMN03447201'])"
      ]
     },
     "execution_count": 12,
     "metadata": {},
     "output_type": "execute_result"
    }
   ],
   "source": [
    "# Solution\n",
    "\n",
    "KR013754 = ebola_index['KR013754.3']\n",
    "KR013754"
   ]
  },
  {
   "cell_type": "markdown",
   "metadata": {},
   "source": [
    "Take a look at the description, annotations, and format attributes of this record."
   ]
  },
  {
   "cell_type": "code",
   "execution_count": 8,
   "metadata": {},
   "outputs": [],
   "source": [
    "# your code goes here..."
   ]
  },
  {
   "cell_type": "code",
   "execution_count": 11,
   "metadata": {},
   "outputs": [
    {
     "name": "stdout",
     "output_type": "stream",
     "text": [
      "Zaire ebolavirus isolate Ebola virus/H.sapiens-wt/SLE/2014/Makona-G3864.1, partial genome\n",
      "{'molecule_type': 'cRNA', 'topology': 'linear', 'data_file_division': 'VRL', 'date': '11-APR-2016', 'accessions': ['KR013754'], 'sequence_version': 3, 'keywords': [''], 'source': 'Zaire ebolavirus', 'organism': 'Zaire ebolavirus', 'taxonomy': ['Viruses', 'ssRNA viruses', 'ssRNA negative-strand viruses', 'Mononegavirales', 'Filoviridae', 'Ebolavirus'], 'references': [Reference(title='Real-Time Monitoring of Ebolavirus Genomic Drift in Liberia', ...), Reference(title='Direct Submission', ...), Reference(title='Direct Submission', ...), Reference(title='Direct Submission', ...)], 'comment': 'On Apr 11, 2016 this sequence version replaced KR013754.2.', 'structured_comment': OrderedDict([('Assembly-Data', OrderedDict([('Assembly Method', 'Bowtie2 v. 2.1.0'), ('Genome Coverage', '300x'), ('Sequencing Technology', 'Illumina MiSeq')]))])}\n"
     ]
    }
   ],
   "source": [
    "# Solution\n",
    "\n",
    "print(KR013754.description)\n",
    "print(KR013754.annotations)\n"
   ]
  },
  {
   "cell_type": "markdown",
   "metadata": {},
   "source": [
    "![green-divider](https://user-images.githubusercontent.com/7065401/52071924-c003ad80-2562-11e9-8297-1c6595f8a7ff.png)\n",
    "\n",
    "### 3 - Let's investigate some SeqFeature attributes\n",
    "\n",
    "![178-Ebola_Virus_Proteins-EbolaProteins2018](https://user-images.githubusercontent.com/22747792/73787722-b5b95800-4750-11ea-85cf-d94489fa5ce9.jpg)\n",
    "\n",
    "The glycoprotein (GP) was inferred to contain lots of asynchronous mutations.\n",
    "\n",
    "Within the KR013754 record, identify and extract all the gene names?"
   ]
  },
  {
   "cell_type": "code",
   "execution_count": 13,
   "metadata": {},
   "outputs": [
    {
     "data": {
      "text/plain": [
       "[SeqFeature(FeatureLocation(ExactPosition(0), ExactPosition(18905), strand=1), type='source'),\n",
       " SeqFeature(FeatureLocation(ExactPosition(29), ExactPosition(3000), strand=1), type='gene'),\n",
       " SeqFeature(FeatureLocation(ExactPosition(29), ExactPosition(3000), strand=1), type='mRNA'),\n",
       " SeqFeature(FeatureLocation(ExactPosition(443), ExactPosition(2663), strand=1), type='CDS'),\n",
       " SeqFeature(FeatureLocation(ExactPosition(2988), ExactPosition(3000), strand=1), type='regulatory'),\n",
       " SeqFeature(FeatureLocation(ExactPosition(3005), ExactPosition(4381), strand=1), type='gene'),\n",
       " SeqFeature(FeatureLocation(ExactPosition(3005), ExactPosition(4381), strand=1), type='mRNA'),\n",
       " SeqFeature(FeatureLocation(ExactPosition(3005), ExactPosition(3017), strand=1), type='regulatory'),\n",
       " SeqFeature(FeatureLocation(ExactPosition(3102), ExactPosition(4125), strand=1), type='CDS'),\n",
       " SeqFeature(FeatureLocation(ExactPosition(4363), ExactPosition(5868), strand=1), type='gene'),\n",
       " SeqFeature(FeatureLocation(ExactPosition(4363), ExactPosition(5868), strand=1), type='mRNA'),\n",
       " SeqFeature(FeatureLocation(ExactPosition(4363), ExactPosition(4375), strand=1), type='regulatory'),\n",
       " SeqFeature(FeatureLocation(ExactPosition(4370), ExactPosition(4381), strand=1), type='regulatory'),\n",
       " SeqFeature(FeatureLocation(ExactPosition(4452), ExactPosition(5433), strand=1), type='CDS'),\n",
       " SeqFeature(FeatureLocation(ExactPosition(5856), ExactPosition(5868), strand=1), type='regulatory'),\n",
       " SeqFeature(FeatureLocation(ExactPosition(5873), ExactPosition(8279), strand=1), type='gene'),\n",
       " SeqFeature(FeatureLocation(ExactPosition(5873), ExactPosition(8279), strand=1), type='mRNA'),\n",
       " SeqFeature(FeatureLocation(ExactPosition(5873), ExactPosition(5885), strand=1), type='regulatory'),\n",
       " SeqFeature(CompoundLocation([FeatureLocation(ExactPosition(6012), ExactPosition(6897), strand=1), FeatureLocation(ExactPosition(6896), ExactPosition(8042), strand=1)], 'join'), type='CDS', location_operator='join'),\n",
       " SeqFeature(FeatureLocation(ExactPosition(6012), ExactPosition(7107), strand=1), type='CDS'),\n",
       " SeqFeature(CompoundLocation([FeatureLocation(ExactPosition(6012), ExactPosition(6896), strand=1), FeatureLocation(ExactPosition(6897), ExactPosition(6907), strand=1)], 'join'), type='CDS', location_operator='join'),\n",
       " SeqFeature(FeatureLocation(ExactPosition(8261), ExactPosition(9714), strand=1), type='gene'),\n",
       " SeqFeature(FeatureLocation(ExactPosition(8261), ExactPosition(9714), strand=1), type='mRNA'),\n",
       " SeqFeature(FeatureLocation(ExactPosition(8261), ExactPosition(8273), strand=1), type='regulatory'),\n",
       " SeqFeature(FeatureLocation(ExactPosition(8268), ExactPosition(8279), strand=1), type='regulatory'),\n",
       " SeqFeature(FeatureLocation(ExactPosition(8482), ExactPosition(9349), strand=1), type='CDS'),\n",
       " SeqFeature(FeatureLocation(ExactPosition(9703), ExactPosition(9714), strand=1), type='regulatory'),\n",
       " SeqFeature(FeatureLocation(ExactPosition(9858), ExactPosition(11492), strand=1), type='gene'),\n",
       " SeqFeature(FeatureLocation(ExactPosition(9858), ExactPosition(11470), strand=1), type='mRNA'),\n",
       " SeqFeature(FeatureLocation(ExactPosition(9858), ExactPosition(9870), strand=1), type='regulatory'),\n",
       " SeqFeature(FeatureLocation(ExactPosition(10318), ExactPosition(11074), strand=1), type='CDS'),\n",
       " SeqFeature(FeatureLocation(ExactPosition(11458), ExactPosition(11470), strand=1), type='regulatory'),\n",
       " SeqFeature(FeatureLocation(ExactPosition(11474), ExactPosition(18256), strand=1), type='gene'),\n",
       " SeqFeature(FeatureLocation(ExactPosition(11474), ExactPosition(18256), strand=1), type='mRNA'),\n",
       " SeqFeature(FeatureLocation(ExactPosition(11474), ExactPosition(11486), strand=1), type='regulatory'),\n",
       " SeqFeature(FeatureLocation(ExactPosition(11481), ExactPosition(11492), strand=1), type='regulatory'),\n",
       " SeqFeature(FeatureLocation(ExactPosition(11554), ExactPosition(18193), strand=1), type='CDS'),\n",
       " SeqFeature(FeatureLocation(ExactPosition(18245), ExactPosition(18256), strand=1), type='regulatory')]"
      ]
     },
     "execution_count": 13,
     "metadata": {},
     "output_type": "execute_result"
    }
   ],
   "source": [
    "KR013754.features"
   ]
  },
  {
   "cell_type": "code",
   "execution_count": 15,
   "metadata": {},
   "outputs": [
    {
     "data": {
      "text/plain": [
       "[SeqFeature(FeatureLocation(ExactPosition(29), ExactPosition(3000), strand=1), type='gene'),\n",
       " SeqFeature(FeatureLocation(ExactPosition(3005), ExactPosition(4381), strand=1), type='gene'),\n",
       " SeqFeature(FeatureLocation(ExactPosition(4363), ExactPosition(5868), strand=1), type='gene'),\n",
       " SeqFeature(FeatureLocation(ExactPosition(5873), ExactPosition(8279), strand=1), type='gene'),\n",
       " SeqFeature(FeatureLocation(ExactPosition(8261), ExactPosition(9714), strand=1), type='gene'),\n",
       " SeqFeature(FeatureLocation(ExactPosition(9858), ExactPosition(11492), strand=1), type='gene'),\n",
       " SeqFeature(FeatureLocation(ExactPosition(11474), ExactPosition(18256), strand=1), type='gene')]"
      ]
     },
     "execution_count": 15,
     "metadata": {},
     "output_type": "execute_result"
    }
   ],
   "source": [
    "genes = []\n",
    "\n",
    "for feature in KR013754.features:\n",
    "    if feature.type == \"gene\":\n",
    "        genes.append(feature)\n",
    "genes"
   ]
  },
  {
   "cell_type": "code",
   "execution_count": 17,
   "metadata": {},
   "outputs": [
    {
     "data": {
      "text/plain": [
       "['__bool__',\n",
       " '__class__',\n",
       " '__contains__',\n",
       " '__delattr__',\n",
       " '__dict__',\n",
       " '__dir__',\n",
       " '__doc__',\n",
       " '__eq__',\n",
       " '__format__',\n",
       " '__ge__',\n",
       " '__getattribute__',\n",
       " '__gt__',\n",
       " '__hash__',\n",
       " '__init__',\n",
       " '__init_subclass__',\n",
       " '__iter__',\n",
       " '__le__',\n",
       " '__len__',\n",
       " '__lt__',\n",
       " '__module__',\n",
       " '__ne__',\n",
       " '__new__',\n",
       " '__nonzero__',\n",
       " '__reduce__',\n",
       " '__reduce_ex__',\n",
       " '__repr__',\n",
       " '__setattr__',\n",
       " '__sizeof__',\n",
       " '__str__',\n",
       " '__subclasshook__',\n",
       " '__weakref__',\n",
       " '_flip',\n",
       " '_get_location_operator',\n",
       " '_get_ref',\n",
       " '_get_ref_db',\n",
       " '_get_strand',\n",
       " '_set_location_operator',\n",
       " '_set_ref',\n",
       " '_set_ref_db',\n",
       " '_set_strand',\n",
       " '_shift',\n",
       " 'extract',\n",
       " 'id',\n",
       " 'location',\n",
       " 'location_operator',\n",
       " 'qualifiers',\n",
       " 'ref',\n",
       " 'ref_db',\n",
       " 'strand',\n",
       " 'translate',\n",
       " 'type']"
      ]
     },
     "execution_count": 17,
     "metadata": {},
     "output_type": "execute_result"
    }
   ],
   "source": [
    "dir(genes[0])"
   ]
  },
  {
   "cell_type": "code",
   "execution_count": 18,
   "metadata": {},
   "outputs": [
    {
     "name": "stdout",
     "output_type": "stream",
     "text": [
      "OrderedDict([('gene', ['NP'])])\n",
      "OrderedDict([('gene', ['VP35'])])\n",
      "OrderedDict([('gene', ['VP40'])])\n",
      "OrderedDict([('gene', ['GP'])])\n",
      "OrderedDict([('gene', ['VP30'])])\n",
      "OrderedDict([('gene', ['VP24']), ('note', ['putative'])])\n",
      "OrderedDict([('gene', ['L'])])\n"
     ]
    }
   ],
   "source": [
    "for feature in genes:\n",
    "    print(feature.qualifiers)"
   ]
  },
  {
   "cell_type": "code",
   "execution_count": 26,
   "metadata": {},
   "outputs": [
    {
     "name": "stdout",
     "output_type": "stream",
     "text": [
      "['NP']\n",
      "['VP35']\n",
      "['VP40']\n",
      "['GP']\n",
      "['VP30']\n",
      "['VP24']\n",
      "['L']\n"
     ]
    }
   ],
   "source": [
    "for feature in genes:\n",
    "    print((feature.qualifiers['gene']))"
   ]
  },
  {
   "cell_type": "code",
   "execution_count": null,
   "metadata": {},
   "outputs": [],
   "source": []
  }
 ],
 "metadata": {
  "kernelspec": {
   "display_name": "Python 3",
   "language": "python",
   "name": "python3"
  },
  "language_info": {
   "codemirror_mode": {
    "name": "ipython",
    "version": 3
   },
   "file_extension": ".py",
   "mimetype": "text/x-python",
   "name": "python",
   "nbconvert_exporter": "python",
   "pygments_lexer": "ipython3",
   "version": "3.7.4"
  }
 },
 "nbformat": 4,
 "nbformat_minor": 2
}
