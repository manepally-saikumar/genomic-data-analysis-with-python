{
 "cells": [
  {
   "cell_type": "markdown",
   "metadata": {},
   "source": [
    "![rmotr](https://user-images.githubusercontent.com/7065401/52071918-bda15380-2562-11e9-828c-7f95297e4a82.png)\n",
    "<hr style=\"margin-bottom: 40px;\">\n",
    "\n",
    "# Python for Genomics \n",
    "## Section 3: Reading Files and SeqRecord Objects Exercises\n",
    "\n",
    "\n",
    "<b> All of the files mentioned in these exercises are located in the '03 SeqRecord Obj/data' folder.</b>\n",
    "\n",
    "<br>\n",
    "\n",
    "![purple-divider](https://user-images.githubusercontent.com/7065401/52071927-c1cd7100-2562-11e9-908a-dde91ba14e59.png)"
   ]
  },
  {
   "cell_type": "markdown",
   "metadata": {},
   "source": [
    "### 1. Access the fasta sequence in file 'KR105316.1.fasta'.\n",
    "\n",
    "There is only one sequence this file. Read the file, save the SeqRecord to a variable of your choice.\n",
    "\n",
    "(Remember to import the `SeqIO` module from the `Bio` package.)"
   ]
  },
  {
   "cell_type": "code",
   "execution_count": 4,
   "metadata": {
    "cell_type": "solution",
    "collapsed": true,
    "jupyter": {
     "outputs_hidden": true,
     "source_hidden": true
    }
   },
   "outputs": [
    {
     "data": {
      "text/plain": [
       "SeqRecord(seq=Seq('GTGTGTGAATAACTATGAGGAAGATTAATAATTTTCCTCTCATTGAAATTTATA...TGT', SingleLetterAlphabet()), id='KR105316.1', name='KR105316.1', description='KR105316.1 Zaire ebolavirus isolate Ebola virus/H.sapiens-wt/SLE/2014/Makona-G5684.1, partial genome', dbxrefs=[])"
      ]
     },
     "execution_count": 4,
     "metadata": {},
     "output_type": "execute_result"
    }
   ],
   "source": [
    "# Solution\n",
    "\n",
    "from Bio import SeqIO\n",
    "\n",
    "ebola_fasta_seq = SeqIO.read('data/KR105316.1.fasta', 'fasta')\n",
    "ebola_fasta_seq"
   ]
  },
  {
   "cell_type": "markdown",
   "metadata": {},
   "source": [
    "### 2. File 'KR105316.1.gb' contains the same sequence as above, but it is in genbank format. Read that file in to another new variable.\n",
    "\n",
    "What are the differences between the resulting SeqRecords objects when you read in a fasta file vs. a genbank file?\n"
   ]
  },
  {
   "cell_type": "code",
   "execution_count": 4,
   "metadata": {},
   "outputs": [],
   "source": [
    "# your code goes here..."
   ]
  },
  {
   "cell_type": "code",
   "execution_count": 6,
   "metadata": {
    "cell_type": "solution",
    "collapsed": true,
    "jupyter": {
     "outputs_hidden": true,
     "source_hidden": true
    }
   },
   "outputs": [
    {
     "data": {
      "text/plain": [
       "SeqRecord(seq=Seq('GTGTGTGAATAACTATGAGGAAGATTAATAATTTTCCTCTCATTGAAATTTATA...TGT', IUPACAmbiguousDNA()), id='KR105316.1', name='KR105316', description='Zaire ebolavirus isolate Ebola virus/H.sapiens-wt/SLE/2014/Makona-G5684.1, partial genome', dbxrefs=['BioProject:PRJNA257197', 'BioSample:SAMN03254195'])"
      ]
     },
     "execution_count": 6,
     "metadata": {},
     "output_type": "execute_result"
    }
   ],
   "source": [
    "# Solution\n",
    "\n",
    "ebola_gb_seq = SeqIO.read('data/KR105316.1.gb', 'genbank')\n",
    "ebola_gb_seq"
   ]
  },
  {
   "cell_type": "markdown",
   "metadata": {
    "cell_type": "solution",
    "jupyter": {
     "source_hidden": true
    }
   },
   "source": [
    "The difference is that the genbank file contains more metadata, and therefore the resulting SeqRecord file will have more attributes associated within it. For example, the record above as 'dbxrefs' (database cross references) and BioSample accession numbers."
   ]
  },
  {
   "cell_type": "markdown",
   "metadata": {},
   "source": [
    "### 3. 'PRJNA278759.gb' is a file containing the genbank records of BioProject PRJNA278759.\n",
    "\n",
    "Open PRJNA278759.gb using `SeqIO.parse()` and save the returned iterator to a variable of your choice.\n",
    "\n",
    "Can you use the iterator to count how the number of records in this file?"
   ]
  },
  {
   "cell_type": "code",
   "execution_count": null,
   "metadata": {},
   "outputs": [],
   "source": [
    "# your code goes here..."
   ]
  },
  {
   "cell_type": "code",
   "execution_count": 14,
   "metadata": {
    "cell_type": "solution",
    "collapsed": true,
    "jupyter": {
     "outputs_hidden": true,
     "source_hidden": true
    }
   },
   "outputs": [
    {
     "name": "stdout",
     "output_type": "stream",
     "text": [
      "There are 166 records in PRJNA278759.gb\n"
     ]
    }
   ],
   "source": [
    "# Solution\n",
    "\n",
    "ebola_seqs = SeqIO.parse('data/PRJNA278759.gb', 'genbank')\n",
    "\n",
    "\n",
    "count = 0\n",
    "for record in ebola_seqs:\n",
    "    count +=1\n",
    "print('There are %s records in PRJNA278759.gb' % (count))\n"
   ]
  },
  {
   "cell_type": "markdown",
   "metadata": {},
   "source": [
    "### 4.With the same 'PRJNA278759.gb' file, index its contents and retreive the record with the accession 'KT725386.1'. Can you provide the reverse complement of this record as a Seq Object?\n"
   ]
  },
  {
   "cell_type": "code",
   "execution_count": null,
   "metadata": {},
   "outputs": [],
   "source": [
    "# your code goes here..."
   ]
  },
  {
   "cell_type": "code",
   "execution_count": 45,
   "metadata": {
    "cell_type": "solution",
    "collapsed": true,
    "jupyter": {
     "outputs_hidden": true,
     "source_hidden": true
    }
   },
   "outputs": [
    {
     "data": {
      "text/plain": [
       "Seq('CCTTCTGATGAGCGTGGTNAATGCCTTAATTATCATTAACACGAAGATTATTAT...TTA', IUPACAmbiguousDNA())"
      ]
     },
     "execution_count": 45,
     "metadata": {},
     "output_type": "execute_result"
    }
   ],
   "source": [
    "# Solution\n",
    "\n",
    "ebola_index = SeqIO.index('data/PRJNA278759.gb', 'genbank')\n",
    "ebola_index['KT725386.1'].reverse_complement().seq"
   ]
  },
  {
   "cell_type": "markdown",
   "metadata": {},
   "source": [
    "### Great job!"
   ]
  }
 ],
 "metadata": {
  "kernelspec": {
   "display_name": "Python 3",
   "language": "python",
   "name": "python3"
  },
  "language_info": {
   "codemirror_mode": {
    "name": "ipython",
    "version": 3
   },
   "file_extension": ".py",
   "mimetype": "text/x-python",
   "name": "python",
   "nbconvert_exporter": "python",
   "pygments_lexer": "ipython3",
   "version": "3.8.1"
  }
 },
 "nbformat": 4,
 "nbformat_minor": 4
}
