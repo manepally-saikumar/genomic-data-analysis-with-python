{
 "cells": [
  {
   "cell_type": "markdown",
   "metadata": {},
   "source": [
    "### Initial Update"
   ]
  },
  {
   "cell_type": "code",
   "execution_count": 2,
   "metadata": {},
   "outputs": [
    {
     "name": "stdout",
     "output_type": "stream",
     "text": [
      "Hit:1 http://security.debian.org/debian-security buster/updates InRelease\n",
      "Hit:2 http://deb.debian.org/debian buster InRelease\n",
      "Hit:3 http://deb.debian.org/debian buster-updates InRelease\n",
      "Ign:4 http://deb.debian.org/debian oldstable InRelease\n",
      "Hit:5 http://deb.debian.org/debian-security oldstable/updates InRelease\n",
      "Hit:6 http://deb.debian.org/debian oldstable Release\n",
      "Reading package lists... Done\n"
     ]
    }
   ],
   "source": [
    "!apt-get update -y"
   ]
  },
  {
   "cell_type": "markdown",
   "metadata": {},
   "source": [
    "### Biopython:"
   ]
  },
  {
   "cell_type": "code",
   "execution_count": 3,
   "metadata": {},
   "outputs": [
    {
     "name": "stdout",
     "output_type": "stream",
     "text": [
      "Requirement already satisfied: biopython in /usr/local/lib/python3.8/site-packages (1.76)\n",
      "Requirement already satisfied: numpy in /usr/local/lib/python3.8/site-packages (from biopython) (1.18.1)\n",
      "\u001b[33mWARNING: You are using pip version 20.0.2; however, version 20.1.1 is available.\n",
      "You should consider upgrading via the '/usr/local/bin/python -m pip install --upgrade pip' command.\u001b[0m\n"
     ]
    }
   ],
   "source": [
    "!pip install biopython"
   ]
  },
  {
   "cell_type": "markdown",
   "metadata": {},
   "source": [
    "### Mafft:"
   ]
  },
  {
   "cell_type": "code",
   "execution_count": 4,
   "metadata": {},
   "outputs": [
    {
     "name": "stdout",
     "output_type": "stream",
     "text": [
      "Reading package lists... Done\n",
      "Building dependency tree       \n",
      "Reading state information... Done\n",
      "mafft is already the newest version (7.407-2).\n",
      "0 upgraded, 0 newly installed, 0 to remove and 72 not upgraded.\n"
     ]
    }
   ],
   "source": [
    "!apt-get install -y mafft"
   ]
  },
  {
   "cell_type": "markdown",
   "metadata": {},
   "source": [
    "### Clustal Omega"
   ]
  },
  {
   "cell_type": "code",
   "execution_count": 5,
   "metadata": {},
   "outputs": [
    {
     "name": "stdout",
     "output_type": "stream",
     "text": [
      "Reading package lists... Done\n",
      "Building dependency tree       \n",
      "Reading state information... Done\n",
      "clustalo is already the newest version (1.2.4-2).\n",
      "0 upgraded, 0 newly installed, 0 to remove and 72 not upgraded.\n"
     ]
    }
   ],
   "source": [
    "!apt-get install -y clustalo"
   ]
  },
  {
   "cell_type": "markdown",
   "metadata": {},
   "source": [
    "### scikit-bio"
   ]
  },
  {
   "cell_type": "code",
   "execution_count": 6,
   "metadata": {},
   "outputs": [
    {
     "name": "stdout",
     "output_type": "stream",
     "text": [
      "Requirement already satisfied: scikit-bio in /usr/local/lib/python3.8/site-packages (0.5.5)\n",
      "Requirement already satisfied: hdmedians>=0.13 in /usr/local/lib/python3.8/site-packages (from scikit-bio) (0.13)\n",
      "Requirement already satisfied: natsort>=4.0.3 in /usr/local/lib/python3.8/site-packages (from scikit-bio) (7.0.1)\n",
      "Requirement already satisfied: pandas>=0.23 in /usr/local/lib/python3.8/site-packages (from scikit-bio) (1.0.1)\n",
      "Requirement already satisfied: IPython>=3.2.0 in /usr/local/lib/python3.8/site-packages (from scikit-bio) (7.13.0)\n",
      "Requirement already satisfied: matplotlib>=1.4.3 in /usr/local/lib/python3.8/site-packages (from scikit-bio) (3.1.3)\n",
      "Requirement already satisfied: lockfile>=0.10.2 in /usr/local/lib/python3.8/site-packages (from scikit-bio) (0.12.2)\n",
      "Requirement already satisfied: decorator>=3.4.2 in /usr/local/lib/python3.8/site-packages (from scikit-bio) (4.4.2)\n",
      "Requirement already satisfied: CacheControl>=0.11.5 in /usr/local/lib/python3.8/site-packages (from scikit-bio) (0.12.6)\n",
      "Requirement already satisfied: numpy>=1.9.2 in /usr/local/lib/python3.8/site-packages (from scikit-bio) (1.18.1)\n",
      "Requirement already satisfied: scikit-learn>=0.19.1 in /usr/local/lib/python3.8/site-packages (from scikit-bio) (0.22.2)\n",
      "Requirement already satisfied: scipy>=0.15.1 in /usr/local/lib/python3.8/site-packages (from scikit-bio) (1.4.1)\n",
      "Requirement already satisfied: Cython>=0.23 in /usr/local/lib/python3.8/site-packages (from hdmedians>=0.13->scikit-bio) (0.29.15)\n",
      "Requirement already satisfied: pytz>=2017.2 in /usr/local/lib/python3.8/site-packages (from pandas>=0.23->scikit-bio) (2019.3)\n",
      "Requirement already satisfied: python-dateutil>=2.6.1 in /usr/local/lib/python3.8/site-packages (from pandas>=0.23->scikit-bio) (2.8.1)\n",
      "Requirement already satisfied: jedi>=0.10 in /usr/local/lib/python3.8/site-packages (from IPython>=3.2.0->scikit-bio) (0.16.0)\n",
      "Requirement already satisfied: prompt-toolkit!=3.0.0,!=3.0.1,<3.1.0,>=2.0.0 in /usr/local/lib/python3.8/site-packages (from IPython>=3.2.0->scikit-bio) (3.0.3)\n",
      "Requirement already satisfied: backcall in /usr/local/lib/python3.8/site-packages (from IPython>=3.2.0->scikit-bio) (0.1.0)\n",
      "Requirement already satisfied: pygments in /usr/local/lib/python3.8/site-packages (from IPython>=3.2.0->scikit-bio) (2.5.2)\n",
      "Requirement already satisfied: pexpect; sys_platform != \"win32\" in /usr/local/lib/python3.8/site-packages (from IPython>=3.2.0->scikit-bio) (4.8.0)\n",
      "Requirement already satisfied: pickleshare in /usr/local/lib/python3.8/site-packages (from IPython>=3.2.0->scikit-bio) (0.7.5)\n",
      "Requirement already satisfied: traitlets>=4.2 in /usr/local/lib/python3.8/site-packages (from IPython>=3.2.0->scikit-bio) (4.3.3)\n",
      "Requirement already satisfied: setuptools>=18.5 in /usr/local/lib/python3.8/site-packages (from IPython>=3.2.0->scikit-bio) (45.2.0)\n",
      "Requirement already satisfied: cycler>=0.10 in /usr/local/lib/python3.8/site-packages (from matplotlib>=1.4.3->scikit-bio) (0.10.0)\n",
      "Requirement already satisfied: kiwisolver>=1.0.1 in /usr/local/lib/python3.8/site-packages (from matplotlib>=1.4.3->scikit-bio) (1.1.0)\n",
      "Requirement already satisfied: pyparsing!=2.0.4,!=2.1.2,!=2.1.6,>=2.0.1 in /usr/local/lib/python3.8/site-packages (from matplotlib>=1.4.3->scikit-bio) (2.4.6)\n",
      "Requirement already satisfied: msgpack>=0.5.2 in /usr/local/lib/python3.8/site-packages (from CacheControl>=0.11.5->scikit-bio) (1.0.0)\n",
      "Requirement already satisfied: requests in /usr/local/lib/python3.8/site-packages (from CacheControl>=0.11.5->scikit-bio) (2.23.0)\n",
      "Requirement already satisfied: joblib>=0.11 in /usr/local/lib/python3.8/site-packages (from scikit-learn>=0.19.1->scikit-bio) (0.14.1)\n",
      "Requirement already satisfied: six>=1.5 in /usr/local/lib/python3.8/site-packages (from python-dateutil>=2.6.1->pandas>=0.23->scikit-bio) (1.14.0)\n",
      "Requirement already satisfied: parso>=0.5.2 in /usr/local/lib/python3.8/site-packages (from jedi>=0.10->IPython>=3.2.0->scikit-bio) (0.6.2)\n",
      "Requirement already satisfied: wcwidth in /usr/local/lib/python3.8/site-packages (from prompt-toolkit!=3.0.0,!=3.0.1,<3.1.0,>=2.0.0->IPython>=3.2.0->scikit-bio) (0.1.8)\n",
      "Requirement already satisfied: ptyprocess>=0.5 in /usr/local/lib/python3.8/site-packages (from pexpect; sys_platform != \"win32\"->IPython>=3.2.0->scikit-bio) (0.6.0)\n",
      "Requirement already satisfied: ipython-genutils in /usr/local/lib/python3.8/site-packages (from traitlets>=4.2->IPython>=3.2.0->scikit-bio) (0.2.0)\n",
      "Requirement already satisfied: chardet<4,>=3.0.2 in /usr/local/lib/python3.8/site-packages (from requests->CacheControl>=0.11.5->scikit-bio) (3.0.4)\n",
      "Requirement already satisfied: idna<3,>=2.5 in /usr/local/lib/python3.8/site-packages (from requests->CacheControl>=0.11.5->scikit-bio) (2.9)\n",
      "Requirement already satisfied: urllib3!=1.25.0,!=1.25.1,<1.26,>=1.21.1 in /usr/local/lib/python3.8/site-packages (from requests->CacheControl>=0.11.5->scikit-bio) (1.25.8)\n",
      "Requirement already satisfied: certifi>=2017.4.17 in /usr/local/lib/python3.8/site-packages (from requests->CacheControl>=0.11.5->scikit-bio) (2019.11.28)\n",
      "\u001b[33mWARNING: You are using pip version 20.0.2; however, version 20.1.1 is available.\n",
      "You should consider upgrading via the '/usr/local/bin/python -m pip install --upgrade pip' command.\u001b[0m\n"
     ]
    }
   ],
   "source": [
    "! pip install scikit-bio"
   ]
  },
  {
   "cell_type": "code",
   "execution_count": null,
   "metadata": {},
   "outputs": [],
   "source": []
  }
 ],
 "metadata": {
  "kernelspec": {
   "display_name": "Python 3",
   "language": "python",
   "name": "python3"
  },
  "language_info": {
   "codemirror_mode": {
    "name": "ipython",
    "version": 3
   },
   "file_extension": ".py",
   "mimetype": "text/x-python",
   "name": "python",
   "nbconvert_exporter": "python",
   "pygments_lexer": "ipython3",
   "version": "3.8.1"
  }
 },
 "nbformat": 4,
 "nbformat_minor": 4
}
