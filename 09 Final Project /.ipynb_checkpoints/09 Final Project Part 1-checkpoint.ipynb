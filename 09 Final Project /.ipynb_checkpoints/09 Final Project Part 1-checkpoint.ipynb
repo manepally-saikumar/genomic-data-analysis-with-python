{
 "cells": [
  {
   "cell_type": "markdown",
   "metadata": {},
   "source": [
    "![rmotr](https://user-images.githubusercontent.com/7065401/52071918-bda15380-2562-11e9-828c-7f95297e4a82.png)\n",
    "<hr style=\"margin-bottom: 40px;\">\n",
    "\n",
    "![filo_virion](https://user-images.githubusercontent.com/22747792/73687685-7111bc00-467f-11ea-906e-e16132529840.png)\n",
    "\n",
    "# Python for Genomics \n",
    "## Section 9: Final Project\n",
    "\n",
    "Welcome to your final project! I'm so glad you made it 👊🏼\n",
    "\n",
    "Now that you have all the tools for starting to use python for genetic data, let's build something together.\n",
    "\n",
    "I will give you data to work with, and we'll keep going with the Ebola genome, since it's a little more familiar to you now. \n",
    "\n",
    "1. Build a Viral Genome Statistics Summary Calculator. The calculator will take a genbank file as input and provide/calculate:\n",
    "    1. how many genes in the genome;\n",
    "    2. total length of the genome;\n",
    "    and for every gene provide/calculate:\n",
    "    3. gene name;\n",
    "    4. its GC content;\n",
    "    5. its length;\n",
    "    6. no. of A's;\n",
    "    7. T's;\n",
    "    8. C's;\n",
    "    9. G's;\n",
    "    10. N's;\n",
    "\n",
    "2. Build an Alignment Summary Calculator. This calculator will take a clustal file as input and provide:\n",
    "    1. Number of sequences aligned\n",
    "    2. A consensus sequence\n",
    "    3. The total number of N's and gaps per sequence\n",
    "    4. A plot showing the conservation scores\n",
    "    \n",
    "\n",
    "\n",
    "![purple-divider](https://user-images.githubusercontent.com/7065401/52071927-c1cd7100-2562-11e9-908a-dde91ba14e59.png)"
   ]
  },
  {
   "cell_type": "code",
   "execution_count": null,
   "metadata": {},
   "outputs": [],
   "source": []
  }
 ],
 "metadata": {
  "kernelspec": {
   "display_name": "Python 3",
   "language": "python",
   "name": "python3"
  },
  "language_info": {
   "codemirror_mode": {
    "name": "ipython",
    "version": 3
   },
   "file_extension": ".py",
   "mimetype": "text/x-python",
   "name": "python",
   "nbconvert_exporter": "python",
   "pygments_lexer": "ipython3",
   "version": "3.8.1"
  }
 },
 "nbformat": 4,
 "nbformat_minor": 4
}
