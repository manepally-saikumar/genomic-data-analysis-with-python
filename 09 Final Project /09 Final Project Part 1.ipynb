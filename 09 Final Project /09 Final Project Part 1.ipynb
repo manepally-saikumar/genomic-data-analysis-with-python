{
 "cells": [
  {
   "cell_type": "markdown",
   "metadata": {},
   "source": [
    "![rmotr](https://user-images.githubusercontent.com/7065401/52071918-bda15380-2562-11e9-828c-7f95297e4a82.png)\n",
    "<hr style=\"margin-bottom: 40px;\">\n",
    "\n",
    "![filo_virion](https://user-images.githubusercontent.com/22747792/73687685-7111bc00-467f-11ea-906e-e16132529840.png)\n",
    "\n",
    "# Python for Genomics \n",
    "## Section 9: Final Project Part 1 - building genomic features summary calculator\n",
    "\n",
    "Welcome to your final project! I'm so glad you made it 👊🏼 🎉\n",
    "\n",
    "Now that you've learned some python tools for working with genetic data, let's build something together.\n",
    "\n",
    "We'll be pulling in all the knowledge that we've learned so far, so feel free to look at past notebooks for ideas.\n",
    "\n",
    "### Here is the brief:\n",
    "Let's say we had to build a diagnostic test that detects the DNA (Ebola is actually RNA, but for testing, we can speak in terms of DNA since that is what is represented in genbank and the sequences.) We need the most conserved gene. What is the most conserved gene from all the past ebola outbreaks? Where should we focus our studies?\n",
    "\n",
    "The first thing we'll do is build a small script that gives us an overview of the Ebola virus's genome. \n",
    "\n",
    "### Build a Viral Genome Statistics Summary Calculator. \n",
    "\n",
    "#### The input for this calculator will be a genbank file containing a single record. \n",
    "We will we building this small calculator using the reference genome for ebola: KM034562. \n",
    "\n",
    "#### The output will be a text summary containing:\n",
    "\n",
    "\n",
    "    1. how many genes in the genome;\n",
    "    2. total length of the genome;\n",
    "    and for every gene provide/calculate:\n",
    "    3. gene name;\n",
    "    4. its length;\n",
    "    5. its GC content;\n",
    "    6. no. of A's;\n",
    "    7. T's;\n",
    "    8. C's;\n",
    "    9. G's;\n",
    "    10. N's;\n",
    "\n",
    "#### The best way to go about this is to split up your tasks into chunks. \n",
    "\n",
    "I see two main chunks: the first one, which give an overview of the entire genome. That can be accomplished by referencing attributes in the SeqRecord object.\n",
    "\n",
    "The second chunk is based on SeqFeatures, so we'll have to get into each feature and perform some specific tasks there.\n",
    "\n",
    "![purple-divider](https://user-images.githubusercontent.com/7065401/52071927-c1cd7100-2562-11e9-908a-dde91ba14e59.png)"
   ]
  },
  {
   "cell_type": "markdown",
   "metadata": {},
   "source": [
    "Alright, let's do our imports up here. I'll fill them in for us so go ahead and just run the cell."
   ]
  },
  {
   "cell_type": "code",
   "execution_count": 6,
   "metadata": {},
   "outputs": [],
   "source": [
    "from Bio import Seq, SeqIO, SeqUtils\n",
    "from Bio.SeqRecord import SeqRecord"
   ]
  },
  {
   "cell_type": "markdown",
   "metadata": {},
   "source": [
    "Now for the data. I'm going to show you how I get the data for this, but, you can just use what I put in the data folder. We're going to be building our calculator using a reference sequence for Ebola first. The ref seq is accession KM034562.\n",
    "\n",
    "We can retrieve it like this:"
   ]
  },
  {
   "cell_type": "code",
   "execution_count": 1,
   "metadata": {},
   "outputs": [],
   "source": [
    "from Bio import Entrez\n",
    "\n",
    "Entrez.email = 'your email here'\n",
    "\n",
    "new_file_handle = open('data/KM034562.gb', 'w')\n",
    "\n",
    "efetch_handle = Entrez.efetch(db='nucleotide', id='KM034562', rettype='gb', retmode='text',)\n",
    "downloaded_record_handle = efetch_handle.read()\n",
    "\n",
    "new_file_handle.write(downloaded_record_handle)\n",
    "efetch_handle.close()"
   ]
  },
  {
   "cell_type": "markdown",
   "metadata": {},
   "source": [
    "Now we have our data saved in our folder. Time to design our calculator.\n",
    "\n",
    "The first order of business is to find all the genes, so let's do that first. \n",
    "\n",
    "So first, read in your file, then loop through all the features objects contained within the SeqRecord's feature attribute list. Then just print all the feature that you find that are of the type \"gene\"."
   ]
  },
  {
   "cell_type": "code",
   "execution_count": 25,
   "metadata": {},
   "outputs": [],
   "source": [
    "# your code goes here..."
   ]
  },
  {
   "cell_type": "code",
   "execution_count": 23,
   "metadata": {
    "cell_type": "solution",
    "collapsed": true,
    "jupyter": {
     "outputs_hidden": true,
     "source_hidden": true
    }
   },
   "outputs": [
    {
     "name": "stdout",
     "output_type": "stream",
     "text": [
      "type: gene\n",
      "location: [55:3026](+)\n",
      "qualifiers:\n",
      "    Key: gene, Value: ['NP']\n",
      "\n",
      "type: gene\n",
      "location: [3031:4407](+)\n",
      "qualifiers:\n",
      "    Key: gene, Value: ['VP35']\n",
      "\n",
      "type: gene\n",
      "location: [4389:5894](+)\n",
      "qualifiers:\n",
      "    Key: gene, Value: ['VP40']\n",
      "\n",
      "type: gene\n",
      "location: [5899:8305](+)\n",
      "qualifiers:\n",
      "    Key: gene, Value: ['GP']\n",
      "\n",
      "type: gene\n",
      "location: [8287:9740](+)\n",
      "qualifiers:\n",
      "    Key: gene, Value: ['VP30']\n",
      "\n",
      "type: gene\n",
      "location: [9884:11518](+)\n",
      "qualifiers:\n",
      "    Key: gene, Value: ['VP24']\n",
      "    Key: note, Value: ['putative']\n",
      "\n",
      "type: gene\n",
      "location: [11500:18282](+)\n",
      "qualifiers:\n",
      "    Key: gene, Value: ['L']\n",
      "\n"
     ]
    }
   ],
   "source": [
    "record = SeqIO.read('data/KM034562.gb', 'gb')\n",
    "\n",
    "for feature in record.features:\n",
    "    if feature.type == ('gene'):\n",
    "        print(feature)"
   ]
  },
  {
   "cell_type": "markdown",
   "metadata": {},
   "source": [
    "### Now we are going to tidy this information up into a summary for action item 1.\n",
    "Fix the output of your little script so that it prints a statement like this:\n",
    "\n",
    "---\n",
    "GENOMIC SUMMARY for:\n",
    "<br>\n",
    "(insert genome description here)\n",
    "<br>\n",
    "(insert genome accession here)\n",
    "\n",
    "\n",
    "The total length of the genome is (insert number here) bases.\n",
    "<br>\n",
    "There are (insert number here) genes.\n",
    "<br>\n",
    "The gene names are: \n",
    "<br>\n",
    "(insert list of gene names here)\n",
    "---\n",
    "You can go ahead and just provide the list of gene names as a list, it's not pretty but it will work for our little calculator."
   ]
  },
  {
   "cell_type": "code",
   "execution_count": null,
   "metadata": {},
   "outputs": [],
   "source": [
    "# your code goes here..."
   ]
  },
  {
   "cell_type": "code",
   "execution_count": 46,
   "metadata": {
    "cell_type": "solution",
    "collapsed": true,
    "jupyter": {
     "outputs_hidden": true,
     "source_hidden": true
    }
   },
   "outputs": [
    {
     "name": "stdout",
     "output_type": "stream",
     "text": [
      "GENOMIC SUMMARY for:\n",
      "Zaire ebolavirus isolate Ebola virus/H.sapiens-wt/SLE/2014/Makona-G3686.1, complete genome\n",
      "Accession: KM034562.1\n",
      "\n",
      "The total length of the genome is 18957 bases.\n",
      "There are 7 genes.\n",
      "The gene names are:\n",
      "[['NP'], ['VP35'], ['VP40'], ['GP'], ['VP30'], ['VP24'], ['L']]\n"
     ]
    }
   ],
   "source": [
    "record = SeqIO.read('data/KM034562.gb', 'gb')\n",
    "\n",
    "gene_names = []\n",
    "for feature in record.features:\n",
    "    if feature.type == ('gene'):\n",
    "        gene_names.append(feature.qualifiers['gene'])\n",
    "\n",
    "print('GENOMIC SUMMARY for:')\n",
    "print(record.description) \n",
    "print(\"Accession: \" + record.id + '\\n')\n",
    "print(\"The total length of the genome is \" + str(len(record.seq)) + \" bases.\")\n",
    "print(\"There are \" + str(len(gene_names)) + \" genes.\")\n",
    "print(\"The gene names are:\")\n",
    "print(gene_names)"
   ]
  },
  {
   "cell_type": "markdown",
   "metadata": {},
   "source": [
    "### OK! We have the initial part of our summary, now let's start to gather the statistics for every gene. \n",
    "\n",
    "Remember we want these bits of info for every gene:\n",
    "* gene name;\n",
    "* its length;\n",
    "* its GC content;\n",
    "* no. of A's;\n",
    "* T's;\n",
    "* C's;\n",
    "* G's;\n",
    "* N's;\n",
    "\n",
    "So the first order of business is to get inside each feature and run some calculations."
   ]
  },
  {
   "cell_type": "code",
   "execution_count": 47,
   "metadata": {},
   "outputs": [],
   "source": [
    "# your code goes here..."
   ]
  },
  {
   "cell_type": "markdown",
   "metadata": {
    "cell_type": "hint",
    "jupyter": {
     "source_hidden": true
    }
   },
   "source": [
    "Check SeqUtils for GC content, in lesson 2 - Seq Objects or [the SeqUtils package documentation here](https://biopython.org/DIST/docs/api/Bio.SeqUtils-module.html)\n",
    "\n",
    "Check lesson 8 for counting bases."
   ]
  },
  {
   "cell_type": "code",
   "execution_count": 66,
   "metadata": {
    "cell_type": "solution",
    "collapsed": true,
    "jupyter": {
     "outputs_hidden": true,
     "source_hidden": true
    }
   },
   "outputs": [
    {
     "name": "stdout",
     "output_type": "stream",
     "text": [
      "-----\n",
      "['NP']\n",
      "Length: 2971\n",
      "GC content: 44.19387411645911\n",
      "A's: 947\n",
      "T's: 711\n",
      "C's: 668\n",
      "G's: 645\n",
      "N's: 0\n",
      "-----\n",
      "['VP35']\n",
      "Length: 1376\n",
      "GC content: 42.151162790697676\n",
      "A's: 448\n",
      "T's: 348\n",
      "C's: 297\n",
      "G's: 283\n",
      "N's: 0\n",
      "-----\n",
      "['VP40']\n",
      "Length: 1505\n",
      "GC content: 43.32225913621262\n",
      "A's: 449\n",
      "T's: 404\n",
      "C's: 369\n",
      "G's: 283\n",
      "N's: 0\n",
      "-----\n",
      "['GP']\n",
      "Length: 2406\n",
      "GC content: 45.59434746467166\n",
      "A's: 746\n",
      "T's: 563\n",
      "C's: 565\n",
      "G's: 532\n",
      "N's: 0\n",
      "-----\n",
      "['VP30']\n",
      "Length: 1453\n",
      "GC content: 39.091534755677905\n",
      "A's: 499\n",
      "T's: 386\n",
      "C's: 295\n",
      "G's: 273\n",
      "N's: 0\n",
      "-----\n",
      "['VP24']\n",
      "Length: 1634\n",
      "GC content: 39.0452876376989\n",
      "A's: 551\n",
      "T's: 445\n",
      "C's: 345\n",
      "G's: 293\n",
      "N's: 0\n",
      "-----\n",
      "['L']\n",
      "Length: 6782\n",
      "GC content: 39.67856089649071\n",
      "A's: 2137\n",
      "T's: 1954\n",
      "C's: 1372\n",
      "G's: 1319\n",
      "N's: 0\n"
     ]
    }
   ],
   "source": [
    "from Bio.SeqUtils import GC\n",
    "\n",
    "for feature in record.features:\n",
    "    if feature.type == ('gene'):\n",
    "        print('-----')\n",
    "        print(feature.qualifiers['gene'])\n",
    "        feat_seq = feature.extract(record.seq)\n",
    "        print('Length: ' + str(len(feat_seq)))\n",
    "        print(\"GC content: \" + str(GC(feat_seq)))\n",
    "        print(\"A's: \" + str(feat_seq.count('A')))\n",
    "        print(\"T's: \" + str(feat_seq.count('T')))\n",
    "        print(\"C's: \" + str(feat_seq.count('C')))\n",
    "        print(\"G's: \" + str(feat_seq.count('G')))\n",
    "        print(\"N's: \" + str(feat_seq.count('N')))\n",
    "        "
   ]
  },
  {
   "cell_type": "markdown",
   "metadata": {},
   "source": [
    "### Ok, now that we have the two components, let's just put them all together inside one function that takes one argument - the genbank record. That way if we ever have to use it, we can come back to this notebook and just change around the input file.\n",
    "\n",
    "You can present the data however you feel is nice and tidy up the code if you like. "
   ]
  },
  {
   "cell_type": "code",
   "execution_count": 4,
   "metadata": {},
   "outputs": [],
   "source": [
    "# Your code here ...\n",
    "\n",
    "from Bio import SeqIO\n",
    "from Bio.SeqUtils import GC\n",
    "\n",
    "def genome_stat_calc(genbank_record):\n",
    "    pass\n",
    "\n"
   ]
  },
  {
   "cell_type": "code",
   "execution_count": 5,
   "metadata": {
    "cell_type": "solution",
    "collapsed": true,
    "jupyter": {
     "outputs_hidden": true,
     "source_hidden": true
    }
   },
   "outputs": [
    {
     "name": "stdout",
     "output_type": "stream",
     "text": [
      "GENOMIC SUMMARY for:\n",
      "Zaire ebolavirus isolate Ebola virus/H.sapiens-wt/SLE/2014/Makona-G3686.1, complete genome\n",
      "Accession: KM034562.1\n",
      "\n",
      "The total length of the genome is 18957 bases.\n",
      "There are 7 genes.\n",
      "The gene names are:\n",
      "[['NP'], ['VP35'], ['VP40'], ['GP'], ['VP30'], ['VP24'], ['L']]\n",
      "-----\n",
      "['NP']\n",
      "Length: 2971\n",
      "GC content: 44.19387411645911\n",
      "A's: 947\n",
      "T's: 711\n",
      "C's: 668\n",
      "G's: 645\n",
      "N's: 0\n",
      "-----\n",
      "['VP35']\n",
      "Length: 1376\n",
      "GC content: 42.151162790697676\n",
      "A's: 448\n",
      "T's: 348\n",
      "C's: 297\n",
      "G's: 283\n",
      "N's: 0\n",
      "-----\n",
      "['VP40']\n",
      "Length: 1505\n",
      "GC content: 43.32225913621262\n",
      "A's: 449\n",
      "T's: 404\n",
      "C's: 369\n",
      "G's: 283\n",
      "N's: 0\n",
      "-----\n",
      "['GP']\n",
      "Length: 2406\n",
      "GC content: 45.59434746467166\n",
      "A's: 746\n",
      "T's: 563\n",
      "C's: 565\n",
      "G's: 532\n",
      "N's: 0\n",
      "-----\n",
      "['VP30']\n",
      "Length: 1453\n",
      "GC content: 39.091534755677905\n",
      "A's: 499\n",
      "T's: 386\n",
      "C's: 295\n",
      "G's: 273\n",
      "N's: 0\n",
      "-----\n",
      "['VP24']\n",
      "Length: 1634\n",
      "GC content: 39.0452876376989\n",
      "A's: 551\n",
      "T's: 445\n",
      "C's: 345\n",
      "G's: 293\n",
      "N's: 0\n",
      "-----\n",
      "['L']\n",
      "Length: 6782\n",
      "GC content: 39.67856089649071\n",
      "A's: 2137\n",
      "T's: 1954\n",
      "C's: 1372\n",
      "G's: 1319\n",
      "N's: 0\n"
     ]
    }
   ],
   "source": [
    "from Bio import SeqIO\n",
    "from Bio.SeqUtils import GC\n",
    "\n",
    "\n",
    "def genome_stat_calc(genbank_record):\n",
    "    print('GENOMIC SUMMARY for:')\n",
    "    print(genbank_record.description) \n",
    "    print(\"Accession: \" + genbank_record.id + '\\n')\n",
    "    print(\"The total length of the genome is \" + str(len(genbank_record.seq)) + \" bases.\")\n",
    "    \n",
    "    gene_names = []\n",
    "    for feature in genbank_record.features:\n",
    "        if feature.type == ('gene'):\n",
    "            gene_names.append(feature.qualifiers['gene'])\n",
    "\n",
    "    print(\"There are \" + str(len(gene_names)) + \" genes.\")\n",
    "    print(\"The gene names are:\")\n",
    "    print(gene_names)\n",
    "\n",
    "\n",
    "    for feature in genbank_record.features:\n",
    "        if feature.type == ('gene'):\n",
    "            print('-----')\n",
    "            print(feature.qualifiers['gene'])\n",
    "            feat_seq = feature.extract(genbank_record.seq)\n",
    "            print('Length: ' + str(len(feat_seq)))\n",
    "            print(\"GC content: \" + str(GC(feat_seq)))\n",
    "            print(\"A's: \" + str(feat_seq.count('A')))\n",
    "            print(\"T's: \" + str(feat_seq.count('T')))\n",
    "            print(\"C's: \" + str(feat_seq.count('C')))\n",
    "            print(\"G's: \" + str(feat_seq.count('G')))\n",
    "            print(\"N's: \" + str(feat_seq.count('N')))\n",
    "            \n",
    "\n",
    "genome_stat_calc(SeqIO.read('data/KM034562.gb', 'gb'))\n",
    "        "
   ]
  },
  {
   "cell_type": "markdown",
   "metadata": {},
   "source": [
    "Now there are so many ways to accomplish this, and definitely tighten up the code to make it more concise.\n",
    "That only works if you will be able to understand it later though. I tend to err on the side of being more verbose, or explanatory, so that when I come back to code in a few months I knew what the heck I was doing. \n",
    "\n",
    "But isn't that cool? We just built a custom calculator using bipython. \n",
    "\n",
    "### Great job!! 🥳"
   ]
  },
  {
   "cell_type": "code",
   "execution_count": null,
   "metadata": {},
   "outputs": [],
   "source": []
  }
 ],
 "metadata": {
  "kernelspec": {
   "display_name": "Python 3",
   "language": "python",
   "name": "python3"
  },
  "language_info": {
   "codemirror_mode": {
    "name": "ipython",
    "version": 3
   },
   "file_extension": ".py",
   "mimetype": "text/x-python",
   "name": "python",
   "nbconvert_exporter": "python",
   "pygments_lexer": "ipython3",
   "version": "3.8.1"
  }
 },
 "nbformat": 4,
 "nbformat_minor": 4
}
