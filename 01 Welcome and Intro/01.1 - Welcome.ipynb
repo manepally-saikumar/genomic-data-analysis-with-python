{
 "cells": [
  {
   "cell_type": "markdown",
   "metadata": {},
   "source": [
    "![rmotr](https://user-images.githubusercontent.com/7065401/52071918-bda15380-2562-11e9-828c-7f95297e4a82.png)\n",
    "<hr style=\"margin-bottom: 40px;\">\n",
    "\n",
    "# Hello and welome to Python for Genomics!\n",
    "\n",
    "This is an introductory course on manipulating sequence data with python-based tools. \n",
    "\n",
    "The field of genomics is very broad; there exists subspecialties that concentrate on various aspects within biology, like proteins (proteomics), metabolism (metabolomics), etc.\n",
    "\n",
    "We will be analyzing viral genomes using Python-centric tools such as:\n",
    "\n",
    "* biopython,   \n",
    "* scikit-bio,  \n",
    "* and other popular data science libraries such as pandas, matplotlib, and plotly.  \n",
    "\n",
    "By the end of this course, you will know:\n",
    "* how to use common biopython objects and their functions;\n",
    "* how to perform alignments in jupyter notebooks using clustal omega;\n",
    "* how to make some quick and dirty visualizations on those alignments using some scikit-bio.\n",
    "\n",
    "\n",
    "Project-based learning is a great learning strategy that is used in most data science curricula, so that is exactly how we're going to approach this class. Specifically, we will be analyzing sequence data from the 2014 West African Ebola outbreak. \n",
    "\n",
    "\n",
    "<br>\n"
   ]
  },
  {
   "cell_type": "markdown",
   "metadata": {},
   "source": [
    "![purple-divider](https://user-images.githubusercontent.com/7065401/52071927-c1cd7100-2562-11e9-908a-dde91ba14e59.png)\n",
    "\n",
    "## Prerequisites\n",
    "\n",
    "Now, advanced knowledge on the Ebola Virus genome or this outbreak are not necessary to complete this course.\n",
    "\n",
    "If you have a science background and know the basics of Python programming, you will be fine for this course.\n",
    "\n",
    "If you come from a programming/data science background, as long as you have working knowledge of basic biology (such as what would be covered in an undergraduate Biology 101 class) you will be fine.\n",
    "\n",
    "I'm not going to cover bioinformatics theory in depth here, but rather an applied approach of working with biopython for sequence data.\n",
    "\n",
    "In addition, we will be performing an loose, exploratory analysis using datasets (seqeunces) from two peer-reviewed papers. In other words, the set of exercises contained within this course is meant to serve as a proof of concept for using biopython and should not be taken a true rigorous analysis from which we can derive any final conclusions about the outbreak.   \n",
    "\n",
    "## Why study the West African Ebola outbreak?\n",
    "\n",
    "\n",
    "1. There is a substantial amount of data that has been collected over recent years on Ebola and this outbreak. This allows us to get a 'big picture' look of what happened.\n",
    "\n",
    "2. Viral genomes are relatively small, so it's a good way for us to learn about tools without taking up too much compuational time and memory.\n",
    "\n",
    "3. It's incredibly interesting :) \n",
    "\n",
    "## What happened during this outbreak?\n",
    "\n",
    "The Ebola virus has been around for a few decades (that we are aware of), and prior to 2013, the largest Ebola virus-associated outbreak was in 1976, with about 318 cases and a fatality rate of 88%. \n",
    "\n",
    "In late 2013, the Ebola virus re-emerged. \n",
    "\n",
    "Previously confined to remote regions of the Congo basin (more centrally located within the continent), the Ebola virus was now infecting humans in countries located in Western Africa, such as Guinea, Sierra Leone, and Liberia. \n",
    "\n",
    "#### As the largest Ebola outbreak in history, it is now referred as the 2014 West African Ebola epidemic, and has caused 28,646 cases and 11,323 deaths. \n",
    "\n",
    "<br>\n",
    "\n",
    "![330px-2014_West_Africa_Ebola_virus_outbreak_situation_map](https://user-images.githubusercontent.com/22747792/75079199-c988ec00-54bc-11ea-95a2-3a3744bafb66.jpg)\n",
    "\n",
    "<br>\n",
    "\n",
    "Scientists were able to track the epidemic's (human to human transmission) origin to a singular event: the burial of a traditional healer in Guinea that treated patients sick with the Ebola virus. The funeral participants traveled back to their homes in Sierra Leone, which was thought to begin the spread of the virus in the country.\n",
    "\n",
    "<br>\n",
    "\n",
    "![animated-map-med-january-2016](https://user-images.githubusercontent.com/22747792/75079579-0acdcb80-54be-11ea-9c75-f67150f30a80.gif)\n",
    "\n",
    "<br>\n",
    "\n",
    "Its natural reservoir is still largely unknown, but studies with closely related Marburgvirus lead us to believe that zoonosis (viral transmission from other animals) is likely. \n",
    "\n",
    "<br>\n",
    "\n",
    "![EbolaCycle](https://user-images.githubusercontent.com/22747792/75079360-52a02300-54bd-11ea-9064-d2b8dc47c51a.png)\n",
    "\n",
    "<br>\n",
    "\n",
    "The World Health Organization has since contained the outbreak as of March 2016. \n",
    "\n",
    "At the time of this writing (early 2020), there is an ongoing Ebola epidemic within the Democratic Republic of the Congo. It is currently the second largest outbreak."
   ]
  },
  {
   "cell_type": "markdown",
   "metadata": {},
   "source": [
    "![green-divider](https://user-images.githubusercontent.com/7065401/52071924-c003ad80-2562-11e9-8297-1c6595f8a7ff.png)\n",
    "\n",
    "## What data (sequences) will we be analyzing?\n",
    "\n",
    "### We will be look at two datasets. The first is is from EARLY IN THE OUTBREAK.\n",
    "\n",
    "#### 1. The first dataset comes from a seminal paper on the outbreak elucidating the virus's origin. \n",
    "\n",
    "* The 249 sequences are deposited NCBI's website as BioProject PRJNA257197. \n",
    "\n",
    "* It contains sequences from samples taken from May to June 2014."
   ]
  },
  {
   "cell_type": "markdown",
   "metadata": {},
   "source": [
    "###  [Genomic surveillance elucidates Ebola virus origin and transmission during the 2014 outbreak by Gire, et. al](https://www.ncbi.nlm.nih.gov/pmc/articles/PMC4431643/):"
   ]
  },
  {
   "cell_type": "code",
   "execution_count": 1,
   "metadata": {},
   "outputs": [
    {
     "data": {
      "text/html": [
       "\n",
       "        <iframe\n",
       "            width=\"800\"\n",
       "            height=\"400\"\n",
       "            src=\"https://www.ncbi.nlm.nih.gov/pmc/articles/PMC4431643/\"\n",
       "            frameborder=\"0\"\n",
       "            allowfullscreen\n",
       "        ></iframe>\n",
       "        "
      ],
      "text/plain": [
       "<IPython.lib.display.IFrame at 0x7f454406c4c0>"
      ]
     },
     "execution_count": 1,
     "metadata": {},
     "output_type": "execute_result"
    }
   ],
   "source": [
    "from IPython.display import IFrame\n",
    "url = \"https://www.ncbi.nlm.nih.gov/pmc/articles/PMC4431643/\"\n",
    "IFrame(url, 800, 400)"
   ]
  },
  {
   "cell_type": "markdown",
   "metadata": {},
   "source": [
    "### 2. The second dataset is from a LATER IN THE OUTBREAK. \n",
    "\n",
    "It analyzes a 'rapid growth phase' of the outbreak and describing the virus as becoming more phylogenetically and genetically diverse.\n",
    "\n",
    "* The 175 sequences were from samples taken from about Sept to Nov 2014.\n",
    "\n",
    "* The list of accession numbers, however, is not contained within a BioProject, but is given to us as Supplementary Information in table format.\n"
   ]
  },
  {
   "cell_type": "markdown",
   "metadata": {},
   "source": [
    "\n",
    "\n",
    "\n",
    "### [Genetic diversity and evolutionary dynamics of Ebola virus in Sierra Leone by Tong, et. al](https://www.nature.com/articles/nature14490):\n",
    "\n",
    "\n",
    "\n"
   ]
  },
  {
   "cell_type": "code",
   "execution_count": 3,
   "metadata": {},
   "outputs": [
    {
     "data": {
      "text/html": [
       "\n",
       "        <iframe\n",
       "            width=\"800\"\n",
       "            height=\"400\"\n",
       "            src=\"https://www.ncbi.nlm.nih.gov/pubmed/25970247/\"\n",
       "            frameborder=\"0\"\n",
       "            allowfullscreen\n",
       "        ></iframe>\n",
       "        "
      ],
      "text/plain": [
       "<IPython.lib.display.IFrame at 0x7f454406cac0>"
      ]
     },
     "execution_count": 3,
     "metadata": {},
     "output_type": "execute_result"
    }
   ],
   "source": [
    "from IPython.display import IFrame\n",
    "url = \"https://www.ncbi.nlm.nih.gov/pubmed/25970247/\"\n",
    "IFrame(url, 800, 400)"
   ]
  },
  {
   "cell_type": "markdown",
   "metadata": {},
   "source": [
    "![purple-divider](https://user-images.githubusercontent.com/7065401/52071927-c1cd7100-2562-11e9-908a-dde91ba14e59.png)\n",
    "\n",
    "### References:\n",
    "\n",
    "https://www.viprbrc.org/brc/home.spg?decorator=filo_ebola  \n",
    "https://www.ncbi.nlm.nih.gov/pmc/articles/PMC4880067/  \n",
    "https://www.who.int/csr/disease/ebola/en/  \n",
    "https://www.ncbi.nlm.nih.gov/pmc/articles/PMC3571414/  \n",
    "https://genome.ucsc.edu/ebolaPortal/"
   ]
  }
 ],
 "metadata": {
  "kernelspec": {
   "display_name": "Python 3",
   "language": "python",
   "name": "python3"
  },
  "language_info": {
   "codemirror_mode": {
    "name": "ipython",
    "version": 3
   },
   "file_extension": ".py",
   "mimetype": "text/x-python",
   "name": "python",
   "nbconvert_exporter": "python",
   "pygments_lexer": "ipython3",
   "version": "3.8.1"
  }
 },
 "nbformat": 4,
 "nbformat_minor": 4
}
