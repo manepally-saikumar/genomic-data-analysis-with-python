{
 "cells": [
  {
   "cell_type": "markdown",
   "metadata": {},
   "source": [
    "![rmotr](https://user-images.githubusercontent.com/7065401/52071918-bda15380-2562-11e9-828c-7f95297e4a82.png)\n",
    "<hr style=\"margin-bottom: 40px;\">\n",
    "\n",
    "# Python for Genomics \n",
    "## Section 5: Writing and Converting Files Exercises \n",
    "\n",
    "![purple-divider](https://user-images.githubusercontent.com/7065401/52071927-c1cd7100-2562-11e9-908a-dde91ba14e59.png)"
   ]
  },
  {
   "cell_type": "markdown",
   "metadata": {},
   "source": [
    "## Let's write your freshly extracted NP sequences to a file using `SeqIO.write()`\n",
    "\n",
    "Remember those Ituri province NP (nucleoprotein) sequences from that genbank file that you saved to a list (in the last exercise notebook from section4)? I'll rewrite the code for that below:"
   ]
  },
  {
   "cell_type": "code",
   "execution_count": 3,
   "metadata": {},
   "outputs": [],
   "source": [
    "from Bio import SeqIO\n",
    "\n",
    "ituri_seqs = SeqIO.parse('data/Ituri_sequences.gb', 'genbank')\n",
    "\n",
    "NP_list = []\n",
    "\n",
    "for record in ituri_seqs:\n",
    "    for feature in record.features:\n",
    "        if feature.type == 'gene' and feature.qualifiers['gene'] == ['NP']:\n",
    "            NP_gene = feature.extract(record.seq)\n",
    "            NP_list.append(NP_gene)"
   ]
  },
  {
   "cell_type": "markdown",
   "metadata": {},
   "source": [
    "### 1 - Go ahead and take a look at NP_list"
   ]
  },
  {
   "cell_type": "code",
   "execution_count": null,
   "metadata": {},
   "outputs": [],
   "source": [
    "# your code goes here..."
   ]
  },
  {
   "cell_type": "code",
   "execution_count": 4,
   "metadata": {
    "cell_type": "solution"
   },
   "outputs": [
    {
     "data": {
      "text/plain": [
       "[Seq('GAGGAAGATTAATAATTTTCCTCTCATTGAAATTTATATCGGAATTTAAATTGA...AAA', IUPACAmbiguousDNA()),\n",
       " Seq('GAGGAAGATTAATAATTTTCCTCTCATTGAAATTTATATCGGAATTTAAATTGA...AAA', IUPACAmbiguousDNA()),\n",
       " Seq('GAGGAAGATTAATAATTTTCCTCTCATTGAAATTTATATCGGAATTTAAATTGA...AAA', IUPACAmbiguousDNA()),\n",
       " Seq('GAGGAAGATTAATAATTTTCCTCTCATTGAAATTTATATCGGAATTTAAATTGA...AAA', IUPACAmbiguousDNA()),\n",
       " Seq('TCGTCCTCAGAAAGTTTGGATGACGCCGAATCTCACTGAATCTGACATGGATTA...TGA', IUPACAmbiguousDNA()),\n",
       " Seq('GAGGAAGATTAATAATTTTCCTCTCATTGAAATTTATATCGGAATTTAAATTGA...AAA', IUPACAmbiguousDNA()),\n",
       " Seq('GAGGAAGATTAATAATTTTCCTCTCATTGAAATTTATATCGGAATTTAAATTGA...AAA', IUPACAmbiguousDNA()),\n",
       " Seq('GAGGAAGATTAATAATTTTCCTCTCATTGAAATTTATATCGGAATTTAAATTGA...AAA', IUPACAmbiguousDNA()),\n",
       " Seq('GAGGAAGATTAATAATTTTCCTCTCATTGAAATTTATATCGGAATTTAAATTGA...AAA', IUPACAmbiguousDNA()),\n",
       " Seq('GAGGAAGATTAATAATTTTCCTCTCATTGAAATTTATATCGGAATTTAAATTGA...AAA', IUPACAmbiguousDNA()),\n",
       " Seq('GAGGAAGATTAATAATTTTCCTCTCATTGAAATTTATATCGGAATTTAAATTGA...AAA', IUPACAmbiguousDNA()),\n",
       " Seq('GATTGTTCGGCAAAGAGTCATCCCAGTGTATCAAGTCAACAATCTTGAGGAAAT...TGA', IUPACAmbiguousDNA()),\n",
       " Seq('GAGGAAGATTAATAATTTTCCTCTCATTGAAATTTATATCGGAATTTAAATTGA...AAA', IUPACAmbiguousDNA()),\n",
       " Seq('GAGGAAGATTAATAATTTTCCTCTCATTGAAATTTATATCGGAATTTAAATTGA...AAA', IUPACAmbiguousDNA()),\n",
       " Seq('GAGGAAGATTAATAATTTTCCTCTCATTGAAATTTATATCGGAATTTAAATTGA...AAA', IUPACAmbiguousDNA()),\n",
       " Seq('GAGGAAGATTAATAATTTTCCTCTCATTGAAATTTATATCGGAATTTAAATTGA...AAA', IUPACAmbiguousDNA()),\n",
       " Seq('ATCTCACTGANTCTGACATGGATTACCACAAGATCTTGACGGCAGGTCTGTCTG...GTG', IUPACAmbiguousDNA()),\n",
       " Seq('GAGGAAGATTAATAATTTTCCTCTCATTGAAATTTATATCGGAATTTAAATTGA...AAA', IUPACAmbiguousDNA()),\n",
       " Seq('TTGACGGCAGGTCTGTCTGTTCAACAGGGGATTGTTCGGCAAAGAGTCATCCCA...TGA', IUPACAmbiguousDNA()),\n",
       " Seq('GAGGAAGATTAATAATTTTCCTCTCATTGAAATTTATATCGGAATTTAAATTGA...AAA', IUPACAmbiguousDNA()),\n",
       " Seq('GAGGAAGATTAATAATTTTCCTCTCATTGAAATTTATATCGGAATTTAAATTGA...AAA', IUPACAmbiguousDNA()),\n",
       " Seq('GAGGAAGATTAATAATTTTCCTCTCATTGAAATTTATATCGGAATTTAAATTGA...AAA', IUPACAmbiguousDNA()),\n",
       " Seq('GAGGAAGATTAATAATTTTCCTCTCATTGAAATTTATATCGGAATTTAAATTGA...AAA', IUPACAmbiguousDNA()),\n",
       " Seq('GAGGAAGATTAATAATTTTCCTCTCATTGAAATTTATATCGGAATTTAAATTGA...AAA', IUPACAmbiguousDNA()),\n",
       " Seq('GAGGAAGATTAATAATTTTCCTCTCATTGAAATTTATATCGGAATTTAAATTGA...AAA', IUPACAmbiguousDNA()),\n",
       " Seq('GAGGAAGATTAATAATTTTCCTCTCATTGAAATTTATATCGGAATTTAAATTGA...AAA', IUPACAmbiguousDNA()),\n",
       " Seq('GAGGAAGATTAATAATTTTCCTCTCATTGAAATTTATATCGGAATTTAAATTGA...AAA', IUPACAmbiguousDNA()),\n",
       " Seq('GAGGAAGATTAATAATTTTCCTCTCATTGAAATTTATATCGGAATTTAAATTGA...AAA', IUPACAmbiguousDNA()),\n",
       " Seq('GAGGAAGATTAATAATTTTCCTCTCATTGAAATTTATATCGGAATTTAAATTGA...AAA', IUPACAmbiguousDNA()),\n",
       " Seq('GAGGAAGATTAATAATTTTCCTCTCATTGAAATTTATATCGGAATTTAAATTGA...AAA', IUPACAmbiguousDNA()),\n",
       " Seq('GAGGAAGATTAATAATTTTCCTCTCATTGAAATTTATATCGGAATTTAAATTGA...AAA', IUPACAmbiguousDNA()),\n",
       " Seq('GAGGAAGATTAATAATTTTCCTCTCATTGAAATTTATATCGGAATTTAAATTGA...AAA', IUPACAmbiguousDNA()),\n",
       " Seq('GAGGAAGATTAATAATTTTCCTCTCATTGAAATTTATATCGGAATTTAAATTGA...AAA', IUPACAmbiguousDNA()),\n",
       " Seq('GAGGAAGATTAATAATTTTCCTCTCATTGAAATTTATATCGGAATTTAAATTGA...AAA', IUPACAmbiguousDNA()),\n",
       " Seq('GAGGAAGATTAATAATTTTCCTCTCATTGAAATTTATATCGGAATTTAAATTGA...AAA', IUPACAmbiguousDNA()),\n",
       " Seq('GAGGAAGATTAATAATTTTCCTCTCATTGAAATTTATATCGGAATTTAAATTGA...AAA', IUPACAmbiguousDNA()),\n",
       " Seq('GAGGAAGATTAATAATTTTCCTCTCATTGAAATTTATATCGGAATTTAAATTGA...AAA', IUPACAmbiguousDNA()),\n",
       " Seq('GAGGAAGATTAATAATTTTCCTCTCATTGAAATTTATATCGGAATTTAAATTGA...AAA', IUPACAmbiguousDNA()),\n",
       " Seq('GAGGAAGATTAATAATTTTCCTCTCATTGAAATTTATATCGGAATTTAAATTGA...AAA', IUPACAmbiguousDNA()),\n",
       " Seq('TTTATATCGGAATTTAAATTGAAATTGTTACTGTAATCACACCTGGTTTGTTTC...AAA', IUPACAmbiguousDNA()),\n",
       " Seq('GAGGAAGATTAATAATTTTCCTCTCATTGAAATTTATATCGGAATTTAAATTGA...AAA', IUPACAmbiguousDNA()),\n",
       " Seq('GAGGAAGATTAATAATTTTCCTCTCATTGAAATTTATATCGGAATTTAAATTGA...AAA', IUPACAmbiguousDNA()),\n",
       " Seq('GAGGAAGATTAATAATTTTCCTCTCATTGAAATTTATATCGGAATTTAAATTGA...AAA', IUPACAmbiguousDNA()),\n",
       " Seq('GAGGAAGATTAATAATTTTCCTCTCATTGAAATTTATATCGGAATTTAAATTGA...AAA', IUPACAmbiguousDNA()),\n",
       " Seq('GAGGAAGATTAATAATTTTCCTCTCATTGAAATTTATATCGGAATTTAAATTGA...AAA', IUPACAmbiguousDNA()),\n",
       " Seq('GAGGAAGATTAATAATTTTCCTCTCATTGAAATTTATATCGGAATTTAAATTGA...AAA', IUPACAmbiguousDNA()),\n",
       " Seq('GAGGAAGATTAATAATTTTCCTCTCATTGAAATTTATATCGGAATTTAAATTGA...AAA', IUPACAmbiguousDNA()),\n",
       " Seq('GAGGAAGATTAATAATTTTCCTCTCATTGAAATTTATATCGGAATTTAAATTGA...AAA', IUPACAmbiguousDNA()),\n",
       " Seq('GAGGAAGATTAATAATTTTCCTCTCATTGAAATTTATATCGGAATTTAAATTGA...AAA', IUPACAmbiguousDNA()),\n",
       " Seq('GAGGAAGATTAATAATTTTCCTCTCATTGAAATTTATATCGGAATTTAAATTGA...AAA', IUPACAmbiguousDNA()),\n",
       " Seq('GAGGAAGATTAATAATTTTCCTCTCATTGAAATTTATATCGGAATTTAAATTGA...AAA', IUPACAmbiguousDNA()),\n",
       " Seq('GAGGAAGATTAATAATTTTCCTCTCATTGAAATTTATATCGGAATTTAAATTGA...AAA', IUPACAmbiguousDNA()),\n",
       " Seq('GAGGAAGATTAATAATTTTCCTCTCATTGAAATTTATATCGGAATTTAAATTGA...AAA', IUPACAmbiguousDNA()),\n",
       " Seq('GAGGAAGATTAATAATTTTCCTCTCATTGAAATTTATATCGGAATTTAAATTGA...AAA', IUPACAmbiguousDNA()),\n",
       " Seq('GAGGAAGATTAATAATTTTCCTCTCATTGAAATTTATATCGGAATTTAAATTGA...AAA', IUPACAmbiguousDNA()),\n",
       " Seq('GAGGAAGATTAATAATTTTCCTCTCATTGAAATTTATATCGGAATTTAAATTGA...AAA', IUPACAmbiguousDNA()),\n",
       " Seq('GAGGAAGATTAATAATTTTCCTCTCATTGAAATTTATATCGGAATTTAAATTGA...AAA', IUPACAmbiguousDNA()),\n",
       " Seq('GAGGAAGATTAATAATTTTCCTCTCATTGAAATTTATATCGGAATTTAAATTGA...AAA', IUPACAmbiguousDNA()),\n",
       " Seq('GAGGAAGATTAATAATTTTCCTCTCACTGAAATCTATATCGGAATTTAAATTGA...AAA', IUPACAmbiguousDNA())]"
      ]
     },
     "execution_count": 4,
     "metadata": {},
     "output_type": "execute_result"
    }
   ],
   "source": [
    "NP_list"
   ]
  },
  {
   "cell_type": "markdown",
   "metadata": {},
   "source": [
    "### 2 - What type of objects are contained within that list? We'll need Seq Records. Can you rewrite the code above a create a new list (with a new name) of Seq Records? Check the length of the list and take a look at the contents of the list. "
   ]
  },
  {
   "cell_type": "code",
   "execution_count": null,
   "metadata": {},
   "outputs": [],
   "source": [
    "# your code goes here..."
   ]
  },
  {
   "cell_type": "code",
   "execution_count": 5,
   "metadata": {
    "cell_type": "solution"
   },
   "outputs": [
    {
     "name": "stdout",
     "output_type": "stream",
     "text": [
      "59\n"
     ]
    },
    {
     "data": {
      "text/plain": [
       "[SeqRecord(seq=Seq('GAGGAAGATTAATAATTTTCCTCTCATTGAAATTTATATCGGAATTTAAATTGA...AAA', IUPACAmbiguousDNA()), id='MK163675.1', name='MK163675', description='Zaire ebolavirus isolate Ebola virus/H.sapiens-wt/COD/2018/Ituri-BEN294, partial genome', dbxrefs=[]),\n",
       " SeqRecord(seq=Seq('GAGGAAGATTAATAATTTTCCTCTCATTGAAATTTATATCGGAATTTAAATTGA...AAA', IUPACAmbiguousDNA()), id='MK163674.1', name='MK163674', description='Zaire ebolavirus isolate Ebola virus/H.sapiens-wt/COD/2018/Ituri-BEN292, partial genome', dbxrefs=[]),\n",
       " SeqRecord(seq=Seq('GAGGAAGATTAATAATTTTCCTCTCATTGAAATTTATATCGGAATTTAAATTGA...AAA', IUPACAmbiguousDNA()), id='MK163673.1', name='MK163673', description='Zaire ebolavirus isolate Ebola virus/H.sapiens-wt/COD/2018/Ituri-BEN286, partial genome', dbxrefs=[]),\n",
       " SeqRecord(seq=Seq('GAGGAAGATTAATAATTTTCCTCTCATTGAAATTTATATCGGAATTTAAATTGA...AAA', IUPACAmbiguousDNA()), id='MK163672.1', name='MK163672', description='Zaire ebolavirus isolate Ebola virus/H.sapiens-wt/COD/2018/Ituri-BEN274, partial genome', dbxrefs=[]),\n",
       " SeqRecord(seq=Seq('TCGTCCTCAGAAAGTTTGGATGACGCCGAATCTCACTGAATCTGACATGGATTA...TGA', IUPACAmbiguousDNA()), id='MK163671.1', name='MK163671', description='Zaire ebolavirus isolate Ebola virus/H.sapiens-wt/COD/2018/Ituri-BEN269, partial genome', dbxrefs=[]),\n",
       " SeqRecord(seq=Seq('GAGGAAGATTAATAATTTTCCTCTCATTGAAATTTATATCGGAATTTAAATTGA...AAA', IUPACAmbiguousDNA()), id='MK163670.1', name='MK163670', description='Zaire ebolavirus isolate Ebola virus/H.sapiens-wt/COD/2018/Ituri-BEN268, partial genome', dbxrefs=[]),\n",
       " SeqRecord(seq=Seq('GAGGAAGATTAATAATTTTCCTCTCATTGAAATTTATATCGGAATTTAAATTGA...AAA', IUPACAmbiguousDNA()), id='MK163669.1', name='MK163669', description='Zaire ebolavirus isolate Ebola virus/H.sapiens-wt/COD/2018/Ituri-BEN267, partial genome', dbxrefs=[]),\n",
       " SeqRecord(seq=Seq('GAGGAAGATTAATAATTTTCCTCTCATTGAAATTTATATCGGAATTTAAATTGA...AAA', IUPACAmbiguousDNA()), id='MK163668.1', name='MK163668', description='Zaire ebolavirus isolate Ebola virus/H.sapiens-wt/COD/2018/Ituri-BEN263, partial genome', dbxrefs=[]),\n",
       " SeqRecord(seq=Seq('GAGGAAGATTAATAATTTTCCTCTCATTGAAATTTATATCGGAATTTAAATTGA...AAA', IUPACAmbiguousDNA()), id='MK163667.1', name='MK163667', description='Zaire ebolavirus isolate Ebola virus/H.sapiens-wt/COD/2018/Ituri-BEN255, partial genome', dbxrefs=[]),\n",
       " SeqRecord(seq=Seq('GAGGAAGATTAATAATTTTCCTCTCATTGAAATTTATATCGGAATTTAAATTGA...AAA', IUPACAmbiguousDNA()), id='MK163666.1', name='MK163666', description='Zaire ebolavirus isolate Ebola virus/H.sapiens-wt/COD/2018/Ituri-BEN240, partial genome', dbxrefs=[]),\n",
       " SeqRecord(seq=Seq('GAGGAAGATTAATAATTTTCCTCTCATTGAAATTTATATCGGAATTTAAATTGA...AAA', IUPACAmbiguousDNA()), id='MK163665.1', name='MK163665', description='Zaire ebolavirus isolate Ebola virus/H.sapiens-wt/COD/2018/Ituri-BEN236, partial genome', dbxrefs=[]),\n",
       " SeqRecord(seq=Seq('GATTGTTCGGCAAAGAGTCATCCCAGTGTATCAAGTCAACAATCTTGAGGAAAT...TGA', IUPACAmbiguousDNA()), id='MK163664.1', name='MK163664', description='Zaire ebolavirus isolate Ebola virus/H.sapiens-wt/COD/2018/Ituri-BEN234, partial genome', dbxrefs=[]),\n",
       " SeqRecord(seq=Seq('GAGGAAGATTAATAATTTTCCTCTCATTGAAATTTATATCGGAATTTAAATTGA...AAA', IUPACAmbiguousDNA()), id='MK163663.1', name='MK163663', description='Zaire ebolavirus isolate Ebola virus/H.sapiens-wt/COD/2018/Ituri-BEN230, partial genome', dbxrefs=[]),\n",
       " SeqRecord(seq=Seq('GAGGAAGATTAATAATTTTCCTCTCATTGAAATTTATATCGGAATTTAAATTGA...AAA', IUPACAmbiguousDNA()), id='MK163662.1', name='MK163662', description='Zaire ebolavirus isolate Ebola virus/H.sapiens-wt/COD/2018/Ituri-BEN225, partial genome', dbxrefs=[]),\n",
       " SeqRecord(seq=Seq('GAGGAAGATTAATAATTTTCCTCTCATTGAAATTTATATCGGAATTTAAATTGA...AAA', IUPACAmbiguousDNA()), id='MK163661.1', name='MK163661', description='Zaire ebolavirus isolate Ebola virus/H.sapiens-wt/COD/2018/Ituri-BEN214, partial genome', dbxrefs=[]),\n",
       " SeqRecord(seq=Seq('GAGGAAGATTAATAATTTTCCTCTCATTGAAATTTATATCGGAATTTAAATTGA...AAA', IUPACAmbiguousDNA()), id='MK163660.1', name='MK163660', description='Zaire ebolavirus isolate Ebola virus/H.sapiens-wt/COD/2018/Ituri-BEN167, partial genome', dbxrefs=[]),\n",
       " SeqRecord(seq=Seq('ATCTCACTGANTCTGACATGGATTACCACAAGATCTTGACGGCAGGTCTGTCTG...GTG', IUPACAmbiguousDNA()), id='MK163659.1', name='MK163659', description='Zaire ebolavirus isolate Ebola virus/H.sapiens-wt/COD/2018/Ituri-BEN165, partial genome', dbxrefs=[]),\n",
       " SeqRecord(seq=Seq('GAGGAAGATTAATAATTTTCCTCTCATTGAAATTTATATCGGAATTTAAATTGA...AAA', IUPACAmbiguousDNA()), id='MK163658.1', name='MK163658', description='Zaire ebolavirus isolate Ebola virus/H.sapiens-wt/COD/2018/Ituri-BEN164, partial genome', dbxrefs=[]),\n",
       " SeqRecord(seq=Seq('TTGACGGCAGGTCTGTCTGTTCAACAGGGGATTGTTCGGCAAAGAGTCATCCCA...TGA', IUPACAmbiguousDNA()), id='MK163657.1', name='MK163657', description='Zaire ebolavirus isolate Ebola virus/H.sapiens-wt/COD/2018/Ituri-BEN163, partial genome', dbxrefs=[]),\n",
       " SeqRecord(seq=Seq('GAGGAAGATTAATAATTTTCCTCTCATTGAAATTTATATCGGAATTTAAATTGA...AAA', IUPACAmbiguousDNA()), id='MK163656.1', name='MK163656', description='Zaire ebolavirus isolate Ebola virus/H.sapiens-wt/COD/2018/Ituri-BEN162, partial genome', dbxrefs=[]),\n",
       " SeqRecord(seq=Seq('GAGGAAGATTAATAATTTTCCTCTCATTGAAATTTATATCGGAATTTAAATTGA...AAA', IUPACAmbiguousDNA()), id='MK163655.1', name='MK163655', description='Zaire ebolavirus isolate Ebola virus/H.sapiens-wt/COD/2018/Ituri-BEN148, partial genome', dbxrefs=[]),\n",
       " SeqRecord(seq=Seq('GAGGAAGATTAATAATTTTCCTCTCATTGAAATTTATATCGGAATTTAAATTGA...AAA', IUPACAmbiguousDNA()), id='MK163654.1', name='MK163654', description='Zaire ebolavirus isolate Ebola virus/H.sapiens-wt/COD/2018/Ituri-BEN146, partial genome', dbxrefs=[]),\n",
       " SeqRecord(seq=Seq('GAGGAAGATTAATAATTTTCCTCTCATTGAAATTTATATCGGAATTTAAATTGA...AAA', IUPACAmbiguousDNA()), id='MK163653.1', name='MK163653', description='Zaire ebolavirus isolate Ebola virus/H.sapiens-wt/COD/2018/Ituri-BEN143, partial genome', dbxrefs=[]),\n",
       " SeqRecord(seq=Seq('GAGGAAGATTAATAATTTTCCTCTCATTGAAATTTATATCGGAATTTAAATTGA...AAA', IUPACAmbiguousDNA()), id='MK163652.1', name='MK163652', description='Zaire ebolavirus isolate Ebola virus/H.sapiens-wt/COD/2018/Ituri-BEN141, partial genome', dbxrefs=[]),\n",
       " SeqRecord(seq=Seq('GAGGAAGATTAATAATTTTCCTCTCATTGAAATTTATATCGGAATTTAAATTGA...AAA', IUPACAmbiguousDNA()), id='MK163651.1', name='MK163651', description='Zaire ebolavirus isolate Ebola virus/H.sapiens-wt/COD/2018/Ituri-BEN140, partial genome', dbxrefs=[]),\n",
       " SeqRecord(seq=Seq('GAGGAAGATTAATAATTTTCCTCTCATTGAAATTTATATCGGAATTTAAATTGA...AAA', IUPACAmbiguousDNA()), id='MK163650.1', name='MK163650', description='Zaire ebolavirus isolate Ebola virus/H.sapiens-wt/COD/2018/Ituri-BEN114, partial genome', dbxrefs=[]),\n",
       " SeqRecord(seq=Seq('GAGGAAGATTAATAATTTTCCTCTCATTGAAATTTATATCGGAATTTAAATTGA...AAA', IUPACAmbiguousDNA()), id='MK163649.1', name='MK163649', description='Zaire ebolavirus isolate Ebola virus/H.sapiens-wt/COD/2018/Ituri-BEN104, partial genome', dbxrefs=[]),\n",
       " SeqRecord(seq=Seq('GAGGAAGATTAATAATTTTCCTCTCATTGAAATTTATATCGGAATTTAAATTGA...AAA', IUPACAmbiguousDNA()), id='MK163648.1', name='MK163648', description='Zaire ebolavirus isolate Ebola virus/H.sapiens-wt/COD/2018/Ituri-BEN070, partial genome', dbxrefs=[]),\n",
       " SeqRecord(seq=Seq('GAGGAAGATTAATAATTTTCCTCTCATTGAAATTTATATCGGAATTTAAATTGA...AAA', IUPACAmbiguousDNA()), id='MK163647.1', name='MK163647', description='Zaire ebolavirus isolate Ebola virus/H.sapiens-wt/COD/2018/Ituri-BEN031, partial genome', dbxrefs=[]),\n",
       " SeqRecord(seq=Seq('GAGGAAGATTAATAATTTTCCTCTCATTGAAATTTATATCGGAATTTAAATTGA...AAA', IUPACAmbiguousDNA()), id='MK163646.1', name='MK163646', description='Zaire ebolavirus isolate Ebola virus/H.sapiens-wt/COD/2018/Ituri-BEN020, partial genome', dbxrefs=[]),\n",
       " SeqRecord(seq=Seq('GAGGAAGATTAATAATTTTCCTCTCATTGAAATTTATATCGGAATTTAAATTGA...AAA', IUPACAmbiguousDNA()), id='MK163645.1', name='MK163645', description='Zaire ebolavirus isolate Ebola virus/H.sapiens-wt/COD/2018/Ituri-BEN018, partial genome', dbxrefs=[]),\n",
       " SeqRecord(seq=Seq('GAGGAAGATTAATAATTTTCCTCTCATTGAAATTTATATCGGAATTTAAATTGA...AAA', IUPACAmbiguousDNA()), id='MK163644.1', name='MK163644', description='Zaire ebolavirus isolate Ebola virus/H.sapiens-wt/COD/2018/Ituri-BEN017, partial genome', dbxrefs=[]),\n",
       " SeqRecord(seq=Seq('GAGGAAGATTAATAATTTTCCTCTCATTGAAATTTATATCGGAATTTAAATTGA...AAA', IUPACAmbiguousDNA()), id='MK088510.1', name='MK088510', description='Zaire ebolavirus isolate Ebola virus/H.sapiens-wt/COD/2018/Ituri-MAN035, partial genome', dbxrefs=[]),\n",
       " SeqRecord(seq=Seq('GAGGAAGATTAATAATTTTCCTCTCATTGAAATTTATATCGGAATTTAAATTGA...AAA', IUPACAmbiguousDNA()), id='MK007344.1', name='MK007344', description='Zaire ebolavirus isolate Ebola virus/H.sapiens-wt/COD/2018/Ituri-MAN065, complete genome', dbxrefs=[]),\n",
       " SeqRecord(seq=Seq('GAGGAAGATTAATAATTTTCCTCTCATTGAAATTTATATCGGAATTTAAATTGA...AAA', IUPACAmbiguousDNA()), id='MK007343.1', name='MK007343', description='Zaire ebolavirus isolate Ebola virus/H.sapiens-wt/COD/2018/Ituri-MAN048, complete genome', dbxrefs=[]),\n",
       " SeqRecord(seq=Seq('GAGGAAGATTAATAATTTTCCTCTCATTGAAATTTATATCGGAATTTAAATTGA...AAA', IUPACAmbiguousDNA()), id='MK007342.1', name='MK007342', description='Zaire ebolavirus isolate Ebola virus/H.sapiens-wt/COD/2018/Ituri-MAN046, complete genome', dbxrefs=[]),\n",
       " SeqRecord(seq=Seq('GAGGAAGATTAATAATTTTCCTCTCATTGAAATTTATATCGGAATTTAAATTGA...AAA', IUPACAmbiguousDNA()), id='MK007341.1', name='MK007341', description='Zaire ebolavirus isolate Ebola virus/H.sapiens-wt/COD/2018/Ituri-MAN042, complete genome', dbxrefs=[]),\n",
       " SeqRecord(seq=Seq('GAGGAAGATTAATAATTTTCCTCTCATTGAAATTTATATCGGAATTTAAATTGA...AAA', IUPACAmbiguousDNA()), id='MK007340.1', name='MK007340', description='Zaire ebolavirus isolate Ebola virus/H.sapiens-wt/COD/2018/Ituri-MAN040, complete genome', dbxrefs=[]),\n",
       " SeqRecord(seq=Seq('GAGGAAGATTAATAATTTTCCTCTCATTGAAATTTATATCGGAATTTAAATTGA...AAA', IUPACAmbiguousDNA()), id='MK007339.1', name='MK007339', description='Zaire ebolavirus isolate Ebola virus/H.sapiens-wt/COD/2018/Ituri-MAN039, complete genome', dbxrefs=[]),\n",
       " SeqRecord(seq=Seq('TTTATATCGGAATTTAAATTGAAATTGTTACTGTAATCACACCTGGTTTGTTTC...AAA', IUPACAmbiguousDNA()), id='MK007338.1', name='MK007338', description='Zaire ebolavirus isolate Ebola virus/H.sapiens-wt/COD/2018/Ituri-MAN037, partial genome', dbxrefs=[]),\n",
       " SeqRecord(seq=Seq('GAGGAAGATTAATAATTTTCCTCTCATTGAAATTTATATCGGAATTTAAATTGA...AAA', IUPACAmbiguousDNA()), id='MK007337.1', name='MK007337', description='Zaire ebolavirus isolate Ebola virus/H.sapiens-wt/COD/2018/Ituri-MAN036, complete genome', dbxrefs=[]),\n",
       " SeqRecord(seq=Seq('GAGGAAGATTAATAATTTTCCTCTCATTGAAATTTATATCGGAATTTAAATTGA...AAA', IUPACAmbiguousDNA()), id='MK007336.1', name='MK007336', description='Zaire ebolavirus isolate Ebola virus/H.sapiens-wt/COD/2018/Ituri-MAN028, complete genome', dbxrefs=[]),\n",
       " SeqRecord(seq=Seq('GAGGAAGATTAATAATTTTCCTCTCATTGAAATTTATATCGGAATTTAAATTGA...AAA', IUPACAmbiguousDNA()), id='MK007335.1', name='MK007335', description='Zaire ebolavirus isolate Ebola virus/H.sapiens-wt/COD/2018/Ituri-MAN025, complete genome', dbxrefs=[]),\n",
       " SeqRecord(seq=Seq('GAGGAAGATTAATAATTTTCCTCTCATTGAAATTTATATCGGAATTTAAATTGA...AAA', IUPACAmbiguousDNA()), id='MK007334.1', name='MK007334', description='Zaire ebolavirus isolate Ebola virus/H.sapiens-wt/COD/2018/Ituri-MAN020, complete genome', dbxrefs=[]),\n",
       " SeqRecord(seq=Seq('GAGGAAGATTAATAATTTTCCTCTCATTGAAATTTATATCGGAATTTAAATTGA...AAA', IUPACAmbiguousDNA()), id='MK007333.1', name='MK007333', description='Zaire ebolavirus isolate Ebola virus/H.sapiens-wt/COD/2018/Ituri-MAN006, complete genome', dbxrefs=[]),\n",
       " SeqRecord(seq=Seq('GAGGAAGATTAATAATTTTCCTCTCATTGAAATTTATATCGGAATTTAAATTGA...AAA', IUPACAmbiguousDNA()), id='MK007332.1', name='MK007332', description='Zaire ebolavirus isolate Ebola virus/H.sapiens-wt/COD/2018/Ituri-MAN003, complete genome', dbxrefs=[]),\n",
       " SeqRecord(seq=Seq('GAGGAAGATTAATAATTTTCCTCTCATTGAAATTTATATCGGAATTTAAATTGA...AAA', IUPACAmbiguousDNA()), id='MK007331.1', name='MK007331', description='Zaire ebolavirus isolate Ebola virus/H.sapiens-wt/COD/2018/Ituri-MAN002, complete genome', dbxrefs=[]),\n",
       " SeqRecord(seq=Seq('GAGGAAGATTAATAATTTTCCTCTCATTGAAATTTATATCGGAATTTAAATTGA...AAA', IUPACAmbiguousDNA()), id='MK007330.1', name='MK007330', description='Zaire ebolavirus isolate Ebola virus/H.sapiens-wt/COD/2018/Ituri-18FHV090, complete genome', dbxrefs=[]),\n",
       " SeqRecord(seq=Seq('GAGGAAGATTAATAATTTTCCTCTCATTGAAATTTATATCGGAATTTAAATTGA...AAA', IUPACAmbiguousDNA()), id='MK007329.1', name='MK007329', description='Zaire ebolavirus isolate Ebola virus/H.sapiens-wt/COD/2018/Ituri-18FHV089, complete genome', dbxrefs=[]),\n",
       " SeqRecord(seq=Seq('GAGGAAGATTAATAATTTTCCTCTCATTGAAATTTATATCGGAATTTAAATTGA...AAA', IUPACAmbiguousDNA()), id='MK731994.1', name='MK731994', description='Zaire ebolavirus isolate Ebola virus/H.sapiens-wt/COD/2018/BEN167-MANA5-14, complete genome', dbxrefs=[]),\n",
       " SeqRecord(seq=Seq('GAGGAAGATTAATAATTTTCCTCTCATTGAAATTTATATCGGAATTTAAATTGA...AAA', IUPACAmbiguousDNA()), id='MK731993.1', name='MK731993', description='Zaire ebolavirus isolate Ebola virus/H.sapiens-wt/COD/2018/BEN167-MANA5-11, complete genome', dbxrefs=[]),\n",
       " SeqRecord(seq=Seq('GAGGAAGATTAATAATTTTCCTCTCATTGAAATTTATATCGGAATTTAAATTGA...AAA', IUPACAmbiguousDNA()), id='MK731992.1', name='MK731992', description='Zaire ebolavirus isolate Ebola virus/H.sapiens-wt/COD/2018/BEN165-MANA3-20, complete genome', dbxrefs=[]),\n",
       " SeqRecord(seq=Seq('GAGGAAGATTAATAATTTTCCTCTCATTGAAATTTATATCGGAATTTAAATTGA...AAA', IUPACAmbiguousDNA()), id='MK731990.1', name='MK731990', description='Zaire ebolavirus isolate Ebola virus/H.sapiens-wt/COD/2018/BEN164-MANA1-17, complete genome', dbxrefs=[]),\n",
       " SeqRecord(seq=Seq('GAGGAAGATTAATAATTTTCCTCTCATTGAAATTTATATCGGAATTTAAATTGA...AAA', IUPACAmbiguousDNA()), id='MK731989.1', name='MK731989', description='Zaire ebolavirus isolate Ebola virus/H.sapiens-wt/COD/2018/BEN164-MANA1-16, complete genome', dbxrefs=[]),\n",
       " SeqRecord(seq=Seq('GAGGAAGATTAATAATTTTCCTCTCATTGAAATTTATATCGGAATTTAAATTGA...AAA', IUPACAmbiguousDNA()), id='MK731988.1', name='MK731988', description='Zaire ebolavirus isolate Ebola virus/H.sapiens-wt/COD/2018/BEN164-MANA1-13, complete genome', dbxrefs=[]),\n",
       " SeqRecord(seq=Seq('GAGGAAGATTAATAATTTTCCTCTCATTGAAATTTATATCGGAATTTAAATTGA...AAA', IUPACAmbiguousDNA()), id='MK731987.1', name='MK731987', description='Zaire ebolavirus isolate Ebola virus/H.sapiens-wt/COD/2018/BEN164-MANA1-11, complete genome', dbxrefs=[]),\n",
       " SeqRecord(seq=Seq('GAGGAAGATTAATAATTTTCCTCTCATTGAAATTTATATCGGAATTTAAATTGA...AAA', IUPACAmbiguousDNA()), id='MK731986.1', name='MK731986', description='Zaire ebolavirus isolate Ebola virus/H.sapiens-wt/COD/2018/BEN163-MANA2-16, complete genome', dbxrefs=[]),\n",
       " SeqRecord(seq=Seq('GAGGAAGATTAATAATTTTCCTCTCATTGAAATTTATATCGGAATTTAAATTGA...AAA', IUPACAmbiguousDNA()), id='MK731985.1', name='MK731985', description='Zaire ebolavirus isolate Ebola virus/H.sapiens-wt/COD/2018/BEN163-MANA2-13, complete genome', dbxrefs=[]),\n",
       " SeqRecord(seq=Seq('GAGGAAGATTAATAATTTTCCTCTCACTGAAATCTATATCGGAATTTAAATTGA...AAA', IUPACAmbiguousDNA()), id='MK088515.1', name='MK088515', description='Zaire ebolavirus isolate Ebola virus/H.sapiens-wt/COD/2017/Muyembe-18FHV012b, complete genome', dbxrefs=[])]"
      ]
     },
     "execution_count": 5,
     "metadata": {},
     "output_type": "execute_result"
    }
   ],
   "source": [
    "from Bio.Seq import Seq\n",
    "from Bio.SeqRecord import SeqRecord\n",
    "\n",
    "\n",
    "ituri_seqs = SeqIO.parse('data/Ituri_sequences.gb', 'genbank')\n",
    "NP_records = []\n",
    "\n",
    "for record in ituri_seqs:\n",
    "    for feature in record.features:\n",
    "        if feature.type == 'gene' and feature.qualifiers['gene'] == ['NP']:\n",
    "            NP_gene_seq = feature.extract(record.seq)\n",
    "            NP_record = SeqRecord(NP_gene_seq,\n",
    "                                  id=record.id, name=record.name,\n",
    "                                  description=record.description)\n",
    "            NP_records.append(NP_record)\n",
    "\n",
    "\n",
    "print(len(NP_records))\n",
    "NP_records"
   ]
  },
  {
   "cell_type": "markdown",
   "metadata": {},
   "source": [
    "## 3 - Now use the `SeqIO.write()` to write this list to a genbank file to a name of your choice."
   ]
  },
  {
   "cell_type": "code",
   "execution_count": null,
   "metadata": {},
   "outputs": [],
   "source": [
    "# your code goes here..."
   ]
  },
  {
   "cell_type": "code",
   "execution_count": 8,
   "metadata": {
    "cell_type": "solution"
   },
   "outputs": [
    {
     "data": {
      "text/plain": [
       "59"
      ]
     },
     "execution_count": 8,
     "metadata": {},
     "output_type": "execute_result"
    }
   ],
   "source": [
    "SeqIO.write(NP_records, 'data/output/solutions/Ituri_NPgenes.gb', 'genbank')"
   ]
  },
  {
   "cell_type": "markdown",
   "metadata": {},
   "source": [
    "## 4 - Convert your newly created genbank file into a fasta file."
   ]
  },
  {
   "cell_type": "code",
   "execution_count": null,
   "metadata": {},
   "outputs": [],
   "source": [
    "# your code goes here..."
   ]
  },
  {
   "cell_type": "code",
   "execution_count": 9,
   "metadata": {
    "cell_type": "solution"
   },
   "outputs": [
    {
     "data": {
      "text/plain": [
       "59"
      ]
     },
     "execution_count": 9,
     "metadata": {},
     "output_type": "execute_result"
    }
   ],
   "source": [
    "SeqIO.convert('data/output/solutions/Ituri_NPgenes.gb', 'genbank', 'data/output/solutions/Ituri_NPgenes.fasta', 'fasta')"
   ]
  },
  {
   "cell_type": "markdown",
   "metadata": {},
   "source": [
    "Great Job! 😃"
   ]
  }
 ],
 "metadata": {
  "kernelspec": {
   "display_name": "Python 3",
   "language": "python",
   "name": "python3"
  },
  "language_info": {
   "codemirror_mode": {
    "name": "ipython",
    "version": 3
   },
   "file_extension": ".py",
   "mimetype": "text/x-python",
   "name": "python",
   "nbconvert_exporter": "python",
   "pygments_lexer": "ipython3",
   "version": "3.8.1"
  }
 },
 "nbformat": 4,
 "nbformat_minor": 4
}
