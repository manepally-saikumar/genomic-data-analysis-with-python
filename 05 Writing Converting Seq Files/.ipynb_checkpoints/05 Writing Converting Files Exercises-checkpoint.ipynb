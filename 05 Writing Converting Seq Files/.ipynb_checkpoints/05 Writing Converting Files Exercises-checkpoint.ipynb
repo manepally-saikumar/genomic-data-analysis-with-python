{
 "cells": [
  {
   "cell_type": "markdown",
   "metadata": {},
   "source": [
    "![rmotr](https://user-images.githubusercontent.com/7065401/52071918-bda15380-2562-11e9-828c-7f95297e4a82.png)\n",
    "<hr style=\"margin-bottom: 40px;\">\n",
    "\n",
    "# Python for Genomics \n",
    "## Section 5: Writing and Converting Files Exercises \n",
    "\n",
    "![purple-divider](https://user-images.githubusercontent.com/7065401/52071927-c1cd7100-2562-11e9-908a-dde91ba14e59.png)"
   ]
  },
  {
   "cell_type": "markdown",
   "metadata": {},
   "source": [
    "## 1 - Let's write your freshly extracted NP sequences to a file using `SeqIO.write()`\n",
    "\n",
    "Remember those Ituri province NP (nucleoprotein) sequences from that genbank file that you saved to a list (in the last exercise notebook from section4)? I'll rewrite the code for that below:"
   ]
  },
  {
   "cell_type": "code",
   "execution_count": 4,
   "metadata": {},
   "outputs": [],
   "source": [
    "from Bio import SeqIO\n",
    "\n",
    "ituri_seqs = SeqIO.parse('data/Ituri_sequences.gb', 'genbank')\n",
    "\n",
    "NP_list = []\n",
    "\n",
    "for record in ituri_seqs:\n",
    "    for feature in record.features:\n",
    "        if feature.type == 'gene' and feature.qualifiers['gene'] == ['NP']:\n",
    "            NP_gene = feature.extract(record.seq)\n",
    "            NP_list.append(NP_gene)"
   ]
  },
  {
   "cell_type": "markdown",
   "metadata": {},
   "source": [
    "Go ahead and take a look at NP_list"
   ]
  }
 ],
 "metadata": {
  "kernelspec": {
   "display_name": "Python 3",
   "language": "python",
   "name": "python3"
  },
  "language_info": {
   "codemirror_mode": {
    "name": "ipython",
    "version": 3
   },
   "file_extension": ".py",
   "mimetype": "text/x-python",
   "name": "python",
   "nbconvert_exporter": "python",
   "pygments_lexer": "ipython3",
   "version": "3.8.1"
  }
 },
 "nbformat": 4,
 "nbformat_minor": 4
}
